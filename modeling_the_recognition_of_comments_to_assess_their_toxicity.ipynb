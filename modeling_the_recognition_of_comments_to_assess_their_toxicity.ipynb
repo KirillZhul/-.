{
 "cells": [
  {
   "cell_type": "markdown",
   "metadata": {},
   "source": [
    "# Классификация комментариев с моделью BERT и без неё (GPU)"
   ]
  },
  {
   "cell_type": "markdown",
   "metadata": {},
   "source": [
    "Интернет-магазин «Викишоп» запускает новый сервис. Теперь пользователи могут редактировать и дополнять описания товаров, как в вики-сообществах. То есть клиенты предлагают свои правки и комментируют изменения других. Магазину нужен инструмент, который будет искать токсичные комментарии и отправлять их на модерацию. \n",
    "\n",
    "Обучите модель классифицировать комментарии на позитивные и негативные. В вашем распоряжении набор данных с разметкой о токсичности правок.\n",
    "\n",
    "Постройте модель со значением метрики качества *F1* не меньше 0.75. \n",
    "\n",
    "**Инструкция по выполнению проекта**\n",
    "\n",
    "1. Загрузите и подготовьте данные.\n",
    "2. Обучите разные модели. \n",
    "3. Сделайте выводы.\n",
    "\n",
    "Для выполнения проекта применять *BERT* необязательно, но вы можете попробовать.\n",
    "\n",
    "**Описание данных**\n",
    "\n",
    "Данные находятся в файле `toxic_comments.csv`. Столбец *text* в нём содержит текст комментария, а *toxic* — целевой признак."
   ]
  },
  {
   "cell_type": "markdown",
   "metadata": {},
   "source": [
    "## Подготовка"
   ]
  },
  {
   "cell_type": "markdown",
   "metadata": {},
   "source": [
    "### Импорт компонентов, библиотек и модулей"
   ]
  },
  {
   "cell_type": "code",
   "execution_count": 1,
   "metadata": {},
   "outputs": [],
   "source": [
    "import pandas as pd\n",
    "import numpy as np\n",
    "import time\n",
    "import lightgbm as lgbm\n",
    "\n",
    "\n",
    "import tensorflow as tf\n",
    "from tqdm.notebook import tqdm\n",
    "import ipyparallel as ipp\n",
    "\n",
    "import torch\n",
    "import transformers\n",
    "import re\n",
    "\n",
    "from sklearn.feature_extraction.text import CountVectorizer, TfidfVectorizer\n",
    "\n",
    "from sklearn.model_selection import train_test_split\n",
    "\n",
    "from sklearn.linear_model import LogisticRegression\n",
    "from sklearn.ensemble import RandomForestClassifier\n",
    "from lightgbm import LGBMClassifier\n",
    "from catboost import CatBoostClassifier\n",
    "\n",
    "from sklearn.model_selection import cross_val_score\n",
    "from sklearn.model_selection import GridSearchCV\n",
    "from sklearn.model_selection import cross_val_predict\n",
    "\n",
    "from sklearn.metrics import f1_score\n",
    "\n",
    "import warnings\n",
    "warnings.filterwarnings('ignore')\n",
    "\n",
    "import spacy\n",
    "from sklearn.base import TransformerMixin\n",
    "from sklearn.pipeline import Pipeline\n",
    "import string\n",
    "from spacy.lang.en.stop_words import STOP_WORDS\n",
    "from spacy.lang.en import English\n",
    "from sklearn.utils import resample"
   ]
  },
  {
   "cell_type": "code",
   "execution_count": 2,
   "metadata": {},
   "outputs": [
    {
     "data": {
      "text/plain": [
       "True"
      ]
     },
     "execution_count": 2,
     "metadata": {},
     "output_type": "execute_result"
    }
   ],
   "source": [
    "torch.backends.cudnn.enabled"
   ]
  },
  {
   "cell_type": "code",
   "execution_count": 3,
   "metadata": {},
   "outputs": [
    {
     "data": {
      "text/plain": [
       "True"
      ]
     },
     "execution_count": 3,
     "metadata": {},
     "output_type": "execute_result"
    }
   ],
   "source": [
    "torch.cuda.is_available()"
   ]
  },
  {
   "cell_type": "code",
   "execution_count": 4,
   "metadata": {},
   "outputs": [],
   "source": [
    "import multiprocessing\n",
    "n_jobs = multiprocessing.cpu_count()-1"
   ]
  },
  {
   "cell_type": "code",
   "execution_count": 5,
   "metadata": {
    "scrolled": true
   },
   "outputs": [
    {
     "name": "stdout",
     "output_type": "stream",
     "text": [
      "Running on the GPU\n"
     ]
    }
   ],
   "source": [
    "if torch.cuda.is_available():\n",
    "    device = torch.device(\"cuda:0\")  \n",
    "    print(\"Running on the GPU\")\n",
    "else:\n",
    "    device = torch.device(\"cpu\")\n",
    "    print(\"Running on the CPU\")"
   ]
  },
  {
   "cell_type": "code",
   "execution_count": 6,
   "metadata": {},
   "outputs": [],
   "source": [
    "torch.cuda.empty_cache()"
   ]
  },
  {
   "cell_type": "markdown",
   "metadata": {},
   "source": [
    "### Загрузка датасета, изучение данных"
   ]
  },
  {
   "cell_type": "code",
   "execution_count": 7,
   "metadata": {
    "scrolled": false
   },
   "outputs": [
    {
     "data": {
      "text/html": [
       "<div>\n",
       "<style scoped>\n",
       "    .dataframe tbody tr th:only-of-type {\n",
       "        vertical-align: middle;\n",
       "    }\n",
       "\n",
       "    .dataframe tbody tr th {\n",
       "        vertical-align: top;\n",
       "    }\n",
       "\n",
       "    .dataframe thead th {\n",
       "        text-align: right;\n",
       "    }\n",
       "</style>\n",
       "<table border=\"1\" class=\"dataframe\">\n",
       "  <thead>\n",
       "    <tr style=\"text-align: right;\">\n",
       "      <th></th>\n",
       "      <th>Unnamed: 0</th>\n",
       "      <th>text</th>\n",
       "      <th>toxic</th>\n",
       "    </tr>\n",
       "  </thead>\n",
       "  <tbody>\n",
       "    <tr>\n",
       "      <th>0</th>\n",
       "      <td>0</td>\n",
       "      <td>Explanation\\nWhy the edits made under my usern...</td>\n",
       "      <td>0</td>\n",
       "    </tr>\n",
       "    <tr>\n",
       "      <th>1</th>\n",
       "      <td>1</td>\n",
       "      <td>D'aww! He matches this background colour I'm s...</td>\n",
       "      <td>0</td>\n",
       "    </tr>\n",
       "    <tr>\n",
       "      <th>2</th>\n",
       "      <td>2</td>\n",
       "      <td>Hey man, I'm really not trying to edit war. It...</td>\n",
       "      <td>0</td>\n",
       "    </tr>\n",
       "    <tr>\n",
       "      <th>3</th>\n",
       "      <td>3</td>\n",
       "      <td>\"\\nMore\\nI can't make any real suggestions on ...</td>\n",
       "      <td>0</td>\n",
       "    </tr>\n",
       "    <tr>\n",
       "      <th>4</th>\n",
       "      <td>4</td>\n",
       "      <td>You, sir, are my hero. Any chance you remember...</td>\n",
       "      <td>0</td>\n",
       "    </tr>\n",
       "    <tr>\n",
       "      <th>...</th>\n",
       "      <td>...</td>\n",
       "      <td>...</td>\n",
       "      <td>...</td>\n",
       "    </tr>\n",
       "    <tr>\n",
       "      <th>159287</th>\n",
       "      <td>159446</td>\n",
       "      <td>\":::::And for the second time of asking, when ...</td>\n",
       "      <td>0</td>\n",
       "    </tr>\n",
       "    <tr>\n",
       "      <th>159288</th>\n",
       "      <td>159447</td>\n",
       "      <td>You should be ashamed of yourself \\n\\nThat is ...</td>\n",
       "      <td>0</td>\n",
       "    </tr>\n",
       "    <tr>\n",
       "      <th>159289</th>\n",
       "      <td>159448</td>\n",
       "      <td>Spitzer \\n\\nUmm, theres no actual article for ...</td>\n",
       "      <td>0</td>\n",
       "    </tr>\n",
       "    <tr>\n",
       "      <th>159290</th>\n",
       "      <td>159449</td>\n",
       "      <td>And it looks like it was actually you who put ...</td>\n",
       "      <td>0</td>\n",
       "    </tr>\n",
       "    <tr>\n",
       "      <th>159291</th>\n",
       "      <td>159450</td>\n",
       "      <td>\"\\nAnd ... I really don't think you understand...</td>\n",
       "      <td>0</td>\n",
       "    </tr>\n",
       "  </tbody>\n",
       "</table>\n",
       "<p>159292 rows × 3 columns</p>\n",
       "</div>"
      ],
      "text/plain": [
       "        Unnamed: 0                                               text  toxic\n",
       "0                0  Explanation\\nWhy the edits made under my usern...      0\n",
       "1                1  D'aww! He matches this background colour I'm s...      0\n",
       "2                2  Hey man, I'm really not trying to edit war. It...      0\n",
       "3                3  \"\\nMore\\nI can't make any real suggestions on ...      0\n",
       "4                4  You, sir, are my hero. Any chance you remember...      0\n",
       "...            ...                                                ...    ...\n",
       "159287      159446  \":::::And for the second time of asking, when ...      0\n",
       "159288      159447  You should be ashamed of yourself \\n\\nThat is ...      0\n",
       "159289      159448  Spitzer \\n\\nUmm, theres no actual article for ...      0\n",
       "159290      159449  And it looks like it was actually you who put ...      0\n",
       "159291      159450  \"\\nAnd ... I really don't think you understand...      0\n",
       "\n",
       "[159292 rows x 3 columns]"
      ]
     },
     "execution_count": 7,
     "metadata": {},
     "output_type": "execute_result"
    }
   ],
   "source": [
    "try:\n",
    "    data = pd.read_csv('C:\\\\Users\\\\a1\\\\Desktop\\\\toxic_comments.csv')\n",
    "except:\n",
    "    data = pd.read_csv('/datasets/toxic_comments.csv')\n",
    "data"
   ]
  },
  {
   "cell_type": "code",
   "execution_count": 8,
   "metadata": {},
   "outputs": [
    {
     "data": {
      "text/plain": [
       "(159292, 3)"
      ]
     },
     "execution_count": 8,
     "metadata": {},
     "output_type": "execute_result"
    }
   ],
   "source": [
    "data.shape"
   ]
  },
  {
   "cell_type": "code",
   "execution_count": 9,
   "metadata": {
    "scrolled": true
   },
   "outputs": [
    {
     "name": "stdout",
     "output_type": "stream",
     "text": [
      "<class 'pandas.core.frame.DataFrame'>\n",
      "RangeIndex: 159292 entries, 0 to 159291\n",
      "Data columns (total 3 columns):\n",
      " #   Column      Non-Null Count   Dtype \n",
      "---  ------      --------------   ----- \n",
      " 0   Unnamed: 0  159292 non-null  int64 \n",
      " 1   text        159292 non-null  object\n",
      " 2   toxic       159292 non-null  int64 \n",
      "dtypes: int64(2), object(1)\n",
      "memory usage: 3.6+ MB\n"
     ]
    }
   ],
   "source": [
    "data.info()"
   ]
  },
  {
   "cell_type": "code",
   "execution_count": 10,
   "metadata": {},
   "outputs": [
    {
     "data": {
      "text/html": [
       "<div>\n",
       "<style scoped>\n",
       "    .dataframe tbody tr th:only-of-type {\n",
       "        vertical-align: middle;\n",
       "    }\n",
       "\n",
       "    .dataframe tbody tr th {\n",
       "        vertical-align: top;\n",
       "    }\n",
       "\n",
       "    .dataframe thead th {\n",
       "        text-align: right;\n",
       "    }\n",
       "</style>\n",
       "<table border=\"1\" class=\"dataframe\">\n",
       "  <thead>\n",
       "    <tr style=\"text-align: right;\">\n",
       "      <th></th>\n",
       "      <th>Unnamed: 0</th>\n",
       "      <th>toxic</th>\n",
       "    </tr>\n",
       "  </thead>\n",
       "  <tbody>\n",
       "    <tr>\n",
       "      <th>count</th>\n",
       "      <td>159292.000000</td>\n",
       "      <td>159292.000000</td>\n",
       "    </tr>\n",
       "    <tr>\n",
       "      <th>mean</th>\n",
       "      <td>79725.697242</td>\n",
       "      <td>0.101612</td>\n",
       "    </tr>\n",
       "    <tr>\n",
       "      <th>std</th>\n",
       "      <td>46028.837471</td>\n",
       "      <td>0.302139</td>\n",
       "    </tr>\n",
       "    <tr>\n",
       "      <th>min</th>\n",
       "      <td>0.000000</td>\n",
       "      <td>0.000000</td>\n",
       "    </tr>\n",
       "    <tr>\n",
       "      <th>25%</th>\n",
       "      <td>39872.750000</td>\n",
       "      <td>0.000000</td>\n",
       "    </tr>\n",
       "    <tr>\n",
       "      <th>50%</th>\n",
       "      <td>79721.500000</td>\n",
       "      <td>0.000000</td>\n",
       "    </tr>\n",
       "    <tr>\n",
       "      <th>75%</th>\n",
       "      <td>119573.250000</td>\n",
       "      <td>0.000000</td>\n",
       "    </tr>\n",
       "    <tr>\n",
       "      <th>max</th>\n",
       "      <td>159450.000000</td>\n",
       "      <td>1.000000</td>\n",
       "    </tr>\n",
       "  </tbody>\n",
       "</table>\n",
       "</div>"
      ],
      "text/plain": [
       "          Unnamed: 0          toxic\n",
       "count  159292.000000  159292.000000\n",
       "mean    79725.697242       0.101612\n",
       "std     46028.837471       0.302139\n",
       "min         0.000000       0.000000\n",
       "25%     39872.750000       0.000000\n",
       "50%     79721.500000       0.000000\n",
       "75%    119573.250000       0.000000\n",
       "max    159450.000000       1.000000"
      ]
     },
     "execution_count": 10,
     "metadata": {},
     "output_type": "execute_result"
    }
   ],
   "source": [
    "data.describe()"
   ]
  },
  {
   "cell_type": "markdown",
   "metadata": {},
   "source": [
    "#### Пропуски"
   ]
  },
  {
   "cell_type": "markdown",
   "metadata": {},
   "source": [
    "Проверим наличие пропусков:"
   ]
  },
  {
   "cell_type": "code",
   "execution_count": 11,
   "metadata": {},
   "outputs": [
    {
     "data": {
      "text/plain": [
       "Unnamed: 0    0\n",
       "text          0\n",
       "toxic         0\n",
       "dtype: int64"
      ]
     },
     "execution_count": 11,
     "metadata": {},
     "output_type": "execute_result"
    }
   ],
   "source": [
    "data.isnull().sum()"
   ]
  },
  {
   "cell_type": "markdown",
   "metadata": {},
   "source": [
    "Пропусков нет."
   ]
  },
  {
   "cell_type": "markdown",
   "metadata": {},
   "source": [
    "#### Дубликаты"
   ]
  },
  {
   "cell_type": "markdown",
   "metadata": {},
   "source": [
    "Проверим наличие дубликатов:"
   ]
  },
  {
   "cell_type": "code",
   "execution_count": 12,
   "metadata": {},
   "outputs": [
    {
     "data": {
      "text/plain": [
       "0"
      ]
     },
     "execution_count": 12,
     "metadata": {},
     "output_type": "execute_result"
    }
   ],
   "source": [
    "data.duplicated().sum()"
   ]
  },
  {
   "cell_type": "markdown",
   "metadata": {},
   "source": [
    "Дубликатов нет."
   ]
  },
  {
   "cell_type": "markdown",
   "metadata": {},
   "source": [
    "#### Соотношение классов"
   ]
  },
  {
   "cell_type": "markdown",
   "metadata": {},
   "source": [
    "Определим соотношение классов:"
   ]
  },
  {
   "cell_type": "code",
   "execution_count": 13,
   "metadata": {},
   "outputs": [
    {
     "data": {
      "text/plain": [
       "0.11310497114027364"
      ]
     },
     "execution_count": 13,
     "metadata": {},
     "output_type": "execute_result"
    }
   ],
   "source": [
    "data.query('toxic == 1')\n",
    "len(data.query('toxic == 1'))/len(data.query('toxic == 0'))"
   ]
  },
  {
   "cell_type": "markdown",
   "metadata": {},
   "source": [
    "11% комментариев, которые обозначены как \"токсичные\". Балансировка классов не будет использоваться, во избежание утечки из обучающей выборки в тестовую, так как будем выполнять кросс-валидацию.."
   ]
  },
  {
   "cell_type": "markdown",
   "metadata": {},
   "source": [
    "#### Удаление не актуальных данных"
   ]
  },
  {
   "cell_type": "markdown",
   "metadata": {},
   "source": [
    "Избавимся от столбца \"Unnamed: 0\" с не акуальными данными:"
   ]
  },
  {
   "cell_type": "code",
   "execution_count": 14,
   "metadata": {},
   "outputs": [],
   "source": [
    "data = data.drop(['Unnamed: 0'], axis=1)"
   ]
  },
  {
   "cell_type": "markdown",
   "metadata": {},
   "source": [
    "Проверим:"
   ]
  },
  {
   "cell_type": "code",
   "execution_count": 15,
   "metadata": {},
   "outputs": [
    {
     "data": {
      "text/html": [
       "<div>\n",
       "<style scoped>\n",
       "    .dataframe tbody tr th:only-of-type {\n",
       "        vertical-align: middle;\n",
       "    }\n",
       "\n",
       "    .dataframe tbody tr th {\n",
       "        vertical-align: top;\n",
       "    }\n",
       "\n",
       "    .dataframe thead th {\n",
       "        text-align: right;\n",
       "    }\n",
       "</style>\n",
       "<table border=\"1\" class=\"dataframe\">\n",
       "  <thead>\n",
       "    <tr style=\"text-align: right;\">\n",
       "      <th></th>\n",
       "      <th>text</th>\n",
       "      <th>toxic</th>\n",
       "    </tr>\n",
       "  </thead>\n",
       "  <tbody>\n",
       "    <tr>\n",
       "      <th>0</th>\n",
       "      <td>Explanation\\nWhy the edits made under my usern...</td>\n",
       "      <td>0</td>\n",
       "    </tr>\n",
       "    <tr>\n",
       "      <th>1</th>\n",
       "      <td>D'aww! He matches this background colour I'm s...</td>\n",
       "      <td>0</td>\n",
       "    </tr>\n",
       "    <tr>\n",
       "      <th>2</th>\n",
       "      <td>Hey man, I'm really not trying to edit war. It...</td>\n",
       "      <td>0</td>\n",
       "    </tr>\n",
       "    <tr>\n",
       "      <th>3</th>\n",
       "      <td>\"\\nMore\\nI can't make any real suggestions on ...</td>\n",
       "      <td>0</td>\n",
       "    </tr>\n",
       "    <tr>\n",
       "      <th>4</th>\n",
       "      <td>You, sir, are my hero. Any chance you remember...</td>\n",
       "      <td>0</td>\n",
       "    </tr>\n",
       "  </tbody>\n",
       "</table>\n",
       "</div>"
      ],
      "text/plain": [
       "                                                text  toxic\n",
       "0  Explanation\\nWhy the edits made under my usern...      0\n",
       "1  D'aww! He matches this background colour I'm s...      0\n",
       "2  Hey man, I'm really not trying to edit war. It...      0\n",
       "3  \"\\nMore\\nI can't make any real suggestions on ...      0\n",
       "4  You, sir, are my hero. Any chance you remember...      0"
      ]
     },
     "execution_count": 15,
     "metadata": {},
     "output_type": "execute_result"
    }
   ],
   "source": [
    "data.head()"
   ]
  },
  {
   "cell_type": "markdown",
   "metadata": {},
   "source": [
    "### Подготовка данных"
   ]
  },
  {
   "cell_type": "markdown",
   "metadata": {},
   "source": [
    "Для подготовки теста для обучения моделей-регрессоров будем использовать как модель BERT, так и варианты без её применения."
   ]
  },
  {
   "cell_type": "markdown",
   "metadata": {},
   "source": [
    "Так как модель BERT использует уже готовые списки для работы с текстом, произведём подготовку для работы с текстом для варианта с использованием векторайзера TF-IDF.."
   ]
  },
  {
   "cell_type": "markdown",
   "metadata": {},
   "source": [
    "#### Данные для классификации без использования модели BERT"
   ]
  },
  {
   "cell_type": "markdown",
   "metadata": {},
   "source": [
    "В качестве токенизатора с готовыми списками будем использовать библиотеку spyCy, как более точную альтернативу библиотеки NLTK, изучению которой уделялось внимание в периоде обучения на курсе DS."
   ]
  },
  {
   "cell_type": "markdown",
   "metadata": {},
   "source": [
    "Загрузка основной модели английского языка из spaCy:"
   ]
  },
  {
   "cell_type": "code",
   "execution_count": 16,
   "metadata": {},
   "outputs": [],
   "source": [
    "nlp = spacy.load('en_core_web_sm', disable=['parser', 'ner'])"
   ]
  },
  {
   "cell_type": "markdown",
   "metadata": {},
   "source": [
    "Зададим стоп-слова библиотеки spaCy:"
   ]
  },
  {
   "cell_type": "code",
   "execution_count": 17,
   "metadata": {},
   "outputs": [
    {
     "name": "stdout",
     "output_type": "stream",
     "text": [
      "Number of stop words: 326\n"
     ]
    }
   ],
   "source": [
    "stop_words = spacy.lang.en.stop_words.STOP_WORDS\n",
    "print('Number of stop words: %d' % len(stop_words))"
   ]
  },
  {
   "cell_type": "markdown",
   "metadata": {},
   "source": [
    "Произведём разбор текстов моделью с последующими токенизацией и лемматизацией текстов:"
   ]
  },
  {
   "cell_type": "code",
   "execution_count": 18,
   "metadata": {},
   "outputs": [
    {
     "data": {
      "application/vnd.jupyter.widget-view+json": {
       "model_id": "6d822b2635f04a048177b6655e534242",
       "version_major": 2,
       "version_minor": 0
      },
      "text/plain": [
       "  0%|          | 0/159292 [00:00<?, ?it/s]"
      ]
     },
     "metadata": {},
     "output_type": "display_data"
    },
    {
     "name": "stdout",
     "output_type": "stream",
     "text": [
      "Wall time: 18min 19s\n"
     ]
    },
    {
     "data": {
      "text/html": [
       "<div>\n",
       "<style scoped>\n",
       "    .dataframe tbody tr th:only-of-type {\n",
       "        vertical-align: middle;\n",
       "    }\n",
       "\n",
       "    .dataframe tbody tr th {\n",
       "        vertical-align: top;\n",
       "    }\n",
       "\n",
       "    .dataframe thead th {\n",
       "        text-align: right;\n",
       "    }\n",
       "</style>\n",
       "<table border=\"1\" class=\"dataframe\">\n",
       "  <thead>\n",
       "    <tr style=\"text-align: right;\">\n",
       "      <th></th>\n",
       "      <th>text</th>\n",
       "      <th>toxic</th>\n",
       "      <th>final_text</th>\n",
       "    </tr>\n",
       "  </thead>\n",
       "  <tbody>\n",
       "    <tr>\n",
       "      <th>0</th>\n",
       "      <td>Explanation\\nWhy the edits made under my usern...</td>\n",
       "      <td>0</td>\n",
       "      <td>explanation \\n why the edit make under my user...</td>\n",
       "    </tr>\n",
       "    <tr>\n",
       "      <th>1</th>\n",
       "      <td>D'aww! He matches this background colour I'm s...</td>\n",
       "      <td>0</td>\n",
       "      <td>d'aww ! he match this background colour I be s...</td>\n",
       "    </tr>\n",
       "    <tr>\n",
       "      <th>2</th>\n",
       "      <td>Hey man, I'm really not trying to edit war. It...</td>\n",
       "      <td>0</td>\n",
       "      <td>hey man , I be really not try to edit war . it...</td>\n",
       "    </tr>\n",
       "    <tr>\n",
       "      <th>3</th>\n",
       "      <td>\"\\nMore\\nI can't make any real suggestions on ...</td>\n",
       "      <td>0</td>\n",
       "      <td>\" \\n More \\n I can not make any real suggestio...</td>\n",
       "    </tr>\n",
       "    <tr>\n",
       "      <th>4</th>\n",
       "      <td>You, sir, are my hero. Any chance you remember...</td>\n",
       "      <td>0</td>\n",
       "      <td>you , sir , be my hero . any chance you rememb...</td>\n",
       "    </tr>\n",
       "  </tbody>\n",
       "</table>\n",
       "</div>"
      ],
      "text/plain": [
       "                                                text  toxic  \\\n",
       "0  Explanation\\nWhy the edits made under my usern...      0   \n",
       "1  D'aww! He matches this background colour I'm s...      0   \n",
       "2  Hey man, I'm really not trying to edit war. It...      0   \n",
       "3  \"\\nMore\\nI can't make any real suggestions on ...      0   \n",
       "4  You, sir, are my hero. Any chance you remember...      0   \n",
       "\n",
       "                                          final_text  \n",
       "0  explanation \\n why the edit make under my user...  \n",
       "1  d'aww ! he match this background colour I be s...  \n",
       "2  hey man , I be really not try to edit war . it...  \n",
       "3  \" \\n More \\n I can not make any real suggestio...  \n",
       "4  you , sir , be my hero . any chance you rememb...  "
      ]
     },
     "execution_count": 18,
     "metadata": {},
     "output_type": "execute_result"
    }
   ],
   "source": [
    "%%time\n",
    "tqdm.pandas()\n",
    "data['final_text'] = data['text'].progress_apply(lambda x: ' '.join([token.lemma_ for token in nlp(x)]))\n",
    "data.head()"
   ]
  },
  {
   "cell_type": "markdown",
   "metadata": {},
   "source": [
    "Произведём очистку текста от символов, не являющихся словами:"
   ]
  },
  {
   "cell_type": "code",
   "execution_count": 19,
   "metadata": {
    "scrolled": true
   },
   "outputs": [
    {
     "name": "stdout",
     "output_type": "stream",
     "text": [
      "Wall time: 4.75 s\n"
     ]
    },
    {
     "data": {
      "text/html": [
       "<div>\n",
       "<style scoped>\n",
       "    .dataframe tbody tr th:only-of-type {\n",
       "        vertical-align: middle;\n",
       "    }\n",
       "\n",
       "    .dataframe tbody tr th {\n",
       "        vertical-align: top;\n",
       "    }\n",
       "\n",
       "    .dataframe thead th {\n",
       "        text-align: right;\n",
       "    }\n",
       "</style>\n",
       "<table border=\"1\" class=\"dataframe\">\n",
       "  <thead>\n",
       "    <tr style=\"text-align: right;\">\n",
       "      <th></th>\n",
       "      <th>text</th>\n",
       "      <th>toxic</th>\n",
       "      <th>final_text</th>\n",
       "    </tr>\n",
       "  </thead>\n",
       "  <tbody>\n",
       "    <tr>\n",
       "      <th>0</th>\n",
       "      <td>Explanation\\nWhy the edits made under my usern...</td>\n",
       "      <td>0</td>\n",
       "      <td>explanation why the edit make under my usernam...</td>\n",
       "    </tr>\n",
       "    <tr>\n",
       "      <th>1</th>\n",
       "      <td>D'aww! He matches this background colour I'm s...</td>\n",
       "      <td>0</td>\n",
       "      <td>d'aww he match this background colour i be see...</td>\n",
       "    </tr>\n",
       "    <tr>\n",
       "      <th>2</th>\n",
       "      <td>Hey man, I'm really not trying to edit war. It...</td>\n",
       "      <td>0</td>\n",
       "      <td>hey man i be really not try to edit war it be ...</td>\n",
       "    </tr>\n",
       "    <tr>\n",
       "      <th>3</th>\n",
       "      <td>\"\\nMore\\nI can't make any real suggestions on ...</td>\n",
       "      <td>0</td>\n",
       "      <td>more i can not make any real suggestion on imp...</td>\n",
       "    </tr>\n",
       "    <tr>\n",
       "      <th>4</th>\n",
       "      <td>You, sir, are my hero. Any chance you remember...</td>\n",
       "      <td>0</td>\n",
       "      <td>you sir be my hero any chance you remember wha...</td>\n",
       "    </tr>\n",
       "  </tbody>\n",
       "</table>\n",
       "</div>"
      ],
      "text/plain": [
       "                                                text  toxic  \\\n",
       "0  Explanation\\nWhy the edits made under my usern...      0   \n",
       "1  D'aww! He matches this background colour I'm s...      0   \n",
       "2  Hey man, I'm really not trying to edit war. It...      0   \n",
       "3  \"\\nMore\\nI can't make any real suggestions on ...      0   \n",
       "4  You, sir, are my hero. Any chance you remember...      0   \n",
       "\n",
       "                                          final_text  \n",
       "0  explanation why the edit make under my usernam...  \n",
       "1  d'aww he match this background colour i be see...  \n",
       "2  hey man i be really not try to edit war it be ...  \n",
       "3  more i can not make any real suggestion on imp...  \n",
       "4  you sir be my hero any chance you remember wha...  "
      ]
     },
     "execution_count": 19,
     "metadata": {},
     "output_type": "execute_result"
    }
   ],
   "source": [
    "%%time\n",
    "tqdm.pandas()\n",
    "data['final_text'] = data['final_text'].apply(\n",
    "    lambda x: ' '.join(\n",
    "        re.sub(\n",
    "            r'[^a-zA-Z\\']',\n",
    "            ' ',\n",
    "            x\n",
    "        ).split()\n",
    "    )\n",
    ").str.lower()\n",
    "data.head()"
   ]
  },
  {
   "cell_type": "markdown",
   "metadata": {},
   "source": [
    "Создаём отдельный датасет, в котором оставим только индексы, фичи и таргеты:  "
   ]
  },
  {
   "cell_type": "code",
   "execution_count": 20,
   "metadata": {},
   "outputs": [],
   "source": [
    "data_1 = data.drop(['text'], axis = 1)"
   ]
  },
  {
   "cell_type": "markdown",
   "metadata": {},
   "source": [
    "Произведём формирование общей выборки с признаками:"
   ]
  },
  {
   "cell_type": "code",
   "execution_count": 21,
   "metadata": {},
   "outputs": [
    {
     "data": {
      "text/plain": [
       "0    explanation why the edit make under my usernam...\n",
       "1    d'aww he match this background colour i be see...\n",
       "2    hey man i be really not try to edit war it be ...\n",
       "3    more i can not make any real suggestion on imp...\n",
       "4    you sir be my hero any chance you remember wha...\n",
       "Name: final_text, dtype: object"
      ]
     },
     "execution_count": 21,
     "metadata": {},
     "output_type": "execute_result"
    }
   ],
   "source": [
    "features = data['final_text']\n",
    "features.head()"
   ]
  },
  {
   "cell_type": "markdown",
   "metadata": {},
   "source": [
    "Сформируем общую выборку с целевыми признаками:"
   ]
  },
  {
   "cell_type": "code",
   "execution_count": 22,
   "metadata": {},
   "outputs": [
    {
     "data": {
      "text/plain": [
       "0    0\n",
       "1    0\n",
       "2    0\n",
       "3    0\n",
       "4    0\n",
       "Name: toxic, dtype: int64"
      ]
     },
     "execution_count": 22,
     "metadata": {},
     "output_type": "execute_result"
    }
   ],
   "source": [
    "target = data['toxic']\n",
    "target.head()"
   ]
  },
  {
   "cell_type": "markdown",
   "metadata": {},
   "source": [
    "Произведём разделение датасета на обучающую и тестовую выборку:"
   ]
  },
  {
   "cell_type": "code",
   "execution_count": 23,
   "metadata": {},
   "outputs": [],
   "source": [
    "train, test = train_test_split(data_1, test_size=0.1)"
   ]
  },
  {
   "cell_type": "markdown",
   "metadata": {},
   "source": [
    "Изучим дисбаланс классов:"
   ]
  },
  {
   "cell_type": "code",
   "execution_count": 24,
   "metadata": {},
   "outputs": [],
   "source": [
    "train_maj = train[train.toxic==0]\n",
    "train_min = train[train.toxic==1]"
   ]
  },
  {
   "cell_type": "code",
   "execution_count": 25,
   "metadata": {},
   "outputs": [
    {
     "data": {
      "text/plain": [
       "0    128824\n",
       "1     14538\n",
       "Name: toxic, dtype: int64"
      ]
     },
     "execution_count": 25,
     "metadata": {},
     "output_type": "execute_result"
    }
   ],
   "source": [
    "train.toxic.value_counts()"
   ]
  },
  {
   "cell_type": "markdown",
   "metadata": {},
   "source": [
    "Выделим признаки для обучающей и тестовой выборок(включая целевой):"
   ]
  },
  {
   "cell_type": "code",
   "execution_count": 26,
   "metadata": {},
   "outputs": [],
   "source": [
    "features_train = train['final_text']\n",
    "target_train = train['toxic']\n",
    "features_test = test['final_text']\n",
    "target_test = test['toxic']"
   ]
  },
  {
   "cell_type": "markdown",
   "metadata": {},
   "source": [
    "Произведём формирование матриц с признаками:"
   ]
  },
  {
   "cell_type": "markdown",
   "metadata": {},
   "source": [
    "Создим счётчик величин TF-IDF:"
   ]
  },
  {
   "cell_type": "code",
   "execution_count": 27,
   "metadata": {},
   "outputs": [],
   "source": [
    "count_tf_idf = TfidfVectorizer(\n",
    "    stop_words=stop_words\n",
    ")"
   ]
  },
  {
   "cell_type": "markdown",
   "metadata": {},
   "source": [
    "Выполним подсчёт величин TF-IDF:"
   ]
  },
  {
   "cell_type": "code",
   "execution_count": 28,
   "metadata": {},
   "outputs": [],
   "source": [
    "tf_idf = count_tf_idf.fit(features_train)"
   ]
  },
  {
   "cell_type": "markdown",
   "metadata": {},
   "source": [
    "Сформируем матрицы обучаюших признаков с выводом размеров:"
   ]
  },
  {
   "cell_type": "code",
   "execution_count": 29,
   "metadata": {},
   "outputs": [
    {
     "data": {
      "text/plain": [
       "(143362, 148049)"
      ]
     },
     "execution_count": 29,
     "metadata": {},
     "output_type": "execute_result"
    }
   ],
   "source": [
    "features_train_vectorized = count_tf_idf.transform(features_train)\n",
    "features_train_vectorized.shape"
   ]
  },
  {
   "cell_type": "markdown",
   "metadata": {},
   "source": [
    "Сформируем матрицы тестовых признаков с выводом размеров:"
   ]
  },
  {
   "cell_type": "code",
   "execution_count": 30,
   "metadata": {},
   "outputs": [
    {
     "data": {
      "text/plain": [
       "(15930, 148049)"
      ]
     },
     "execution_count": 30,
     "metadata": {},
     "output_type": "execute_result"
    }
   ],
   "source": [
    "features_test_vectorized = count_tf_idf.transform(features_test)\n",
    "features_test_vectorized.shape"
   ]
  },
  {
   "cell_type": "markdown",
   "metadata": {},
   "source": [
    "Данные для выполнения задачи классификации без использования модели BERT подготовленны. "
   ]
  },
  {
   "cell_type": "markdown",
   "metadata": {},
   "source": [
    "#### Данные для классификации с использованием модели BERT"
   ]
  },
  {
   "cell_type": "markdown",
   "metadata": {},
   "source": [
    "Произведём подготовку данных для модели BERT."
   ]
  },
  {
   "cell_type": "markdown",
   "metadata": {},
   "source": [
    "Подготовка включит в себя только начальную очистку текста, лемматизация для модели BERT не требуется."
   ]
  },
  {
   "cell_type": "code",
   "execution_count": 31,
   "metadata": {},
   "outputs": [],
   "source": [
    "data_bert = data.copy()"
   ]
  },
  {
   "cell_type": "code",
   "execution_count": 32,
   "metadata": {},
   "outputs": [],
   "source": [
    "def clear_text(text):\n",
    "    prom = re.sub(r'[^a-zA-Z]',' ', text).split()\n",
    "    return ' '.join(prom)"
   ]
  },
  {
   "cell_type": "code",
   "execution_count": 33,
   "metadata": {},
   "outputs": [],
   "source": [
    "data_bert['clear'] = data_bert['text'].apply(clear_text)"
   ]
  },
  {
   "cell_type": "code",
   "execution_count": 34,
   "metadata": {},
   "outputs": [
    {
     "data": {
      "text/html": [
       "<div>\n",
       "<style scoped>\n",
       "    .dataframe tbody tr th:only-of-type {\n",
       "        vertical-align: middle;\n",
       "    }\n",
       "\n",
       "    .dataframe tbody tr th {\n",
       "        vertical-align: top;\n",
       "    }\n",
       "\n",
       "    .dataframe thead th {\n",
       "        text-align: right;\n",
       "    }\n",
       "</style>\n",
       "<table border=\"1\" class=\"dataframe\">\n",
       "  <thead>\n",
       "    <tr style=\"text-align: right;\">\n",
       "      <th></th>\n",
       "      <th>text</th>\n",
       "      <th>toxic</th>\n",
       "      <th>final_text</th>\n",
       "      <th>clear</th>\n",
       "    </tr>\n",
       "  </thead>\n",
       "  <tbody>\n",
       "    <tr>\n",
       "      <th>0</th>\n",
       "      <td>Explanation\\nWhy the edits made under my usern...</td>\n",
       "      <td>0</td>\n",
       "      <td>explanation why the edit make under my usernam...</td>\n",
       "      <td>Explanation Why the edits made under my userna...</td>\n",
       "    </tr>\n",
       "    <tr>\n",
       "      <th>1</th>\n",
       "      <td>D'aww! He matches this background colour I'm s...</td>\n",
       "      <td>0</td>\n",
       "      <td>d'aww he match this background colour i be see...</td>\n",
       "      <td>D aww He matches this background colour I m se...</td>\n",
       "    </tr>\n",
       "    <tr>\n",
       "      <th>2</th>\n",
       "      <td>Hey man, I'm really not trying to edit war. It...</td>\n",
       "      <td>0</td>\n",
       "      <td>hey man i be really not try to edit war it be ...</td>\n",
       "      <td>Hey man I m really not trying to edit war It s...</td>\n",
       "    </tr>\n",
       "    <tr>\n",
       "      <th>3</th>\n",
       "      <td>\"\\nMore\\nI can't make any real suggestions on ...</td>\n",
       "      <td>0</td>\n",
       "      <td>more i can not make any real suggestion on imp...</td>\n",
       "      <td>More I can t make any real suggestions on impr...</td>\n",
       "    </tr>\n",
       "    <tr>\n",
       "      <th>4</th>\n",
       "      <td>You, sir, are my hero. Any chance you remember...</td>\n",
       "      <td>0</td>\n",
       "      <td>you sir be my hero any chance you remember wha...</td>\n",
       "      <td>You sir are my hero Any chance you remember wh...</td>\n",
       "    </tr>\n",
       "  </tbody>\n",
       "</table>\n",
       "</div>"
      ],
      "text/plain": [
       "                                                text  toxic  \\\n",
       "0  Explanation\\nWhy the edits made under my usern...      0   \n",
       "1  D'aww! He matches this background colour I'm s...      0   \n",
       "2  Hey man, I'm really not trying to edit war. It...      0   \n",
       "3  \"\\nMore\\nI can't make any real suggestions on ...      0   \n",
       "4  You, sir, are my hero. Any chance you remember...      0   \n",
       "\n",
       "                                          final_text  \\\n",
       "0  explanation why the edit make under my usernam...   \n",
       "1  d'aww he match this background colour i be see...   \n",
       "2  hey man i be really not try to edit war it be ...   \n",
       "3  more i can not make any real suggestion on imp...   \n",
       "4  you sir be my hero any chance you remember wha...   \n",
       "\n",
       "                                               clear  \n",
       "0  Explanation Why the edits made under my userna...  \n",
       "1  D aww He matches this background colour I m se...  \n",
       "2  Hey man I m really not trying to edit war It s...  \n",
       "3  More I can t make any real suggestions on impr...  \n",
       "4  You sir are my hero Any chance you remember wh...  "
      ]
     },
     "execution_count": 34,
     "metadata": {},
     "output_type": "execute_result"
    }
   ],
   "source": [
    "data_bert.head()"
   ]
  },
  {
   "cell_type": "code",
   "execution_count": 35,
   "metadata": {
    "scrolled": true
   },
   "outputs": [
    {
     "data": {
      "text/html": [
       "<div>\n",
       "<style scoped>\n",
       "    .dataframe tbody tr th:only-of-type {\n",
       "        vertical-align: middle;\n",
       "    }\n",
       "\n",
       "    .dataframe tbody tr th {\n",
       "        vertical-align: top;\n",
       "    }\n",
       "\n",
       "    .dataframe thead th {\n",
       "        text-align: right;\n",
       "    }\n",
       "</style>\n",
       "<table border=\"1\" class=\"dataframe\">\n",
       "  <thead>\n",
       "    <tr style=\"text-align: right;\">\n",
       "      <th></th>\n",
       "      <th>toxic</th>\n",
       "      <th>clear</th>\n",
       "    </tr>\n",
       "  </thead>\n",
       "  <tbody>\n",
       "    <tr>\n",
       "      <th>0</th>\n",
       "      <td>0</td>\n",
       "      <td>Explanation Why the edits made under my userna...</td>\n",
       "    </tr>\n",
       "    <tr>\n",
       "      <th>1</th>\n",
       "      <td>0</td>\n",
       "      <td>D aww He matches this background colour I m se...</td>\n",
       "    </tr>\n",
       "    <tr>\n",
       "      <th>2</th>\n",
       "      <td>0</td>\n",
       "      <td>Hey man I m really not trying to edit war It s...</td>\n",
       "    </tr>\n",
       "    <tr>\n",
       "      <th>3</th>\n",
       "      <td>0</td>\n",
       "      <td>More I can t make any real suggestions on impr...</td>\n",
       "    </tr>\n",
       "    <tr>\n",
       "      <th>4</th>\n",
       "      <td>0</td>\n",
       "      <td>You sir are my hero Any chance you remember wh...</td>\n",
       "    </tr>\n",
       "  </tbody>\n",
       "</table>\n",
       "</div>"
      ],
      "text/plain": [
       "   toxic                                              clear\n",
       "0      0  Explanation Why the edits made under my userna...\n",
       "1      0  D aww He matches this background colour I m se...\n",
       "2      0  Hey man I m really not trying to edit war It s...\n",
       "3      0  More I can t make any real suggestions on impr...\n",
       "4      0  You sir are my hero Any chance you remember wh..."
      ]
     },
     "execution_count": 35,
     "metadata": {},
     "output_type": "execute_result"
    }
   ],
   "source": [
    "data_bert = data_bert.drop(['text', 'final_text'], axis=1)\n",
    "data_bert.head()"
   ]
  },
  {
   "cell_type": "markdown",
   "metadata": {},
   "source": [
    "Ограничим количество выражений в тексте до 5000 для сокращения времени обработки данных:"
   ]
  },
  {
   "cell_type": "code",
   "execution_count": 36,
   "metadata": {},
   "outputs": [
    {
     "data": {
      "text/html": [
       "<div>\n",
       "<style scoped>\n",
       "    .dataframe tbody tr th:only-of-type {\n",
       "        vertical-align: middle;\n",
       "    }\n",
       "\n",
       "    .dataframe tbody tr th {\n",
       "        vertical-align: top;\n",
       "    }\n",
       "\n",
       "    .dataframe thead th {\n",
       "        text-align: right;\n",
       "    }\n",
       "</style>\n",
       "<table border=\"1\" class=\"dataframe\">\n",
       "  <thead>\n",
       "    <tr style=\"text-align: right;\">\n",
       "      <th></th>\n",
       "      <th>toxic</th>\n",
       "      <th>clear</th>\n",
       "    </tr>\n",
       "  </thead>\n",
       "  <tbody>\n",
       "    <tr>\n",
       "      <th>0</th>\n",
       "      <td>0</td>\n",
       "      <td>Expert Categorizers Why is there no mention of...</td>\n",
       "    </tr>\n",
       "    <tr>\n",
       "      <th>1</th>\n",
       "      <td>1</td>\n",
       "      <td>Noise fart talk</td>\n",
       "    </tr>\n",
       "    <tr>\n",
       "      <th>2</th>\n",
       "      <td>0</td>\n",
       "      <td>An indefinite block is appropriate even for a ...</td>\n",
       "    </tr>\n",
       "    <tr>\n",
       "      <th>3</th>\n",
       "      <td>0</td>\n",
       "      <td>I don t understand why we have a screenshot of...</td>\n",
       "    </tr>\n",
       "    <tr>\n",
       "      <th>4</th>\n",
       "      <td>0</td>\n",
       "      <td>Hello Some of the people places or things you ...</td>\n",
       "    </tr>\n",
       "  </tbody>\n",
       "</table>\n",
       "</div>"
      ],
      "text/plain": [
       "   toxic                                              clear\n",
       "0      0  Expert Categorizers Why is there no mention of...\n",
       "1      1                                    Noise fart talk\n",
       "2      0  An indefinite block is appropriate even for a ...\n",
       "3      0  I don t understand why we have a screenshot of...\n",
       "4      0  Hello Some of the people places or things you ..."
      ]
     },
     "execution_count": 36,
     "metadata": {},
     "output_type": "execute_result"
    }
   ],
   "source": [
    "data_for_bert = data_bert.sample(5000, random_state=12345).reset_index(drop=True)\n",
    "data_for_bert.head()"
   ]
  },
  {
   "cell_type": "markdown",
   "metadata": {},
   "source": [
    "Выполним разбивку на токены и установим ограничение на длину последовательности токенов (для около 400 слов):"
   ]
  },
  {
   "cell_type": "code",
   "execution_count": 37,
   "metadata": {},
   "outputs": [],
   "source": [
    "tokenizer = transformers.BertTokenizer.from_pretrained('bert-base-uncased')\n",
    "\n",
    "tokenized = data_for_bert['clear'].apply(\n",
    "    lambda x: tokenizer.encode(x, add_special_tokens=True, truncation=True, max_length=512))\n",
    "\n",
    "max_len = 0\n",
    "for i in tokenized.values:\n",
    "    if len(i) > max_len:\n",
    "        max_len = len(i)\n",
    "padded = np.array([i + [0]*(max_len - len(i)) for i in tokenized.values])\n",
    "\n",
    "attention_mask = np.where(padded != 0, 1, 0)"
   ]
  },
  {
   "cell_type": "markdown",
   "metadata": {},
   "source": [
    "Произведём вычисления эмбеддингов для модели BERT:"
   ]
  },
  {
   "cell_type": "code",
   "execution_count": 41,
   "metadata": {},
   "outputs": [
    {
     "name": "stderr",
     "output_type": "stream",
     "text": [
      "Some weights of the model checkpoint at bert-base-uncased were not used when initializing BertModel: ['cls.predictions.bias', 'cls.predictions.transform.dense.bias', 'cls.predictions.decoder.weight', 'cls.seq_relationship.weight', 'cls.predictions.transform.LayerNorm.weight', 'cls.predictions.transform.dense.weight', 'cls.predictions.transform.LayerNorm.bias', 'cls.seq_relationship.bias']\n",
      "- This IS expected if you are initializing BertModel from the checkpoint of a model trained on another task or with another architecture (e.g. initializing a BertForSequenceClassification model from a BertForPreTraining model).\n",
      "- This IS NOT expected if you are initializing BertModel from the checkpoint of a model that you expect to be exactly identical (initializing a BertForSequenceClassification model from a BertForSequenceClassification model).\n"
     ]
    },
    {
     "name": "stdout",
     "output_type": "stream",
     "text": [
      "Wall time: 2.78 s\n"
     ]
    }
   ],
   "source": [
    "%%time\n",
    "model = transformers.BertModel.from_pretrained(\"bert-base-uncased\")\n",
    "model = model.to(device)"
   ]
  },
  {
   "cell_type": "code",
   "execution_count": 42,
   "metadata": {},
   "outputs": [
    {
     "data": {
      "application/vnd.jupyter.widget-view+json": {
       "model_id": "20c740d317fb46dfa878d23b910bd22c",
       "version_major": 2,
       "version_minor": 0
      },
      "text/plain": [
       "  0%|          | 0/39 [00:00<?, ?it/s]"
      ]
     },
     "metadata": {},
     "output_type": "display_data"
    },
    {
     "name": "stdout",
     "output_type": "stream",
     "text": [
      "Wall time: 5min 32s\n"
     ]
    }
   ],
   "source": [
    "%%time\n",
    "batch_size = 128\n",
    "embeddings = []\n",
    "for i in tqdm(range(padded.shape[0] // batch_size)):\n",
    "    batch = torch.LongTensor(padded[batch_size*i:batch_size*(i+1)]).to(device)\n",
    "    attention_mask_batch = torch.LongTensor(attention_mask[batch_size*i:batch_size*(i+1)])\n",
    "\n",
    "    with torch.no_grad():\n",
    "        batch_embeddings = model(batch.to(device), attention_mask=attention_mask_batch.to(device))\n",
    "\n",
    "    embeddings.append(batch_embeddings[0][:,0,:].cpu().numpy())"
   ]
  },
  {
   "cell_type": "markdown",
   "metadata": {},
   "source": [
    "Выделим признаки (включая целевой):"
   ]
  },
  {
   "cell_type": "code",
   "execution_count": 43,
   "metadata": {},
   "outputs": [],
   "source": [
    "features_bert = np.concatenate(embeddings)"
   ]
  },
  {
   "cell_type": "code",
   "execution_count": 44,
   "metadata": {},
   "outputs": [],
   "source": [
    "target_bert = data_for_bert['toxic'][0:len(features_bert)]"
   ]
  },
  {
   "cell_type": "code",
   "execution_count": 45,
   "metadata": {},
   "outputs": [
    {
     "data": {
      "text/plain": [
       "(4992, 768)"
      ]
     },
     "execution_count": 45,
     "metadata": {},
     "output_type": "execute_result"
    }
   ],
   "source": [
    "features_bert.shape"
   ]
  },
  {
   "cell_type": "code",
   "execution_count": 46,
   "metadata": {},
   "outputs": [
    {
     "data": {
      "text/plain": [
       "(4992,)"
      ]
     },
     "execution_count": 46,
     "metadata": {},
     "output_type": "execute_result"
    }
   ],
   "source": [
    "target_bert.shape"
   ]
  },
  {
   "cell_type": "markdown",
   "metadata": {},
   "source": [
    "Сформируем обучающую и тестовую выборки для данных, подготовленных с применениме модели BERT:"
   ]
  },
  {
   "cell_type": "code",
   "execution_count": 47,
   "metadata": {},
   "outputs": [],
   "source": [
    "features_train_bert, features_test_bert, target_train_bert, target_test_bert = train_test_split(features_bert, \n",
    "                                                                                                target_bert, \n",
    "                                                                                                test_size=0.1\n",
    "                                                                                                )"
   ]
  },
  {
   "cell_type": "markdown",
   "metadata": {},
   "source": [
    "Данные для работы с моделью BERT подготовлены. "
   ]
  },
  {
   "cell_type": "markdown",
   "metadata": {},
   "source": [
    "### Вывод"
   ]
  },
  {
   "cell_type": "markdown",
   "metadata": {},
   "source": [
    "- Загружен датасет, получена общая информация;\n",
    "- Пропусков и дубликатов нет;\n",
    "- Проверено соотношение классов;\n",
    "- Произведена подготовка текста с помощью библиотеки spaCy для выполнения задачи классификации комментариев без использования модели BERT, подготовлены обучающая и тестовые выборки общего датасета, выделены признаки (в том числе целевой).\n",
    "- Произведена подготовка текста для работы модели BERT, выделены признаки (в том числе целевой).\n",
    "- Данные для обучения моделей машинного обучения подготовлены."
   ]
  },
  {
   "cell_type": "markdown",
   "metadata": {},
   "source": [
    "## Обучение"
   ]
  },
  {
   "cell_type": "markdown",
   "metadata": {},
   "source": [
    "В качестве моделей машинного обучения мы будем использовать следующие модели-классификаторы:\n",
    "- LinearRegression;\n",
    "- RandomForestClassifier;\n",
    "- CatBoostClassifier;\n",
    "- LGBMClassifier."
   ]
  },
  {
   "cell_type": "markdown",
   "metadata": {},
   "source": [
    "### Классификация без использования модели BERT"
   ]
  },
  {
   "cell_type": "markdown",
   "metadata": {},
   "source": [
    "Создадим датафрейм, в который будем отправлять модели и значения метрики f1:"
   ]
  },
  {
   "cell_type": "code",
   "execution_count": 48,
   "metadata": {},
   "outputs": [],
   "source": [
    "results = pd.DataFrame(columns=['Модель', 'Время кросс-валидации и обучения модели, с', 'метрика f1 модели'])"
   ]
  },
  {
   "cell_type": "markdown",
   "metadata": {},
   "source": [
    "#### LogisticRegression"
   ]
  },
  {
   "cell_type": "markdown",
   "metadata": {},
   "source": [
    "Обучим логистическую регрессию. Соберём пайплайн, осуществляющий последовательно очистку и векторизацию текста, а затем обучение выбранной модели с заданными гиперпараметрами:"
   ]
  },
  {
   "cell_type": "code",
   "execution_count": 49,
   "metadata": {},
   "outputs": [],
   "source": [
    "classifier_lr = LogisticRegression()"
   ]
  },
  {
   "cell_type": "code",
   "execution_count": 50,
   "metadata": {},
   "outputs": [],
   "source": [
    "pipe_lr = Pipeline(\n",
    "    [\n",
    "        ('tf_idf', TfidfVectorizer(stop_words=stop_words)),\n",
    "        ('clf', classifier_lr)\n",
    "    ]\n",
    ")\n",
    "\n",
    "params_lr = {'clf__solver' : ['lbfgs'],\n",
    "             'clf__C': [15],\n",
    "             'clf__max_iter':[1000],\n",
    "             'clf__class_weight': ['balanced']\n",
    "}"
   ]
  },
  {
   "cell_type": "code",
   "execution_count": 51,
   "metadata": {},
   "outputs": [
    {
     "name": "stdout",
     "output_type": "stream",
     "text": [
      "Fitting 5 folds for each of 1 candidates, totalling 5 fits\n",
      "Wall time: 1min 6s\n"
     ]
    }
   ],
   "source": [
    "%%time\n",
    "tqdm.pandas()\n",
    "start = time.time()\n",
    "grid_lr = GridSearchCV(pipe_lr,\n",
    "                       scoring='f1',\n",
    "                       cv=5,\n",
    "                       param_grid=params_lr,\n",
    "                       n_jobs=-1,\n",
    "                       verbose=2,                       \n",
    "                       refit=True\n",
    ")\n",
    "grid_lr.fit(features_train, target_train)\n",
    "end = time.time()\n",
    "f_lr=round(end-start,2)"
   ]
  },
  {
   "cell_type": "code",
   "execution_count": 52,
   "metadata": {},
   "outputs": [
    {
     "data": {
      "text/plain": [
       "{'clf__C': 15,\n",
       " 'clf__class_weight': 'balanced',\n",
       " 'clf__max_iter': 1000,\n",
       " 'clf__solver': 'lbfgs'}"
      ]
     },
     "execution_count": 52,
     "metadata": {},
     "output_type": "execute_result"
    }
   ],
   "source": [
    "grid_lr.best_params_"
   ]
  },
  {
   "cell_type": "code",
   "execution_count": 53,
   "metadata": {},
   "outputs": [
    {
     "data": {
      "text/plain": [
       "0.76"
      ]
     },
     "execution_count": 53,
     "metadata": {},
     "output_type": "execute_result"
    }
   ],
   "source": [
    "np.round(grid_lr.best_score_, decimals=2)"
   ]
  },
  {
   "cell_type": "code",
   "execution_count": 54,
   "metadata": {},
   "outputs": [
    {
     "data": {
      "text/plain": [
       "25.157676696777344"
      ]
     },
     "execution_count": 54,
     "metadata": {},
     "output_type": "execute_result"
    }
   ],
   "source": [
    "grid_lr.refit_time_"
   ]
  },
  {
   "cell_type": "code",
   "execution_count": 55,
   "metadata": {},
   "outputs": [],
   "source": [
    "results.loc[0] = ['LogisticRegression', f_lr, np.round(grid_lr.best_score_, decimals=2)]"
   ]
  },
  {
   "cell_type": "code",
   "execution_count": 56,
   "metadata": {},
   "outputs": [
    {
     "data": {
      "text/html": [
       "<div>\n",
       "<style scoped>\n",
       "    .dataframe tbody tr th:only-of-type {\n",
       "        vertical-align: middle;\n",
       "    }\n",
       "\n",
       "    .dataframe tbody tr th {\n",
       "        vertical-align: top;\n",
       "    }\n",
       "\n",
       "    .dataframe thead th {\n",
       "        text-align: right;\n",
       "    }\n",
       "</style>\n",
       "<table border=\"1\" class=\"dataframe\">\n",
       "  <thead>\n",
       "    <tr style=\"text-align: right;\">\n",
       "      <th></th>\n",
       "      <th>Модель</th>\n",
       "      <th>Время кросс-валидации и обучения модели, с</th>\n",
       "      <th>метрика f1 модели</th>\n",
       "    </tr>\n",
       "  </thead>\n",
       "  <tbody>\n",
       "    <tr>\n",
       "      <th>0</th>\n",
       "      <td>LogisticRegression</td>\n",
       "      <td>66.81</td>\n",
       "      <td>0.76</td>\n",
       "    </tr>\n",
       "  </tbody>\n",
       "</table>\n",
       "</div>"
      ],
      "text/plain": [
       "               Модель  Время кросс-валидации и обучения модели, с  \\\n",
       "0  LogisticRegression                                       66.81   \n",
       "\n",
       "   метрика f1 модели  \n",
       "0               0.76  "
      ]
     },
     "execution_count": 56,
     "metadata": {},
     "output_type": "execute_result"
    }
   ],
   "source": [
    "results"
   ]
  },
  {
   "cell_type": "markdown",
   "metadata": {},
   "source": [
    "#### RandomForestClassifier"
   ]
  },
  {
   "cell_type": "code",
   "execution_count": 57,
   "metadata": {},
   "outputs": [],
   "source": [
    "classifier_rf = RandomForestClassifier()"
   ]
  },
  {
   "cell_type": "code",
   "execution_count": 58,
   "metadata": {},
   "outputs": [],
   "source": [
    "pipe_rf = Pipeline(\n",
    "    [\n",
    "        ('tf_idf', TfidfVectorizer(stop_words=stop_words)),\n",
    "        ('clf', classifier_rf)\n",
    "    ]\n",
    ")\n",
    "\n",
    "params_rf = {\n",
    "             'clf__random_state': [12345],\n",
    "             'clf__min_samples_leaf': range(2, 10, 2),\n",
    "             'clf__class_weight': ['balanced'],\n",
    "             'clf__n_estimators': range(900, 1000, 100),\n",
    "             'clf__max_depth': range(20, 30, 10)\n",
    "             }"
   ]
  },
  {
   "cell_type": "code",
   "execution_count": 59,
   "metadata": {},
   "outputs": [
    {
     "name": "stdout",
     "output_type": "stream",
     "text": [
      "Fitting 5 folds for each of 4 candidates, totalling 20 fits\n",
      "Wall time: 5min 43s\n"
     ]
    }
   ],
   "source": [
    "%%time\n",
    "start = time.time()\n",
    "grid_rf = GridSearchCV(pipe_rf,\n",
    "                       scoring='f1',\n",
    "                       cv=5,\n",
    "                       param_grid=params_rf,\n",
    "                       n_jobs=n_jobs,\n",
    "                       verbose=3,\n",
    "                       refit=True\n",
    ")\n",
    "grid_rf.fit(features_train, target_train)\n",
    "end = time.time()\n",
    "f_rf=round(end-start,2)"
   ]
  },
  {
   "cell_type": "code",
   "execution_count": 60,
   "metadata": {},
   "outputs": [
    {
     "data": {
      "text/plain": [
       "{'clf__class_weight': 'balanced',\n",
       " 'clf__max_depth': 20,\n",
       " 'clf__min_samples_leaf': 2,\n",
       " 'clf__n_estimators': 900,\n",
       " 'clf__random_state': 12345}"
      ]
     },
     "execution_count": 60,
     "metadata": {},
     "output_type": "execute_result"
    }
   ],
   "source": [
    "grid_rf.best_params_"
   ]
  },
  {
   "cell_type": "code",
   "execution_count": 61,
   "metadata": {},
   "outputs": [
    {
     "data": {
      "text/plain": [
       "0.42"
      ]
     },
     "execution_count": 61,
     "metadata": {},
     "output_type": "execute_result"
    }
   ],
   "source": [
    "np.round(grid_rf.best_score_, decimals=2)"
   ]
  },
  {
   "cell_type": "code",
   "execution_count": 62,
   "metadata": {},
   "outputs": [
    {
     "data": {
      "text/plain": [
       "72.50592827796936"
      ]
     },
     "execution_count": 62,
     "metadata": {},
     "output_type": "execute_result"
    }
   ],
   "source": [
    "grid_rf.refit_time_"
   ]
  },
  {
   "cell_type": "code",
   "execution_count": 63,
   "metadata": {},
   "outputs": [],
   "source": [
    "results.loc[1] = ['RandomForestClassifier', f_rf, np.round(grid_rf.best_score_, decimals=2)]"
   ]
  },
  {
   "cell_type": "code",
   "execution_count": 64,
   "metadata": {},
   "outputs": [
    {
     "data": {
      "text/html": [
       "<div>\n",
       "<style scoped>\n",
       "    .dataframe tbody tr th:only-of-type {\n",
       "        vertical-align: middle;\n",
       "    }\n",
       "\n",
       "    .dataframe tbody tr th {\n",
       "        vertical-align: top;\n",
       "    }\n",
       "\n",
       "    .dataframe thead th {\n",
       "        text-align: right;\n",
       "    }\n",
       "</style>\n",
       "<table border=\"1\" class=\"dataframe\">\n",
       "  <thead>\n",
       "    <tr style=\"text-align: right;\">\n",
       "      <th></th>\n",
       "      <th>Модель</th>\n",
       "      <th>Время кросс-валидации и обучения модели, с</th>\n",
       "      <th>метрика f1 модели</th>\n",
       "    </tr>\n",
       "  </thead>\n",
       "  <tbody>\n",
       "    <tr>\n",
       "      <th>0</th>\n",
       "      <td>LogisticRegression</td>\n",
       "      <td>66.81</td>\n",
       "      <td>0.76</td>\n",
       "    </tr>\n",
       "    <tr>\n",
       "      <th>1</th>\n",
       "      <td>RandomForestClassifier</td>\n",
       "      <td>343.42</td>\n",
       "      <td>0.42</td>\n",
       "    </tr>\n",
       "  </tbody>\n",
       "</table>\n",
       "</div>"
      ],
      "text/plain": [
       "                   Модель  Время кросс-валидации и обучения модели, с  \\\n",
       "0      LogisticRegression                                       66.81   \n",
       "1  RandomForestClassifier                                      343.42   \n",
       "\n",
       "   метрика f1 модели  \n",
       "0               0.76  \n",
       "1               0.42  "
      ]
     },
     "execution_count": 64,
     "metadata": {},
     "output_type": "execute_result"
    }
   ],
   "source": [
    "results"
   ]
  },
  {
   "cell_type": "markdown",
   "metadata": {},
   "source": [
    "#### LGBMClassifier"
   ]
  },
  {
   "cell_type": "code",
   "execution_count": 65,
   "metadata": {},
   "outputs": [],
   "source": [
    "torch.cuda.empty_cache()"
   ]
  },
  {
   "cell_type": "code",
   "execution_count": 66,
   "metadata": {},
   "outputs": [],
   "source": [
    "classifier_lgb = LGBMClassifier()"
   ]
  },
  {
   "cell_type": "code",
   "execution_count": 67,
   "metadata": {},
   "outputs": [],
   "source": [
    "pipe_lgb = Pipeline(\n",
    "    [\n",
    "        ('tf_idf', TfidfVectorizer(stop_words=stop_words)),\n",
    "        ('clf', classifier_lgb)\n",
    "    ]\n",
    ")\n",
    "\n",
    "params_lgb = {\n",
    "             'clf__random_state':[12345],\n",
    "             'clf__boosting_type': ['gbdt'],\n",
    "             'clf__class_weight': ['balanced'],\n",
    "             'clf__objective': ['binary'],\n",
    "             'clf__device_type': ['GPU']\n",
    "             }"
   ]
  },
  {
   "cell_type": "code",
   "execution_count": 68,
   "metadata": {},
   "outputs": [
    {
     "name": "stdout",
     "output_type": "stream",
     "text": [
      "Fitting 5 folds for each of 1 candidates, totalling 5 fits\n",
      "[CV] END clf__boosting_type=gbdt, clf__class_weight=balanced, clf__device_type=GPU, clf__objective=binary, clf__random_state=12345; total time=  32.6s\n",
      "[CV] END clf__boosting_type=gbdt, clf__class_weight=balanced, clf__device_type=GPU, clf__objective=binary, clf__random_state=12345; total time=  30.6s\n",
      "[CV] END clf__boosting_type=gbdt, clf__class_weight=balanced, clf__device_type=GPU, clf__objective=binary, clf__random_state=12345; total time=  30.0s\n",
      "[CV] END clf__boosting_type=gbdt, clf__class_weight=balanced, clf__device_type=GPU, clf__objective=binary, clf__random_state=12345; total time=  30.7s\n",
      "[CV] END clf__boosting_type=gbdt, clf__class_weight=balanced, clf__device_type=GPU, clf__objective=binary, clf__random_state=12345; total time=  29.7s\n",
      "Wall time: 3min 7s\n"
     ]
    }
   ],
   "source": [
    "%%time\n",
    "start = time.time()\n",
    "grid_lgb = GridSearchCV(pipe_lgb,\n",
    "                       scoring='f1',\n",
    "                       cv=5,\n",
    "                       param_grid=params_lgb,\n",
    "                       n_jobs=1,\n",
    "                       verbose=2,\n",
    "                       refit=True \n",
    ")\n",
    "grid_lgb.fit(features_train, target_train)\n",
    "end = time.time()\n",
    "f_lgb=round(end-start,2)"
   ]
  },
  {
   "cell_type": "code",
   "execution_count": 69,
   "metadata": {},
   "outputs": [
    {
     "data": {
      "text/plain": [
       "{'clf__boosting_type': 'gbdt',\n",
       " 'clf__class_weight': 'balanced',\n",
       " 'clf__device_type': 'GPU',\n",
       " 'clf__objective': 'binary',\n",
       " 'clf__random_state': 12345}"
      ]
     },
     "execution_count": 69,
     "metadata": {},
     "output_type": "execute_result"
    }
   ],
   "source": [
    "grid_lgb.best_params_"
   ]
  },
  {
   "cell_type": "code",
   "execution_count": 70,
   "metadata": {},
   "outputs": [
    {
     "data": {
      "text/plain": [
       "0.74"
      ]
     },
     "execution_count": 70,
     "metadata": {},
     "output_type": "execute_result"
    }
   ],
   "source": [
    "np.round(grid_lgb.best_score_, decimals=2)"
   ]
  },
  {
   "cell_type": "code",
   "execution_count": 71,
   "metadata": {},
   "outputs": [
    {
     "data": {
      "text/plain": [
       "33.1758759021759"
      ]
     },
     "execution_count": 71,
     "metadata": {},
     "output_type": "execute_result"
    }
   ],
   "source": [
    "grid_lgb.refit_time_"
   ]
  },
  {
   "cell_type": "code",
   "execution_count": 72,
   "metadata": {},
   "outputs": [],
   "source": [
    "results.loc[2] = ['LGBMClassifier', f_lgb, np.round(grid_lgb.best_score_, decimals=2)]"
   ]
  },
  {
   "cell_type": "code",
   "execution_count": 73,
   "metadata": {},
   "outputs": [
    {
     "data": {
      "text/html": [
       "<div>\n",
       "<style scoped>\n",
       "    .dataframe tbody tr th:only-of-type {\n",
       "        vertical-align: middle;\n",
       "    }\n",
       "\n",
       "    .dataframe tbody tr th {\n",
       "        vertical-align: top;\n",
       "    }\n",
       "\n",
       "    .dataframe thead th {\n",
       "        text-align: right;\n",
       "    }\n",
       "</style>\n",
       "<table border=\"1\" class=\"dataframe\">\n",
       "  <thead>\n",
       "    <tr style=\"text-align: right;\">\n",
       "      <th></th>\n",
       "      <th>Модель</th>\n",
       "      <th>Время кросс-валидации и обучения модели, с</th>\n",
       "      <th>метрика f1 модели</th>\n",
       "    </tr>\n",
       "  </thead>\n",
       "  <tbody>\n",
       "    <tr>\n",
       "      <th>0</th>\n",
       "      <td>LogisticRegression</td>\n",
       "      <td>66.81</td>\n",
       "      <td>0.76</td>\n",
       "    </tr>\n",
       "    <tr>\n",
       "      <th>1</th>\n",
       "      <td>RandomForestClassifier</td>\n",
       "      <td>343.42</td>\n",
       "      <td>0.42</td>\n",
       "    </tr>\n",
       "    <tr>\n",
       "      <th>2</th>\n",
       "      <td>LGBMClassifier</td>\n",
       "      <td>187.42</td>\n",
       "      <td>0.74</td>\n",
       "    </tr>\n",
       "  </tbody>\n",
       "</table>\n",
       "</div>"
      ],
      "text/plain": [
       "                   Модель  Время кросс-валидации и обучения модели, с  \\\n",
       "0      LogisticRegression                                       66.81   \n",
       "1  RandomForestClassifier                                      343.42   \n",
       "2          LGBMClassifier                                      187.42   \n",
       "\n",
       "   метрика f1 модели  \n",
       "0               0.76  \n",
       "1               0.42  \n",
       "2               0.74  "
      ]
     },
     "execution_count": 73,
     "metadata": {},
     "output_type": "execute_result"
    }
   ],
   "source": [
    "results"
   ]
  },
  {
   "cell_type": "markdown",
   "metadata": {},
   "source": [
    "#### CatBoostClassifier"
   ]
  },
  {
   "cell_type": "code",
   "execution_count": 74,
   "metadata": {},
   "outputs": [],
   "source": [
    "torch.cuda.empty_cache()"
   ]
  },
  {
   "cell_type": "code",
   "execution_count": 75,
   "metadata": {},
   "outputs": [],
   "source": [
    "classifier_cb = CatBoostClassifier()"
   ]
  },
  {
   "cell_type": "code",
   "execution_count": 76,
   "metadata": {},
   "outputs": [],
   "source": [
    "pipe_cb = Pipeline(\n",
    "    [\n",
    "        ('tf_idf', TfidfVectorizer(stop_words=stop_words)),\n",
    "        ('clf', classifier_cb)\n",
    "    ]\n",
    ")\n",
    "params_cb = {\n",
    "             'clf__random_state':[12345],\n",
    "             'clf__iterations': [200],\n",
    "             'clf__eval_metric': ['F1'],\n",
    "             'clf__learning_rate': [0.1],  \n",
    "             'clf__task_type': ['GPU']\n",
    "             } "
   ]
  },
  {
   "cell_type": "code",
   "execution_count": 77,
   "metadata": {},
   "outputs": [
    {
     "name": "stdout",
     "output_type": "stream",
     "text": [
      "Fitting 5 folds for each of 1 candidates, totalling 5 fits\n",
      "0:\tlearn: 0.5318994\ttotal: 1.34s\tremaining: 4m 26s\n",
      "1:\tlearn: 0.4659703\ttotal: 2.25s\tremaining: 3m 43s\n",
      "2:\tlearn: 0.5288081\ttotal: 3.17s\tremaining: 3m 28s\n",
      "3:\tlearn: 0.5037946\ttotal: 4.07s\tremaining: 3m 19s\n",
      "4:\tlearn: 0.4903588\ttotal: 4.96s\tremaining: 3m 13s\n",
      "5:\tlearn: 0.5320307\ttotal: 5.87s\tremaining: 3m 9s\n",
      "6:\tlearn: 0.5504074\ttotal: 6.76s\tremaining: 3m 6s\n",
      "7:\tlearn: 0.5163309\ttotal: 7.66s\tremaining: 3m 3s\n",
      "8:\tlearn: 0.5192116\ttotal: 8.55s\tremaining: 3m 1s\n",
      "9:\tlearn: 0.5165289\ttotal: 9.45s\tremaining: 2m 59s\n",
      "10:\tlearn: 0.5011430\ttotal: 10.3s\tremaining: 2m 57s\n",
      "11:\tlearn: 0.5019359\ttotal: 11.2s\tremaining: 2m 55s\n",
      "12:\tlearn: 0.5032659\ttotal: 12.1s\tremaining: 2m 53s\n",
      "13:\tlearn: 0.5057588\ttotal: 12.9s\tremaining: 2m 52s\n",
      "14:\tlearn: 0.5272920\ttotal: 13.9s\tremaining: 2m 51s\n",
      "15:\tlearn: 0.5450086\ttotal: 14.8s\tremaining: 2m 49s\n",
      "16:\tlearn: 0.5311569\ttotal: 15.6s\tremaining: 2m 48s\n",
      "17:\tlearn: 0.5298030\ttotal: 16.6s\tremaining: 2m 47s\n",
      "18:\tlearn: 0.5307745\ttotal: 17.5s\tremaining: 2m 46s\n",
      "19:\tlearn: 0.5320179\ttotal: 18.4s\tremaining: 2m 45s\n",
      "20:\tlearn: 0.5479486\ttotal: 19.3s\tremaining: 2m 44s\n",
      "21:\tlearn: 0.5353473\ttotal: 20.2s\tremaining: 2m 43s\n",
      "22:\tlearn: 0.5366970\ttotal: 21.1s\tremaining: 2m 42s\n",
      "23:\tlearn: 0.5384473\ttotal: 22s\tremaining: 2m 41s\n",
      "24:\tlearn: 0.5407805\ttotal: 22.9s\tremaining: 2m 40s\n",
      "25:\tlearn: 0.5428026\ttotal: 23.8s\tremaining: 2m 39s\n",
      "26:\tlearn: 0.5445271\ttotal: 24.7s\tremaining: 2m 38s\n",
      "27:\tlearn: 0.5560298\ttotal: 25.6s\tremaining: 2m 37s\n",
      "28:\tlearn: 0.5570453\ttotal: 26.5s\tremaining: 2m 36s\n",
      "29:\tlearn: 0.5584368\ttotal: 27.4s\tremaining: 2m 35s\n",
      "30:\tlearn: 0.5701368\ttotal: 28.3s\tremaining: 2m 34s\n",
      "31:\tlearn: 0.5713426\ttotal: 29.3s\tremaining: 2m 33s\n",
      "32:\tlearn: 0.5612096\ttotal: 30.2s\tremaining: 2m 32s\n",
      "33:\tlearn: 0.5844249\ttotal: 31.2s\tremaining: 2m 32s\n",
      "34:\tlearn: 0.5749100\ttotal: 32.2s\tremaining: 2m 31s\n",
      "35:\tlearn: 0.5856913\ttotal: 33s\tremaining: 2m 30s\n",
      "36:\tlearn: 0.5863650\ttotal: 34s\tremaining: 2m 29s\n",
      "37:\tlearn: 0.5879624\ttotal: 34.8s\tremaining: 2m 28s\n",
      "38:\tlearn: 0.5876123\ttotal: 35.8s\tremaining: 2m 27s\n",
      "39:\tlearn: 0.5815467\ttotal: 36.7s\tremaining: 2m 26s\n",
      "40:\tlearn: 0.5726480\ttotal: 37.6s\tremaining: 2m 25s\n",
      "41:\tlearn: 0.5830201\ttotal: 38.5s\tremaining: 2m 24s\n",
      "42:\tlearn: 0.5932805\ttotal: 39.4s\tremaining: 2m 23s\n",
      "43:\tlearn: 0.5943742\ttotal: 40.3s\tremaining: 2m 23s\n",
      "44:\tlearn: 0.5951340\ttotal: 41.2s\tremaining: 2m 21s\n",
      "45:\tlearn: 0.6027252\ttotal: 42.1s\tremaining: 2m 21s\n",
      "46:\tlearn: 0.6038024\ttotal: 43.1s\tremaining: 2m 20s\n",
      "47:\tlearn: 0.6053218\ttotal: 44s\tremaining: 2m 19s\n",
      "48:\tlearn: 0.6055347\ttotal: 44.9s\tremaining: 2m 18s\n",
      "49:\tlearn: 0.6066073\ttotal: 45.8s\tremaining: 2m 17s\n",
      "50:\tlearn: 0.6148023\ttotal: 46.7s\tremaining: 2m 16s\n",
      "51:\tlearn: 0.6153667\ttotal: 47.6s\tremaining: 2m 15s\n",
      "52:\tlearn: 0.6165746\ttotal: 48.5s\tremaining: 2m 14s\n",
      "53:\tlearn: 0.6170571\ttotal: 49.4s\tremaining: 2m 13s\n",
      "54:\tlearn: 0.6190697\ttotal: 50.3s\tremaining: 2m 12s\n",
      "55:\tlearn: 0.6195665\ttotal: 51.2s\tremaining: 2m 11s\n",
      "56:\tlearn: 0.6213042\ttotal: 52.2s\tremaining: 2m 10s\n",
      "57:\tlearn: 0.6220217\ttotal: 53.1s\tremaining: 2m 9s\n",
      "58:\tlearn: 0.6231800\ttotal: 54s\tremaining: 2m 9s\n",
      "59:\tlearn: 0.6235851\ttotal: 54.9s\tremaining: 2m 8s\n",
      "60:\tlearn: 0.6239390\ttotal: 55.8s\tremaining: 2m 7s\n",
      "61:\tlearn: 0.6233091\ttotal: 56.7s\tremaining: 2m 6s\n",
      "62:\tlearn: 0.6282391\ttotal: 57.6s\tremaining: 2m 5s\n",
      "63:\tlearn: 0.6286471\ttotal: 58.5s\tremaining: 2m 4s\n",
      "64:\tlearn: 0.6292781\ttotal: 59.4s\tremaining: 2m 3s\n",
      "65:\tlearn: 0.6297148\ttotal: 1m\tremaining: 2m 2s\n",
      "66:\tlearn: 0.6296658\ttotal: 1m 1s\tremaining: 2m 1s\n",
      "67:\tlearn: 0.6302598\ttotal: 1m 2s\tremaining: 2m\n",
      "68:\tlearn: 0.6313311\ttotal: 1m 2s\tremaining: 1m 59s\n",
      "69:\tlearn: 0.6320018\ttotal: 1m 3s\tremaining: 1m 58s\n",
      "70:\tlearn: 0.6327561\ttotal: 1m 4s\tremaining: 1m 57s\n",
      "71:\tlearn: 0.6339061\ttotal: 1m 5s\tremaining: 1m 56s\n",
      "72:\tlearn: 0.6363584\ttotal: 1m 6s\tremaining: 1m 55s\n",
      "73:\tlearn: 0.6367477\ttotal: 1m 7s\tremaining: 1m 54s\n",
      "74:\tlearn: 0.6369347\ttotal: 1m 8s\tremaining: 1m 53s\n",
      "75:\tlearn: 0.6381110\ttotal: 1m 9s\tremaining: 1m 52s\n",
      "76:\tlearn: 0.6387781\ttotal: 1m 10s\tremaining: 1m 51s\n",
      "77:\tlearn: 0.6396766\ttotal: 1m 10s\tremaining: 1m 51s\n",
      "78:\tlearn: 0.6404143\ttotal: 1m 11s\tremaining: 1m 50s\n",
      "79:\tlearn: 0.6414236\ttotal: 1m 12s\tremaining: 1m 49s\n",
      "80:\tlearn: 0.6420006\ttotal: 1m 13s\tremaining: 1m 48s\n",
      "81:\tlearn: 0.6425041\ttotal: 1m 14s\tremaining: 1m 47s\n",
      "82:\tlearn: 0.6430518\ttotal: 1m 15s\tremaining: 1m 46s\n",
      "83:\tlearn: 0.6433558\ttotal: 1m 16s\tremaining: 1m 45s\n",
      "84:\tlearn: 0.6443600\ttotal: 1m 17s\tremaining: 1m 44s\n",
      "85:\tlearn: 0.6449748\ttotal: 1m 18s\tremaining: 1m 43s\n",
      "86:\tlearn: 0.6451613\ttotal: 1m 19s\tremaining: 1m 43s\n",
      "87:\tlearn: 0.6466727\ttotal: 1m 20s\tremaining: 1m 42s\n",
      "88:\tlearn: 0.6471320\ttotal: 1m 21s\tremaining: 1m 41s\n",
      "89:\tlearn: 0.6507587\ttotal: 1m 21s\tremaining: 1m 40s\n",
      "90:\tlearn: 0.6506513\ttotal: 1m 22s\tremaining: 1m 39s\n",
      "91:\tlearn: 0.6509583\ttotal: 1m 23s\tremaining: 1m 38s\n",
      "92:\tlearn: 0.6532081\ttotal: 1m 24s\tremaining: 1m 37s\n",
      "93:\tlearn: 0.6570612\ttotal: 1m 25s\tremaining: 1m 36s\n",
      "94:\tlearn: 0.6573991\ttotal: 1m 26s\tremaining: 1m 35s\n",
      "95:\tlearn: 0.6578888\ttotal: 1m 27s\tremaining: 1m 34s\n",
      "96:\tlearn: 0.6643306\ttotal: 1m 28s\tremaining: 1m 33s\n",
      "97:\tlearn: 0.6644792\ttotal: 1m 29s\tremaining: 1m 32s\n",
      "98:\tlearn: 0.6647756\ttotal: 1m 29s\tremaining: 1m 31s\n",
      "99:\tlearn: 0.6647392\ttotal: 1m 30s\tremaining: 1m 30s\n",
      "100:\tlearn: 0.6653707\ttotal: 1m 31s\tremaining: 1m 29s\n",
      "101:\tlearn: 0.6657045\ttotal: 1m 32s\tremaining: 1m 28s\n",
      "102:\tlearn: 0.6668885\ttotal: 1m 33s\tremaining: 1m 28s\n",
      "103:\tlearn: 0.6671101\ttotal: 1m 34s\tremaining: 1m 27s\n",
      "104:\tlearn: 0.6675532\ttotal: 1m 35s\tremaining: 1m 26s\n",
      "105:\tlearn: 0.6677746\ttotal: 1m 36s\tremaining: 1m 25s\n",
      "106:\tlearn: 0.6732062\ttotal: 1m 37s\tremaining: 1m 24s\n",
      "107:\tlearn: 0.6734267\ttotal: 1m 37s\tremaining: 1m 23s\n",
      "108:\tlearn: 0.6738651\ttotal: 1m 38s\tremaining: 1m 22s\n",
      "109:\tlearn: 0.6780145\ttotal: 1m 39s\tremaining: 1m 21s\n",
      "110:\tlearn: 0.6783773\ttotal: 1m 40s\tremaining: 1m 20s\n",
      "111:\tlearn: 0.6788850\ttotal: 1m 41s\tremaining: 1m 19s\n",
      "112:\tlearn: 0.6796095\ttotal: 1m 42s\tremaining: 1m 18s\n",
      "113:\tlearn: 0.6795723\ttotal: 1m 43s\tremaining: 1m 18s\n",
      "114:\tlearn: 0.6797171\ttotal: 1m 44s\tremaining: 1m 17s\n",
      "115:\tlearn: 0.6804056\ttotal: 1m 45s\tremaining: 1m 16s\n",
      "116:\tlearn: 0.6806598\ttotal: 1m 46s\tremaining: 1m 15s\n",
      "117:\tlearn: 0.6803706\ttotal: 1m 46s\tremaining: 1m 14s\n",
      "118:\tlearn: 0.6809117\ttotal: 1m 47s\tremaining: 1m 13s\n",
      "119:\tlearn: 0.6813078\ttotal: 1m 48s\tremaining: 1m 12s\n",
      "120:\tlearn: 0.6819575\ttotal: 1m 49s\tremaining: 1m 11s\n",
      "121:\tlearn: 0.6822113\ttotal: 1m 50s\tremaining: 1m 10s\n",
      "122:\tlearn: 0.6825718\ttotal: 1m 51s\tremaining: 1m 9s\n",
      "123:\tlearn: 0.6821816\ttotal: 1m 52s\tremaining: 1m 8s\n",
      "124:\tlearn: 0.6829028\ttotal: 1m 53s\tremaining: 1m 8s\n",
      "125:\tlearn: 0.6834391\ttotal: 1m 54s\tremaining: 1m 7s\n",
      "126:\tlearn: 0.6835775\ttotal: 1m 55s\tremaining: 1m 6s\n",
      "127:\tlearn: 0.6837588\ttotal: 1m 55s\tremaining: 1m 5s\n",
      "128:\tlearn: 0.6839775\ttotal: 1m 56s\tremaining: 1m 4s\n",
      "129:\tlearn: 0.6846591\ttotal: 1m 57s\tremaining: 1m 3s\n",
      "130:\tlearn: 0.6852307\ttotal: 1m 58s\tremaining: 1m 2s\n",
      "131:\tlearn: 0.6819428\ttotal: 1m 59s\tremaining: 1m 1s\n",
      "132:\tlearn: 0.6821918\ttotal: 2m\tremaining: 1m\n",
      "133:\tlearn: 0.6844235\ttotal: 2m 1s\tremaining: 59.7s\n",
      "134:\tlearn: 0.6850768\ttotal: 2m 2s\tremaining: 58.8s\n",
      "135:\tlearn: 0.6872444\ttotal: 2m 2s\tremaining: 57.8s\n",
      "136:\tlearn: 0.6872818\ttotal: 2m 3s\tremaining: 56.9s\n",
      "137:\tlearn: 0.6873875\ttotal: 2m 4s\tremaining: 56s\n",
      "138:\tlearn: 0.6877453\ttotal: 2m 5s\tremaining: 55.1s\n",
      "139:\tlearn: 0.6880349\ttotal: 2m 6s\tremaining: 54.2s\n",
      "140:\tlearn: 0.6883138\ttotal: 2m 7s\tremaining: 53.3s\n",
      "141:\tlearn: 0.6891333\ttotal: 2m 8s\tremaining: 52.4s\n",
      "142:\tlearn: 0.6891671\ttotal: 2m 9s\tremaining: 51.5s\n",
      "143:\tlearn: 0.6894525\ttotal: 2m 9s\tremaining: 50.5s\n",
      "144:\tlearn: 0.6931960\ttotal: 2m 10s\tremaining: 49.6s\n",
      "145:\tlearn: 0.6931251\ttotal: 2m 11s\tremaining: 48.7s\n",
      "146:\tlearn: 0.6934128\ttotal: 2m 12s\tremaining: 47.9s\n",
      "147:\tlearn: 0.6940080\ttotal: 2m 13s\tremaining: 47s\n",
      "148:\tlearn: 0.6949886\ttotal: 2m 14s\tremaining: 46s\n",
      "149:\tlearn: 0.6956945\ttotal: 2m 15s\tremaining: 45.1s\n",
      "150:\tlearn: 0.6966110\ttotal: 2m 16s\tremaining: 44.2s\n",
      "151:\tlearn: 0.6969631\ttotal: 2m 17s\tremaining: 43.3s\n",
      "152:\tlearn: 0.6991747\ttotal: 2m 18s\tremaining: 42.4s\n",
      "153:\tlearn: 0.7008565\ttotal: 2m 18s\tremaining: 41.5s\n",
      "154:\tlearn: 0.7014274\ttotal: 2m 19s\tremaining: 40.6s\n",
      "155:\tlearn: 0.7016146\ttotal: 2m 20s\tremaining: 39.7s\n",
      "156:\tlearn: 0.7020601\ttotal: 2m 21s\tremaining: 38.8s\n",
      "157:\tlearn: 0.7022318\ttotal: 2m 22s\tremaining: 37.9s\n",
      "158:\tlearn: 0.7023714\ttotal: 2m 23s\tremaining: 37s\n",
      "159:\tlearn: 0.7024034\ttotal: 2m 24s\tremaining: 36.1s\n",
      "160:\tlearn: 0.7029671\ttotal: 2m 25s\tremaining: 35.2s\n",
      "161:\tlearn: 0.7025806\ttotal: 2m 26s\tremaining: 34.3s\n",
      "162:\tlearn: 0.7028479\ttotal: 2m 27s\tremaining: 33.4s\n",
      "163:\tlearn: 0.7036838\ttotal: 2m 27s\tremaining: 32.5s\n",
      "164:\tlearn: 0.7038230\ttotal: 2m 28s\tremaining: 31.6s\n",
      "165:\tlearn: 0.7037415\ttotal: 2m 29s\tremaining: 30.7s\n",
      "166:\tlearn: 0.7045759\ttotal: 2m 30s\tremaining: 29.8s\n",
      "167:\tlearn: 0.7048345\ttotal: 2m 31s\tremaining: 28.9s\n",
      "168:\tlearn: 0.7050429\ttotal: 2m 32s\tremaining: 28s\n",
      "169:\tlearn: 0.7055228\ttotal: 2m 33s\tremaining: 27.1s\n",
      "170:\tlearn: 0.7058697\ttotal: 2m 34s\tremaining: 26.2s\n",
      "171:\tlearn: 0.7060715\ttotal: 2m 35s\tremaining: 25.3s\n",
      "172:\tlearn: 0.7061408\ttotal: 2m 36s\tremaining: 24.4s\n",
      "173:\tlearn: 0.7066574\ttotal: 2m 37s\tremaining: 23.5s\n",
      "174:\tlearn: 0.7073876\ttotal: 2m 38s\tremaining: 22.6s\n",
      "175:\tlearn: 0.7075638\ttotal: 2m 39s\tremaining: 21.7s\n",
      "176:\tlearn: 0.7080101\ttotal: 2m 39s\tremaining: 20.8s\n",
      "177:\tlearn: 0.7082108\ttotal: 2m 40s\tremaining: 19.9s\n",
      "178:\tlearn: 0.7084180\ttotal: 2m 41s\tremaining: 19s\n",
      "179:\tlearn: 0.7084804\ttotal: 2m 42s\tremaining: 18.1s\n",
      "180:\tlearn: 0.7089879\ttotal: 2m 43s\tremaining: 17.1s\n",
      "181:\tlearn: 0.7093707\ttotal: 2m 44s\tremaining: 16.2s\n",
      "182:\tlearn: 0.7111775\ttotal: 2m 45s\tremaining: 15.3s\n",
      "183:\tlearn: 0.7110708\ttotal: 2m 45s\tremaining: 14.4s\n",
      "184:\tlearn: 0.7111324\ttotal: 2m 46s\tremaining: 13.5s\n",
      "185:\tlearn: 0.7112012\ttotal: 2m 47s\tremaining: 12.6s\n",
      "186:\tlearn: 0.7116512\ttotal: 2m 48s\tremaining: 11.7s\n",
      "187:\tlearn: 0.7118500\ttotal: 2m 49s\tremaining: 10.8s\n",
      "188:\tlearn: 0.7121624\ttotal: 2m 50s\tremaining: 9.93s\n",
      "189:\tlearn: 0.7122237\ttotal: 2m 51s\tremaining: 9.02s\n",
      "190:\tlearn: 0.7122237\ttotal: 2m 52s\tremaining: 8.12s\n",
      "191:\tlearn: 0.7125666\ttotal: 2m 53s\tremaining: 7.22s\n",
      "192:\tlearn: 0.7125666\ttotal: 2m 54s\tremaining: 6.31s\n",
      "193:\tlearn: 0.7126351\ttotal: 2m 54s\tremaining: 5.41s\n",
      "194:\tlearn: 0.7131527\ttotal: 2m 55s\tremaining: 4.51s\n",
      "195:\tlearn: 0.7133887\ttotal: 2m 56s\tremaining: 3.61s\n",
      "196:\tlearn: 0.7135636\ttotal: 2m 57s\tremaining: 2.71s\n",
      "197:\tlearn: 0.7138678\ttotal: 2m 58s\tremaining: 1.8s\n",
      "198:\tlearn: 0.7139741\ttotal: 2m 59s\tremaining: 902ms\n",
      "199:\tlearn: 0.7140274\ttotal: 3m\tremaining: 0us\n",
      "[CV] END clf__eval_metric=F1, clf__iterations=200, clf__learning_rate=0.1, clf__random_state=12345, clf__task_type=GPU; total time= 5.0min\n",
      "0:\tlearn: 0.5391555\ttotal: 1.15s\tremaining: 3m 48s\n",
      "1:\tlearn: 0.5046635\ttotal: 2.07s\tremaining: 3m 25s\n",
      "2:\tlearn: 0.5381845\ttotal: 2.98s\tremaining: 3m 15s\n",
      "3:\tlearn: 0.5313212\ttotal: 3.88s\tremaining: 3m 10s\n",
      "4:\tlearn: 0.5118727\ttotal: 4.89s\tremaining: 3m 10s\n",
      "5:\tlearn: 0.5381791\ttotal: 5.82s\tremaining: 3m 8s\n",
      "6:\tlearn: 0.5255638\ttotal: 6.8s\tremaining: 3m 7s\n",
      "7:\tlearn: 0.4903514\ttotal: 7.66s\tremaining: 3m 3s\n",
      "8:\tlearn: 0.5518081\ttotal: 8.5s\tremaining: 3m\n",
      "9:\tlearn: 0.5373429\ttotal: 9.32s\tremaining: 2m 57s\n",
      "10:\tlearn: 0.5219674\ttotal: 10.2s\tremaining: 2m 55s\n",
      "11:\tlearn: 0.5230212\ttotal: 11.1s\tremaining: 2m 53s\n",
      "12:\tlearn: 0.5415105\ttotal: 12s\tremaining: 2m 52s\n",
      "13:\tlearn: 0.5239254\ttotal: 12.9s\tremaining: 2m 50s\n",
      "14:\tlearn: 0.5245144\ttotal: 14s\tremaining: 2m 52s\n",
      "15:\tlearn: 0.5419641\ttotal: 14.8s\tremaining: 2m 50s\n",
      "16:\tlearn: 0.5436118\ttotal: 15.7s\tremaining: 2m 48s\n",
      "17:\tlearn: 0.5270970\ttotal: 16.8s\tremaining: 2m 50s\n",
      "18:\tlearn: 0.5276426\ttotal: 17.6s\tremaining: 2m 48s\n",
      "19:\tlearn: 0.5298549\ttotal: 18.5s\tremaining: 2m 46s\n",
      "20:\tlearn: 0.5450292\ttotal: 19.4s\tremaining: 2m 45s\n",
      "21:\tlearn: 0.5439872\ttotal: 20.2s\tremaining: 2m 43s\n",
      "22:\tlearn: 0.5455216\ttotal: 21.1s\tremaining: 2m 42s\n",
      "23:\tlearn: 0.5359202\ttotal: 22s\tremaining: 2m 41s\n",
      "24:\tlearn: 0.5376996\ttotal: 22.9s\tremaining: 2m 40s\n",
      "25:\tlearn: 0.5374411\ttotal: 23.9s\tremaining: 2m 39s\n",
      "26:\tlearn: 0.5515464\ttotal: 24.7s\tremaining: 2m 38s\n",
      "27:\tlearn: 0.5642584\ttotal: 25.6s\tremaining: 2m 37s\n",
      "28:\tlearn: 0.5668183\ttotal: 26.7s\tremaining: 2m 37s\n",
      "29:\tlearn: 0.5608433\ttotal: 27.5s\tremaining: 2m 35s\n",
      "30:\tlearn: 0.5603653\ttotal: 28.3s\tremaining: 2m 34s\n",
      "31:\tlearn: 0.5608034\ttotal: 29.2s\tremaining: 2m 33s\n",
      "32:\tlearn: 0.5601268\ttotal: 30.1s\tremaining: 2m 32s\n",
      "33:\tlearn: 0.5727881\ttotal: 31.1s\tremaining: 2m 31s\n",
      "34:\tlearn: 0.5740930\ttotal: 32.1s\tremaining: 2m 31s\n",
      "35:\tlearn: 0.5753441\ttotal: 32.9s\tremaining: 2m 29s\n",
      "36:\tlearn: 0.5767912\ttotal: 33.7s\tremaining: 2m 28s\n",
      "37:\tlearn: 0.5778873\ttotal: 34.6s\tremaining: 2m 27s\n",
      "38:\tlearn: 0.5875261\ttotal: 35.5s\tremaining: 2m 26s\n",
      "39:\tlearn: 0.5893271\ttotal: 36.6s\tremaining: 2m 26s\n",
      "40:\tlearn: 0.5919991\ttotal: 37.4s\tremaining: 2m 25s\n",
      "41:\tlearn: 0.5920209\ttotal: 38.2s\tremaining: 2m 23s\n",
      "42:\tlearn: 0.6014719\ttotal: 39s\tremaining: 2m 22s\n",
      "43:\tlearn: 0.6024238\ttotal: 39.9s\tremaining: 2m 21s\n",
      "44:\tlearn: 0.6026704\ttotal: 40.8s\tremaining: 2m 20s\n",
      "45:\tlearn: 0.6035273\ttotal: 41.7s\tremaining: 2m 19s\n",
      "46:\tlearn: 0.6041373\ttotal: 42.6s\tremaining: 2m 18s\n",
      "47:\tlearn: 0.6046539\ttotal: 43.5s\tremaining: 2m 17s\n",
      "48:\tlearn: 0.6131932\ttotal: 44.5s\tremaining: 2m 17s\n",
      "49:\tlearn: 0.6072100\ttotal: 45.3s\tremaining: 2m 16s\n",
      "50:\tlearn: 0.6160735\ttotal: 46.2s\tremaining: 2m 14s\n",
      "51:\tlearn: 0.6175019\ttotal: 47.2s\tremaining: 2m 14s\n",
      "52:\tlearn: 0.6170027\ttotal: 48s\tremaining: 2m 13s\n",
      "53:\tlearn: 0.6182430\ttotal: 48.8s\tremaining: 2m 11s\n",
      "54:\tlearn: 0.6194783\ttotal: 49.6s\tremaining: 2m 10s\n",
      "55:\tlearn: 0.6248413\ttotal: 50.5s\tremaining: 2m 9s\n",
      "56:\tlearn: 0.6259516\ttotal: 51.4s\tremaining: 2m 9s\n",
      "57:\tlearn: 0.6261461\ttotal: 52.3s\tremaining: 2m 8s\n",
      "58:\tlearn: 0.6266213\ttotal: 53.2s\tremaining: 2m 7s\n",
      "59:\tlearn: 0.6271392\ttotal: 54.1s\tremaining: 2m 6s\n",
      "60:\tlearn: 0.6280221\ttotal: 55s\tremaining: 2m 5s\n",
      "61:\tlearn: 0.6285747\ttotal: 55.9s\tremaining: 2m 4s\n",
      "62:\tlearn: 0.6291695\ttotal: 56.8s\tremaining: 2m 3s\n",
      "63:\tlearn: 0.6301149\ttotal: 57.7s\tremaining: 2m 2s\n",
      "64:\tlearn: 0.6305996\ttotal: 58.5s\tremaining: 2m 1s\n",
      "65:\tlearn: 0.6314218\ttotal: 59.5s\tremaining: 2m\n",
      "66:\tlearn: 0.6323276\ttotal: 1m\tremaining: 1m 59s\n",
      "67:\tlearn: 0.6325992\ttotal: 1m 1s\tremaining: 1m 58s\n",
      "68:\tlearn: 0.6338472\ttotal: 1m 1s\tremaining: 1m 57s\n",
      "69:\tlearn: 0.6348279\ttotal: 1m 2s\tremaining: 1m 56s\n",
      "70:\tlearn: 0.6361349\ttotal: 1m 3s\tremaining: 1m 56s\n",
      "71:\tlearn: 0.6368415\ttotal: 1m 4s\tremaining: 1m 55s\n",
      "72:\tlearn: 0.6376927\ttotal: 1m 5s\tremaining: 1m 54s\n",
      "73:\tlearn: 0.6379675\ttotal: 1m 6s\tremaining: 1m 53s\n",
      "74:\tlearn: 0.6383562\ttotal: 1m 7s\tremaining: 1m 52s\n",
      "75:\tlearn: 0.6387130\ttotal: 1m 8s\tremaining: 1m 51s\n",
      "76:\tlearn: 0.6422071\ttotal: 1m 9s\tremaining: 1m 50s\n",
      "77:\tlearn: 0.6422968\ttotal: 1m 10s\tremaining: 1m 49s\n",
      "78:\tlearn: 0.6431898\ttotal: 1m 10s\tremaining: 1m 48s\n",
      "79:\tlearn: 0.6439119\ttotal: 1m 11s\tremaining: 1m 47s\n",
      "80:\tlearn: 0.6487587\ttotal: 1m 12s\tremaining: 1m 47s\n",
      "81:\tlearn: 0.6488321\ttotal: 1m 13s\tremaining: 1m 46s\n",
      "82:\tlearn: 0.6491436\ttotal: 1m 14s\tremaining: 1m 45s\n",
      "83:\tlearn: 0.6496412\ttotal: 1m 15s\tremaining: 1m 44s\n",
      "84:\tlearn: 0.6535233\ttotal: 1m 16s\tremaining: 1m 43s\n",
      "85:\tlearn: 0.6533716\ttotal: 1m 17s\tremaining: 1m 42s\n",
      "86:\tlearn: 0.6538288\ttotal: 1m 18s\tremaining: 1m 41s\n",
      "87:\tlearn: 0.6545107\ttotal: 1m 19s\tremaining: 1m 40s\n",
      "88:\tlearn: 0.6549668\ttotal: 1m 20s\tremaining: 1m 39s\n",
      "89:\tlearn: 0.6555349\ttotal: 1m 20s\tremaining: 1m 38s\n",
      "90:\tlearn: 0.6561798\ttotal: 1m 21s\tremaining: 1m 37s\n",
      "91:\tlearn: 0.6566712\ttotal: 1m 22s\tremaining: 1m 37s\n",
      "92:\tlearn: 0.6538375\ttotal: 1m 23s\tremaining: 1m 36s\n",
      "93:\tlearn: 0.6542918\ttotal: 1m 24s\tremaining: 1m 35s\n",
      "94:\tlearn: 0.6548623\ttotal: 1m 25s\tremaining: 1m 34s\n",
      "95:\tlearn: 0.6581441\ttotal: 1m 26s\tremaining: 1m 33s\n",
      "96:\tlearn: 0.6582946\ttotal: 1m 27s\tremaining: 1m 32s\n",
      "97:\tlearn: 0.6556180\ttotal: 1m 28s\tremaining: 1m 31s\n",
      "98:\tlearn: 0.6567499\ttotal: 1m 29s\tremaining: 1m 30s\n",
      "99:\tlearn: 0.6600974\ttotal: 1m 29s\tremaining: 1m 29s\n",
      "100:\tlearn: 0.6624595\ttotal: 1m 30s\tremaining: 1m 29s\n",
      "101:\tlearn: 0.6597269\ttotal: 1m 31s\tremaining: 1m 28s\n",
      "102:\tlearn: 0.6599519\ttotal: 1m 32s\tremaining: 1m 27s\n",
      "103:\tlearn: 0.6608900\ttotal: 1m 33s\tremaining: 1m 26s\n",
      "104:\tlearn: 0.6662592\ttotal: 1m 34s\tremaining: 1m 25s\n",
      "105:\tlearn: 0.6688089\ttotal: 1m 35s\tremaining: 1m 24s\n",
      "106:\tlearn: 0.6686243\ttotal: 1m 36s\tremaining: 1m 23s\n",
      "107:\tlearn: 0.6699120\ttotal: 1m 37s\tremaining: 1m 22s\n",
      "108:\tlearn: 0.6708308\ttotal: 1m 38s\tremaining: 1m 21s\n",
      "109:\tlearn: 0.6717473\ttotal: 1m 38s\tremaining: 1m 20s\n",
      "110:\tlearn: 0.6722606\ttotal: 1m 39s\tremaining: 1m 20s\n",
      "111:\tlearn: 0.6724814\ttotal: 1m 40s\tremaining: 1m 19s\n",
      "112:\tlearn: 0.6737237\ttotal: 1m 41s\tremaining: 1m 18s\n",
      "113:\tlearn: 0.6740161\ttotal: 1m 42s\tremaining: 1m 17s\n",
      "114:\tlearn: 0.6773679\ttotal: 1m 43s\tremaining: 1m 16s\n",
      "115:\tlearn: 0.6775488\ttotal: 1m 44s\tremaining: 1m 15s\n",
      "116:\tlearn: 0.6778748\ttotal: 1m 45s\tremaining: 1m 14s\n",
      "117:\tlearn: 0.6790733\ttotal: 1m 46s\tremaining: 1m 13s\n",
      "118:\tlearn: 0.6799451\ttotal: 1m 47s\tremaining: 1m 12s\n",
      "119:\tlearn: 0.6802370\ttotal: 1m 48s\tremaining: 1m 12s\n",
      "120:\tlearn: 0.6804565\ttotal: 1m 48s\tremaining: 1m 11s\n",
      "121:\tlearn: 0.6811777\ttotal: 1m 49s\tremaining: 1m 10s\n",
      "122:\tlearn: 0.6808861\ttotal: 1m 50s\tremaining: 1m 9s\n",
      "123:\tlearn: 0.6809584\ttotal: 1m 51s\tremaining: 1m 8s\n",
      "124:\tlearn: 0.6812825\ttotal: 1m 52s\tremaining: 1m 7s\n",
      "125:\tlearn: 0.6812524\ttotal: 1m 53s\tremaining: 1m 6s\n",
      "126:\tlearn: 0.6817958\ttotal: 1m 54s\tremaining: 1m 5s\n",
      "127:\tlearn: 0.6822589\ttotal: 1m 55s\tremaining: 1m 4s\n",
      "128:\tlearn: 0.6829455\ttotal: 1m 55s\tremaining: 1m 3s\n",
      "129:\tlearn: 0.6831244\ttotal: 1m 56s\tremaining: 1m 2s\n",
      "130:\tlearn: 0.6831618\ttotal: 1m 57s\tremaining: 1m 2s\n",
      "131:\tlearn: 0.6835942\ttotal: 1m 58s\tremaining: 1m 1s\n",
      "132:\tlearn: 0.6841702\ttotal: 1m 59s\tremaining: 1m\n",
      "133:\tlearn: 0.6841299\ttotal: 2m\tremaining: 59.3s\n",
      "134:\tlearn: 0.6847024\ttotal: 2m 1s\tremaining: 58.4s\n",
      "135:\tlearn: 0.6826865\ttotal: 2m 2s\tremaining: 57.5s\n",
      "136:\tlearn: 0.6825770\ttotal: 2m 3s\tremaining: 56.6s\n",
      "137:\tlearn: 0.6846620\ttotal: 2m 3s\tremaining: 55.7s\n",
      "138:\tlearn: 0.6853368\ttotal: 2m 4s\tremaining: 54.8s\n",
      "139:\tlearn: 0.6854803\ttotal: 2m 5s\tremaining: 53.9s\n",
      "140:\tlearn: 0.6857673\ttotal: 2m 6s\tremaining: 53s\n",
      "141:\tlearn: 0.6881334\ttotal: 2m 7s\tremaining: 52.2s\n",
      "142:\tlearn: 0.6885585\ttotal: 2m 8s\tremaining: 51.2s\n",
      "143:\tlearn: 0.6888441\ttotal: 2m 9s\tremaining: 50.3s\n",
      "144:\tlearn: 0.6889759\ttotal: 2m 10s\tremaining: 49.4s\n",
      "145:\tlearn: 0.6890775\ttotal: 2m 11s\tremaining: 48.6s\n",
      "146:\tlearn: 0.6893251\ttotal: 2m 12s\tremaining: 47.7s\n",
      "147:\tlearn: 0.6898951\ttotal: 2m 13s\tremaining: 46.8s\n",
      "148:\tlearn: 0.6900712\ttotal: 2m 13s\tremaining: 45.9s\n",
      "149:\tlearn: 0.6902549\ttotal: 2m 14s\tremaining: 44.9s\n",
      "150:\tlearn: 0.6908656\ttotal: 2m 15s\tremaining: 44s\n",
      "151:\tlearn: 0.6914304\ttotal: 2m 16s\tremaining: 43.1s\n",
      "152:\tlearn: 0.6915350\ttotal: 2m 17s\tremaining: 42.2s\n",
      "153:\tlearn: 0.6919236\ttotal: 2m 18s\tremaining: 41.3s\n",
      "154:\tlearn: 0.6920656\ttotal: 2m 19s\tremaining: 40.4s\n",
      "155:\tlearn: 0.6928041\ttotal: 2m 20s\tremaining: 39.5s\n",
      "156:\tlearn: 0.6932336\ttotal: 2m 21s\tremaining: 38.6s\n",
      "157:\tlearn: 0.6936585\ttotal: 2m 21s\tremaining: 37.7s\n",
      "158:\tlearn: 0.6936585\ttotal: 2m 22s\tremaining: 36.8s\n",
      "159:\tlearn: 0.6939749\ttotal: 2m 23s\tremaining: 35.9s\n",
      "160:\tlearn: 0.6946490\ttotal: 2m 24s\tremaining: 35s\n",
      "161:\tlearn: 0.6949648\ttotal: 2m 25s\tremaining: 34.1s\n",
      "162:\tlearn: 0.6956381\ttotal: 2m 26s\tremaining: 33.2s\n",
      "163:\tlearn: 0.6957463\ttotal: 2m 27s\tremaining: 32.3s\n",
      "164:\tlearn: 0.6960662\ttotal: 2m 28s\tremaining: 31.4s\n",
      "165:\tlearn: 0.6959156\ttotal: 2m 29s\tremaining: 30.5s\n",
      "166:\tlearn: 0.6959438\ttotal: 2m 29s\tremaining: 29.6s\n",
      "167:\tlearn: 0.6966159\ttotal: 2m 30s\tremaining: 28.7s\n",
      "168:\tlearn: 0.6967191\ttotal: 2m 31s\tremaining: 27.8s\n",
      "169:\tlearn: 0.6969631\ttotal: 2m 32s\tremaining: 26.9s\n",
      "170:\tlearn: 0.6968174\ttotal: 2m 33s\tremaining: 26s\n",
      "171:\tlearn: 0.6973805\ttotal: 2m 34s\tremaining: 25.1s\n",
      "172:\tlearn: 0.6975915\ttotal: 2m 35s\tremaining: 24.3s\n",
      "173:\tlearn: 0.6981539\ttotal: 2m 36s\tremaining: 23.3s\n",
      "174:\tlearn: 0.6985429\ttotal: 2m 37s\tremaining: 22.4s\n",
      "175:\tlearn: 0.6999084\ttotal: 2m 37s\tremaining: 21.5s\n",
      "176:\tlearn: 0.7001832\ttotal: 2m 38s\tremaining: 20.6s\n",
      "177:\tlearn: 0.7004956\ttotal: 2m 39s\tremaining: 19.7s\n",
      "178:\tlearn: 0.7007433\ttotal: 2m 40s\tremaining: 18.8s\n",
      "179:\tlearn: 0.7010232\ttotal: 2m 41s\tremaining: 17.9s\n",
      "180:\tlearn: 0.7011253\ttotal: 2m 42s\tremaining: 17s\n",
      "181:\tlearn: 0.7014050\ttotal: 2m 43s\tremaining: 16.2s\n",
      "182:\tlearn: 0.7014749\ttotal: 2m 44s\tremaining: 15.3s\n",
      "183:\tlearn: 0.7015126\ttotal: 2m 45s\tremaining: 14.4s\n",
      "184:\tlearn: 0.7021734\ttotal: 2m 45s\tremaining: 13.5s\n",
      "185:\tlearn: 0.7025922\ttotal: 2m 46s\tremaining: 12.6s\n",
      "186:\tlearn: 0.7026678\ttotal: 2m 47s\tremaining: 11.7s\n",
      "187:\tlearn: 0.7031880\ttotal: 2m 48s\tremaining: 10.8s\n",
      "188:\tlearn: 0.7035743\ttotal: 2m 49s\tremaining: 9.88s\n",
      "189:\tlearn: 0.7039862\ttotal: 2m 50s\tremaining: 8.98s\n",
      "190:\tlearn: 0.7047895\ttotal: 2m 51s\tremaining: 8.08s\n",
      "191:\tlearn: 0.7057687\ttotal: 2m 52s\tremaining: 7.17s\n",
      "192:\tlearn: 0.7060465\ttotal: 2m 53s\tremaining: 6.28s\n",
      "193:\tlearn: 0.7062547\ttotal: 2m 53s\tremaining: 5.38s\n",
      "194:\tlearn: 0.7068097\ttotal: 2m 54s\tremaining: 4.48s\n",
      "195:\tlearn: 0.7073393\ttotal: 2m 55s\tremaining: 3.59s\n",
      "196:\tlearn: 0.7071249\ttotal: 2m 56s\tremaining: 2.69s\n",
      "197:\tlearn: 0.7072883\ttotal: 2m 57s\tremaining: 1.79s\n",
      "198:\tlearn: 0.7073890\ttotal: 2m 58s\tremaining: 897ms\n",
      "199:\tlearn: 0.7078868\ttotal: 2m 59s\tremaining: 0us\n",
      "[CV] END clf__eval_metric=F1, clf__iterations=200, clf__learning_rate=0.1, clf__random_state=12345, clf__task_type=GPU; total time= 5.6min\n",
      "0:\tlearn: 0.5420067\ttotal: 1.35s\tremaining: 4m 28s\n",
      "1:\tlearn: 0.5332929\ttotal: 2.27s\tremaining: 3m 44s\n",
      "2:\tlearn: 0.5431919\ttotal: 3.18s\tremaining: 3m 28s\n",
      "3:\tlearn: 0.5311980\ttotal: 4.1s\tremaining: 3m 20s\n",
      "4:\tlearn: 0.5383678\ttotal: 4.99s\tremaining: 3m 14s\n",
      "5:\tlearn: 0.5154446\ttotal: 5.98s\tremaining: 3m 13s\n",
      "6:\tlearn: 0.5307588\ttotal: 6.88s\tremaining: 3m 9s\n",
      "7:\tlearn: 0.4935231\ttotal: 7.74s\tremaining: 3m 5s\n",
      "8:\tlearn: 0.5189905\ttotal: 8.65s\tremaining: 3m 3s\n",
      "9:\tlearn: 0.5355710\ttotal: 9.52s\tremaining: 3m\n",
      "10:\tlearn: 0.5026636\ttotal: 10.4s\tremaining: 2m 59s\n",
      "11:\tlearn: 0.5201099\ttotal: 11.3s\tremaining: 2m 57s\n",
      "12:\tlearn: 0.5240229\ttotal: 12.3s\tremaining: 2m 57s\n",
      "13:\tlearn: 0.5264927\ttotal: 13.1s\tremaining: 2m 54s\n",
      "14:\tlearn: 0.5294812\ttotal: 14s\tremaining: 2m 52s\n",
      "15:\tlearn: 0.5281822\ttotal: 14.9s\tremaining: 2m 51s\n",
      "16:\tlearn: 0.5293532\ttotal: 15.7s\tremaining: 2m 49s\n",
      "17:\tlearn: 0.5322991\ttotal: 16.7s\tremaining: 2m 49s\n",
      "18:\tlearn: 0.5341099\ttotal: 17.6s\tremaining: 2m 47s\n",
      "19:\tlearn: 0.5323402\ttotal: 18.5s\tremaining: 2m 46s\n",
      "20:\tlearn: 0.5478176\ttotal: 19.3s\tremaining: 2m 44s\n",
      "21:\tlearn: 0.5488515\ttotal: 20.2s\tremaining: 2m 43s\n",
      "22:\tlearn: 0.5490196\ttotal: 21.1s\tremaining: 2m 42s\n",
      "23:\tlearn: 0.5508630\ttotal: 22s\tremaining: 2m 41s\n",
      "24:\tlearn: 0.5378952\ttotal: 22.9s\tremaining: 2m 40s\n",
      "25:\tlearn: 0.5519226\ttotal: 23.8s\tremaining: 2m 39s\n",
      "26:\tlearn: 0.5533868\ttotal: 24.7s\tremaining: 2m 38s\n",
      "27:\tlearn: 0.5550871\ttotal: 25.5s\tremaining: 2m 36s\n",
      "28:\tlearn: 0.5451301\ttotal: 26.4s\tremaining: 2m 35s\n",
      "29:\tlearn: 0.5480999\ttotal: 27.3s\tremaining: 2m 34s\n",
      "30:\tlearn: 0.5497241\ttotal: 28.2s\tremaining: 2m 33s\n",
      "31:\tlearn: 0.5582643\ttotal: 29.1s\tremaining: 2m 32s\n",
      "32:\tlearn: 0.5613374\ttotal: 30s\tremaining: 2m 31s\n",
      "33:\tlearn: 0.5617896\ttotal: 30.9s\tremaining: 2m 30s\n",
      "34:\tlearn: 0.5915007\ttotal: 31.8s\tremaining: 2m 30s\n",
      "35:\tlearn: 0.5925926\ttotal: 32.7s\tremaining: 2m 29s\n",
      "36:\tlearn: 0.5754035\ttotal: 33.6s\tremaining: 2m 27s\n",
      "37:\tlearn: 0.5751973\ttotal: 34.5s\tremaining: 2m 27s\n",
      "38:\tlearn: 0.5865505\ttotal: 35.4s\tremaining: 2m 26s\n",
      "39:\tlearn: 0.5872183\ttotal: 36.4s\tremaining: 2m 25s\n",
      "40:\tlearn: 0.5878568\ttotal: 37.3s\tremaining: 2m 24s\n",
      "41:\tlearn: 0.5886626\ttotal: 38.2s\tremaining: 2m 23s\n",
      "42:\tlearn: 0.5888585\ttotal: 39s\tremaining: 2m 22s\n",
      "43:\tlearn: 0.5993995\ttotal: 40s\tremaining: 2m 21s\n",
      "44:\tlearn: 0.6006822\ttotal: 40.9s\tremaining: 2m 20s\n",
      "45:\tlearn: 0.6024903\ttotal: 41.8s\tremaining: 2m 19s\n",
      "46:\tlearn: 0.6054820\ttotal: 42.6s\tremaining: 2m 18s\n",
      "47:\tlearn: 0.6136919\ttotal: 43.5s\tremaining: 2m 17s\n",
      "48:\tlearn: 0.6136006\ttotal: 44.4s\tremaining: 2m 16s\n",
      "49:\tlearn: 0.6148385\ttotal: 45.4s\tremaining: 2m 16s\n",
      "50:\tlearn: 0.6165641\ttotal: 46.2s\tremaining: 2m 15s\n",
      "51:\tlearn: 0.6167247\ttotal: 47s\tremaining: 2m 13s\n",
      "52:\tlearn: 0.6169657\ttotal: 47.9s\tremaining: 2m 12s\n",
      "53:\tlearn: 0.6173943\ttotal: 48.8s\tremaining: 2m 11s\n",
      "54:\tlearn: 0.6182852\ttotal: 49.7s\tremaining: 2m 11s\n",
      "55:\tlearn: 0.6191304\ttotal: 50.6s\tremaining: 2m 10s\n",
      "56:\tlearn: 0.6202224\ttotal: 51.5s\tremaining: 2m 9s\n",
      "57:\tlearn: 0.6210648\ttotal: 52.4s\tremaining: 2m 8s\n",
      "58:\tlearn: 0.6220937\ttotal: 53.3s\tremaining: 2m 7s\n",
      "59:\tlearn: 0.6262102\ttotal: 54.2s\tremaining: 2m 6s\n",
      "60:\tlearn: 0.6261892\ttotal: 55.1s\tremaining: 2m 5s\n",
      "61:\tlearn: 0.6266282\ttotal: 56s\tremaining: 2m 4s\n",
      "62:\tlearn: 0.6271528\ttotal: 57s\tremaining: 2m 3s\n",
      "63:\tlearn: 0.6240832\ttotal: 57.9s\tremaining: 2m 2s\n",
      "64:\tlearn: 0.6253173\ttotal: 58.7s\tremaining: 2m 1s\n",
      "65:\tlearn: 0.6254470\ttotal: 59.6s\tremaining: 2m\n",
      "66:\tlearn: 0.6276406\ttotal: 1m\tremaining: 2m\n",
      "67:\tlearn: 0.6313978\ttotal: 1m 1s\tremaining: 1m 59s\n",
      "68:\tlearn: 0.6314279\ttotal: 1m 2s\tremaining: 1m 58s\n",
      "69:\tlearn: 0.6329186\ttotal: 1m 3s\tremaining: 1m 57s\n",
      "70:\tlearn: 0.6338278\ttotal: 1m 4s\tremaining: 1m 56s\n",
      "71:\tlearn: 0.6346099\ttotal: 1m 4s\tremaining: 1m 55s\n",
      "72:\tlearn: 0.6351259\ttotal: 1m 5s\tremaining: 1m 54s\n",
      "73:\tlearn: 0.6353964\ttotal: 1m 6s\tremaining: 1m 53s\n",
      "74:\tlearn: 0.6401824\ttotal: 1m 7s\tremaining: 1m 52s\n",
      "75:\tlearn: 0.6409249\ttotal: 1m 8s\tremaining: 1m 51s\n",
      "76:\tlearn: 0.6452235\ttotal: 1m 9s\tremaining: 1m 50s\n",
      "77:\tlearn: 0.6461521\ttotal: 1m 10s\tremaining: 1m 49s\n",
      "78:\tlearn: 0.6474185\ttotal: 1m 10s\tremaining: 1m 48s\n",
      "79:\tlearn: 0.6485294\ttotal: 1m 11s\tremaining: 1m 47s\n",
      "80:\tlearn: 0.6506119\ttotal: 1m 12s\tremaining: 1m 46s\n",
      "81:\tlearn: 0.6520246\ttotal: 1m 13s\tremaining: 1m 45s\n",
      "82:\tlearn: 0.6525557\ttotal: 1m 14s\tremaining: 1m 44s\n",
      "83:\tlearn: 0.6524847\ttotal: 1m 15s\tremaining: 1m 44s\n",
      "84:\tlearn: 0.6531324\ttotal: 1m 16s\tremaining: 1m 43s\n",
      "85:\tlearn: 0.6538526\ttotal: 1m 17s\tremaining: 1m 42s\n",
      "86:\tlearn: 0.6542676\ttotal: 1m 18s\tremaining: 1m 41s\n",
      "87:\tlearn: 0.6595852\ttotal: 1m 18s\tremaining: 1m 40s\n",
      "88:\tlearn: 0.6602213\ttotal: 1m 19s\tremaining: 1m 39s\n",
      "89:\tlearn: 0.6609327\ttotal: 1m 20s\tremaining: 1m 38s\n",
      "90:\tlearn: 0.6610823\ttotal: 1m 21s\tremaining: 1m 37s\n",
      "91:\tlearn: 0.6621674\ttotal: 1m 22s\tremaining: 1m 36s\n",
      "92:\tlearn: 0.6628763\ttotal: 1m 23s\tremaining: 1m 35s\n",
      "93:\tlearn: 0.6634733\ttotal: 1m 24s\tremaining: 1m 34s\n",
      "94:\tlearn: 0.6656658\ttotal: 1m 25s\tremaining: 1m 34s\n",
      "95:\tlearn: 0.6664814\ttotal: 1m 26s\tremaining: 1m 33s\n",
      "96:\tlearn: 0.6679241\ttotal: 1m 26s\tremaining: 1m 32s\n",
      "97:\tlearn: 0.6687732\ttotal: 1m 27s\tremaining: 1m 31s\n",
      "98:\tlearn: 0.6689950\ttotal: 1m 28s\tremaining: 1m 30s\n",
      "99:\tlearn: 0.6695845\ttotal: 1m 29s\tremaining: 1m 29s\n",
      "100:\tlearn: 0.6696953\ttotal: 1m 30s\tremaining: 1m 28s\n",
      "101:\tlearn: 0.6697690\ttotal: 1m 31s\tremaining: 1m 27s\n",
      "102:\tlearn: 0.6705778\ttotal: 1m 32s\tremaining: 1m 26s\n",
      "103:\tlearn: 0.6711662\ttotal: 1m 32s\tremaining: 1m 25s\n",
      "104:\tlearn: 0.6707614\ttotal: 1m 33s\tremaining: 1m 24s\n",
      "105:\tlearn: 0.6709099\ttotal: 1m 34s\tremaining: 1m 24s\n",
      "106:\tlearn: 0.6710199\ttotal: 1m 35s\tremaining: 1m 23s\n",
      "107:\tlearn: 0.6743570\ttotal: 1m 36s\tremaining: 1m 22s\n",
      "108:\tlearn: 0.6747586\ttotal: 1m 37s\tremaining: 1m 21s\n",
      "109:\tlearn: 0.6759647\ttotal: 1m 38s\tremaining: 1m 20s\n",
      "110:\tlearn: 0.6761107\ttotal: 1m 39s\tremaining: 1m 19s\n",
      "111:\tlearn: 0.6767315\ttotal: 1m 39s\tremaining: 1m 18s\n",
      "112:\tlearn: 0.6765857\ttotal: 1m 40s\tremaining: 1m 17s\n",
      "113:\tlearn: 0.6786205\ttotal: 1m 41s\tremaining: 1m 16s\n",
      "114:\tlearn: 0.6801339\ttotal: 1m 42s\tremaining: 1m 15s\n",
      "115:\tlearn: 0.6812500\ttotal: 1m 43s\tremaining: 1m 14s\n",
      "116:\tlearn: 0.6812127\ttotal: 1m 44s\tremaining: 1m 14s\n",
      "117:\tlearn: 0.6815789\ttotal: 1m 45s\tremaining: 1m 13s\n",
      "118:\tlearn: 0.6816114\ttotal: 1m 46s\tremaining: 1m 12s\n",
      "119:\tlearn: 0.6820423\ttotal: 1m 47s\tremaining: 1m 11s\n",
      "120:\tlearn: 0.6824032\ttotal: 1m 48s\tremaining: 1m 10s\n",
      "121:\tlearn: 0.6830523\ttotal: 1m 48s\tremaining: 1m 9s\n",
      "122:\tlearn: 0.6833379\ttotal: 1m 49s\tremaining: 1m 8s\n",
      "123:\tlearn: 0.6835194\ttotal: 1m 50s\tremaining: 1m 7s\n",
      "124:\tlearn: 0.6840580\ttotal: 1m 51s\tremaining: 1m 7s\n",
      "125:\tlearn: 0.6865623\ttotal: 1m 52s\tremaining: 1m 6s\n",
      "126:\tlearn: 0.6862071\ttotal: 1m 53s\tremaining: 1m 5s\n",
      "127:\tlearn: 0.6863847\ttotal: 1m 54s\tremaining: 1m 4s\n",
      "128:\tlearn: 0.6865281\ttotal: 1m 55s\tremaining: 1m 3s\n",
      "129:\tlearn: 0.6873841\ttotal: 1m 56s\tremaining: 1m 2s\n",
      "130:\tlearn: 0.6879904\ttotal: 1m 57s\tremaining: 1m 1s\n",
      "131:\tlearn: 0.6885960\ttotal: 1m 58s\tremaining: 1m\n",
      "132:\tlearn: 0.6899739\ttotal: 1m 58s\tremaining: 59.9s\n",
      "133:\tlearn: 0.6903299\ttotal: 1m 59s\tremaining: 59s\n",
      "134:\tlearn: 0.6905060\ttotal: 2m\tremaining: 58.1s\n",
      "135:\tlearn: 0.6907905\ttotal: 2m 1s\tremaining: 57.2s\n",
      "136:\tlearn: 0.6913634\ttotal: 2m 2s\tremaining: 56.4s\n",
      "137:\tlearn: 0.6917187\ttotal: 2m 3s\tremaining: 55.5s\n",
      "138:\tlearn: 0.6919277\ttotal: 2m 4s\tremaining: 54.6s\n",
      "139:\tlearn: 0.6920697\ttotal: 2m 5s\tremaining: 53.7s\n",
      "140:\tlearn: 0.6935834\ttotal: 2m 6s\tremaining: 52.8s\n",
      "141:\tlearn: 0.6917065\ttotal: 2m 7s\tremaining: 51.9s\n",
      "142:\tlearn: 0.6919904\ttotal: 2m 7s\tremaining: 51s\n",
      "143:\tlearn: 0.6923453\ttotal: 2m 8s\tremaining: 50.1s\n",
      "144:\tlearn: 0.6927793\ttotal: 2m 9s\tremaining: 49.2s\n",
      "145:\tlearn: 0.6926708\ttotal: 2m 10s\tremaining: 48.3s\n",
      "146:\tlearn: 0.6931337\ttotal: 2m 11s\tremaining: 47.4s\n",
      "147:\tlearn: 0.6931627\ttotal: 2m 12s\tremaining: 46.5s\n",
      "148:\tlearn: 0.6938001\ttotal: 2m 13s\tremaining: 45.6s\n",
      "149:\tlearn: 0.6945738\ttotal: 2m 14s\tremaining: 44.8s\n",
      "150:\tlearn: 0.6945362\ttotal: 2m 15s\tremaining: 43.9s\n",
      "151:\tlearn: 0.6950639\ttotal: 2m 16s\tremaining: 43s\n",
      "152:\tlearn: 0.6951299\ttotal: 2m 16s\tremaining: 42.1s\n",
      "153:\tlearn: 0.6952711\ttotal: 2m 17s\tremaining: 41.2s\n",
      "154:\tlearn: 0.6955863\ttotal: 2m 18s\tremaining: 40.3s\n",
      "155:\tlearn: 0.6959438\ttotal: 2m 19s\tremaining: 39.4s\n",
      "156:\tlearn: 0.6960472\ttotal: 2m 20s\tremaining: 38.5s\n",
      "157:\tlearn: 0.6963291\ttotal: 2m 21s\tremaining: 37.6s\n",
      "158:\tlearn: 0.6970008\ttotal: 2m 22s\tremaining: 36.7s\n",
      "159:\tlearn: 0.6967519\ttotal: 2m 23s\tremaining: 35.8s\n",
      "160:\tlearn: 0.6971743\ttotal: 2m 24s\tremaining: 34.9s\n",
      "161:\tlearn: 0.6978402\ttotal: 2m 24s\tremaining: 34s\n",
      "162:\tlearn: 0.6984401\ttotal: 2m 25s\tremaining: 33.1s\n",
      "163:\tlearn: 0.6990616\ttotal: 2m 26s\tremaining: 32.2s\n",
      "164:\tlearn: 0.6992019\ttotal: 2m 27s\tremaining: 31.3s\n",
      "165:\tlearn: 0.7018317\ttotal: 2m 28s\tremaining: 30.4s\n",
      "166:\tlearn: 0.7020728\ttotal: 2m 29s\tremaining: 29.6s\n",
      "167:\tlearn: 0.7021254\ttotal: 2m 30s\tremaining: 28.7s\n",
      "168:\tlearn: 0.7023286\ttotal: 2m 31s\tremaining: 27.8s\n",
      "169:\tlearn: 0.7027404\ttotal: 2m 32s\tremaining: 26.9s\n",
      "170:\tlearn: 0.7028737\ttotal: 2m 33s\tremaining: 26s\n",
      "171:\tlearn: 0.7030128\ttotal: 2m 34s\tremaining: 25.1s\n",
      "172:\tlearn: 0.7046039\ttotal: 2m 34s\tremaining: 24.2s\n",
      "173:\tlearn: 0.7045661\ttotal: 2m 35s\tremaining: 23.3s\n",
      "174:\tlearn: 0.7043581\ttotal: 2m 36s\tremaining: 22.4s\n",
      "175:\tlearn: 0.7045345\ttotal: 2m 37s\tremaining: 21.5s\n",
      "176:\tlearn: 0.7046671\ttotal: 2m 38s\tremaining: 20.6s\n",
      "177:\tlearn: 0.7049005\ttotal: 2m 39s\tremaining: 19.7s\n",
      "178:\tlearn: 0.7050075\ttotal: 2m 40s\tremaining: 18.8s\n",
      "179:\tlearn: 0.7058006\ttotal: 2m 41s\tremaining: 17.9s\n",
      "180:\tlearn: 0.7058635\ttotal: 2m 42s\tremaining: 17s\n",
      "181:\tlearn: 0.7060332\ttotal: 2m 43s\tremaining: 16.1s\n",
      "182:\tlearn: 0.7064166\ttotal: 2m 44s\tremaining: 15.3s\n",
      "183:\tlearn: 0.7066553\ttotal: 2m 45s\tremaining: 14.4s\n",
      "184:\tlearn: 0.7070319\ttotal: 2m 45s\tremaining: 13.5s\n",
      "185:\tlearn: 0.7050630\ttotal: 2m 46s\tremaining: 12.6s\n",
      "186:\tlearn: 0.7074903\ttotal: 2m 47s\tremaining: 11.7s\n",
      "187:\tlearn: 0.7075970\ttotal: 2m 48s\tremaining: 10.8s\n",
      "188:\tlearn: 0.7060776\ttotal: 2m 49s\tremaining: 9.87s\n",
      "189:\tlearn: 0.7061784\ttotal: 2m 50s\tremaining: 8.97s\n",
      "190:\tlearn: 0.7073470\ttotal: 2m 51s\tremaining: 8.07s\n",
      "191:\tlearn: 0.7078304\ttotal: 2m 52s\tremaining: 7.17s\n",
      "192:\tlearn: 0.7080308\ttotal: 2m 52s\tremaining: 6.27s\n",
      "193:\tlearn: 0.7078616\ttotal: 2m 53s\tremaining: 5.37s\n",
      "194:\tlearn: 0.7082755\ttotal: 2m 54s\tremaining: 4.48s\n",
      "195:\tlearn: 0.7084445\ttotal: 2m 55s\tremaining: 3.58s\n",
      "196:\tlearn: 0.7084445\ttotal: 2m 56s\tremaining: 2.69s\n",
      "197:\tlearn: 0.7083823\ttotal: 2m 57s\tremaining: 1.79s\n",
      "198:\tlearn: 0.7087892\ttotal: 2m 58s\tremaining: 895ms\n",
      "199:\tlearn: 0.7102345\ttotal: 2m 59s\tremaining: 0us\n",
      "[CV] END clf__eval_metric=F1, clf__iterations=200, clf__learning_rate=0.1, clf__random_state=12345, clf__task_type=GPU; total time= 6.2min\n",
      "0:\tlearn: 0.5412199\ttotal: 1.5s\tremaining: 4m 57s\n",
      "1:\tlearn: 0.5118081\ttotal: 2.37s\tremaining: 3m 54s\n",
      "2:\tlearn: 0.5111458\ttotal: 3.19s\tremaining: 3m 29s\n",
      "3:\tlearn: 0.5114532\ttotal: 4.04s\tremaining: 3m 17s\n",
      "4:\tlearn: 0.5115144\ttotal: 4.95s\tremaining: 3m 13s\n",
      "5:\tlearn: 0.5060772\ttotal: 5.88s\tremaining: 3m 10s\n",
      "6:\tlearn: 0.5104455\ttotal: 6.91s\tremaining: 3m 10s\n",
      "7:\tlearn: 0.5092377\ttotal: 7.84s\tremaining: 3m 8s\n",
      "8:\tlearn: 0.5372308\ttotal: 8.83s\tremaining: 3m 7s\n",
      "9:\tlearn: 0.5132332\ttotal: 9.82s\tremaining: 3m 6s\n",
      "10:\tlearn: 0.5381199\ttotal: 10.8s\tremaining: 3m 6s\n",
      "11:\tlearn: 0.5357651\ttotal: 11.8s\tremaining: 3m 4s\n",
      "12:\tlearn: 0.5243287\ttotal: 12.7s\tremaining: 3m 2s\n",
      "13:\tlearn: 0.5242283\ttotal: 13.5s\tremaining: 2m 59s\n",
      "14:\tlearn: 0.5257648\ttotal: 14.4s\tremaining: 2m 57s\n",
      "15:\tlearn: 0.5262764\ttotal: 15.4s\tremaining: 2m 57s\n",
      "16:\tlearn: 0.5428677\ttotal: 16.3s\tremaining: 2m 55s\n",
      "17:\tlearn: 0.5295873\ttotal: 17.3s\tremaining: 2m 55s\n",
      "18:\tlearn: 0.5300591\ttotal: 18.3s\tremaining: 2m 54s\n",
      "19:\tlearn: 0.5310636\ttotal: 19.2s\tremaining: 2m 52s\n",
      "20:\tlearn: 0.5323652\ttotal: 20s\tremaining: 2m 50s\n",
      "21:\tlearn: 0.5324393\ttotal: 21s\tremaining: 2m 49s\n",
      "22:\tlearn: 0.5340197\ttotal: 21.8s\tremaining: 2m 47s\n",
      "23:\tlearn: 0.5380384\ttotal: 22.7s\tremaining: 2m 46s\n",
      "24:\tlearn: 0.5390939\ttotal: 23.8s\tremaining: 2m 46s\n",
      "25:\tlearn: 0.5520706\ttotal: 24.7s\tremaining: 2m 45s\n",
      "26:\tlearn: 0.5520916\ttotal: 25.5s\tremaining: 2m 43s\n",
      "27:\tlearn: 0.5653466\ttotal: 26.4s\tremaining: 2m 42s\n",
      "28:\tlearn: 0.5549034\ttotal: 27.4s\tremaining: 2m 41s\n",
      "29:\tlearn: 0.5563496\ttotal: 28.3s\tremaining: 2m 40s\n",
      "30:\tlearn: 0.5566821\ttotal: 29.2s\tremaining: 2m 39s\n",
      "31:\tlearn: 0.5582332\ttotal: 30.3s\tremaining: 2m 38s\n",
      "32:\tlearn: 0.5603606\ttotal: 31.1s\tremaining: 2m 37s\n",
      "33:\tlearn: 0.5646531\ttotal: 32s\tremaining: 2m 36s\n",
      "34:\tlearn: 0.5767247\ttotal: 32.9s\tremaining: 2m 35s\n",
      "35:\tlearn: 0.5876958\ttotal: 33.8s\tremaining: 2m 34s\n",
      "36:\tlearn: 0.5886415\ttotal: 34.7s\tremaining: 2m 32s\n",
      "37:\tlearn: 0.5790515\ttotal: 35.5s\tremaining: 2m 31s\n",
      "38:\tlearn: 0.5801042\ttotal: 36.7s\tremaining: 2m 31s\n",
      "39:\tlearn: 0.5916844\ttotal: 37.6s\tremaining: 2m 30s\n",
      "40:\tlearn: 0.5931973\ttotal: 38.4s\tremaining: 2m 29s\n",
      "41:\tlearn: 0.6035830\ttotal: 39.3s\tremaining: 2m 28s\n",
      "42:\tlearn: 0.6049404\ttotal: 40.2s\tremaining: 2m 26s\n",
      "43:\tlearn: 0.6136085\ttotal: 41.3s\tremaining: 2m 26s\n",
      "44:\tlearn: 0.6141118\ttotal: 42.2s\tremaining: 2m 25s\n",
      "45:\tlearn: 0.6147126\ttotal: 43s\tremaining: 2m 24s\n",
      "46:\tlearn: 0.6143715\ttotal: 44s\tremaining: 2m 23s\n",
      "47:\tlearn: 0.6151159\ttotal: 44.8s\tremaining: 2m 21s\n",
      "48:\tlearn: 0.6158501\ttotal: 45.7s\tremaining: 2m 20s\n",
      "49:\tlearn: 0.6170126\ttotal: 46.6s\tremaining: 2m 19s\n",
      "50:\tlearn: 0.6186967\ttotal: 47.5s\tremaining: 2m 18s\n",
      "51:\tlearn: 0.6197101\ttotal: 48.4s\tremaining: 2m 17s\n",
      "52:\tlearn: 0.6214042\ttotal: 49.3s\tremaining: 2m 16s\n",
      "53:\tlearn: 0.6213525\ttotal: 50.2s\tremaining: 2m 15s\n",
      "54:\tlearn: 0.6219625\ttotal: 51s\tremaining: 2m 14s\n",
      "55:\tlearn: 0.6230778\ttotal: 51.9s\tremaining: 2m 13s\n",
      "56:\tlearn: 0.6236920\ttotal: 52.9s\tremaining: 2m 12s\n",
      "57:\tlearn: 0.6249639\ttotal: 53.8s\tremaining: 2m 11s\n",
      "58:\tlearn: 0.6262766\ttotal: 54.7s\tremaining: 2m 10s\n",
      "59:\tlearn: 0.6271186\ttotal: 55.6s\tremaining: 2m 9s\n",
      "60:\tlearn: 0.6283247\ttotal: 56.5s\tremaining: 2m 8s\n",
      "61:\tlearn: 0.6291566\ttotal: 57.4s\tremaining: 2m 7s\n",
      "62:\tlearn: 0.6304173\ttotal: 58.3s\tremaining: 2m 6s\n",
      "63:\tlearn: 0.6371782\ttotal: 59.2s\tremaining: 2m 5s\n",
      "64:\tlearn: 0.6316635\ttotal: 1m\tremaining: 2m 4s\n",
      "65:\tlearn: 0.6376183\ttotal: 1m 1s\tremaining: 2m 4s\n",
      "66:\tlearn: 0.6380067\ttotal: 1m 2s\tremaining: 2m 3s\n",
      "67:\tlearn: 0.6330869\ttotal: 1m 2s\tremaining: 2m 2s\n",
      "68:\tlearn: 0.6415824\ttotal: 1m 3s\tremaining: 2m 1s\n",
      "69:\tlearn: 0.6383027\ttotal: 1m 4s\tremaining: 2m\n",
      "70:\tlearn: 0.6368517\ttotal: 1m 5s\tremaining: 1m 59s\n",
      "71:\tlearn: 0.6366442\ttotal: 1m 6s\tremaining: 1m 58s\n",
      "72:\tlearn: 0.6372308\ttotal: 1m 7s\tremaining: 1m 57s\n",
      "73:\tlearn: 0.6373815\ttotal: 1m 8s\tremaining: 1m 56s\n",
      "74:\tlearn: 0.6378169\ttotal: 1m 9s\tremaining: 1m 55s\n",
      "75:\tlearn: 0.6387178\ttotal: 1m 10s\tremaining: 1m 54s\n",
      "76:\tlearn: 0.6394666\ttotal: 1m 10s\tremaining: 1m 53s\n",
      "77:\tlearn: 0.6401093\ttotal: 1m 11s\tremaining: 1m 52s\n",
      "78:\tlearn: 0.6417410\ttotal: 1m 12s\tremaining: 1m 51s\n",
      "79:\tlearn: 0.6410373\ttotal: 1m 13s\tremaining: 1m 50s\n",
      "80:\tlearn: 0.6471819\ttotal: 1m 14s\tremaining: 1m 49s\n",
      "81:\tlearn: 0.6479096\ttotal: 1m 15s\tremaining: 1m 48s\n",
      "82:\tlearn: 0.6485174\ttotal: 1m 16s\tremaining: 1m 47s\n",
      "83:\tlearn: 0.6484807\ttotal: 1m 17s\tremaining: 1m 46s\n",
      "84:\tlearn: 0.6484013\ttotal: 1m 18s\tremaining: 1m 46s\n",
      "85:\tlearn: 0.6502791\ttotal: 1m 19s\tremaining: 1m 45s\n",
      "86:\tlearn: 0.6504707\ttotal: 1m 20s\tremaining: 1m 44s\n",
      "87:\tlearn: 0.6507776\ttotal: 1m 21s\tremaining: 1m 43s\n",
      "88:\tlearn: 0.6510868\ttotal: 1m 21s\tremaining: 1m 42s\n",
      "89:\tlearn: 0.6513539\ttotal: 1m 22s\tremaining: 1m 41s\n",
      "90:\tlearn: 0.6521128\ttotal: 1m 23s\tremaining: 1m 40s\n",
      "91:\tlearn: 0.6522228\ttotal: 1m 24s\tremaining: 1m 39s\n",
      "92:\tlearn: 0.6533228\ttotal: 1m 25s\tremaining: 1m 38s\n",
      "93:\tlearn: 0.6570276\ttotal: 1m 26s\tremaining: 1m 37s\n",
      "94:\tlearn: 0.6616424\ttotal: 1m 27s\tremaining: 1m 36s\n",
      "95:\tlearn: 0.6623898\ttotal: 1m 28s\tremaining: 1m 35s\n",
      "96:\tlearn: 0.6653694\ttotal: 1m 29s\tremaining: 1m 34s\n",
      "97:\tlearn: 0.6655548\ttotal: 1m 30s\tremaining: 1m 34s\n",
      "98:\tlearn: 0.6661107\ttotal: 1m 31s\tremaining: 1m 33s\n",
      "99:\tlearn: 0.6671850\ttotal: 1m 32s\tremaining: 1m 32s\n",
      "100:\tlearn: 0.6675179\ttotal: 1m 33s\tremaining: 1m 31s\n",
      "101:\tlearn: 0.6679245\ttotal: 1m 34s\tremaining: 1m 30s\n",
      "102:\tlearn: 0.6682938\ttotal: 1m 34s\tremaining: 1m 29s\n",
      "103:\tlearn: 0.6688848\ttotal: 1m 35s\tremaining: 1m 28s\n",
      "104:\tlearn: 0.6692171\ttotal: 1m 36s\tremaining: 1m 27s\n",
      "105:\tlearn: 0.6683682\ttotal: 1m 37s\tremaining: 1m 26s\n",
      "106:\tlearn: 0.6684421\ttotal: 1m 38s\tremaining: 1m 25s\n",
      "107:\tlearn: 0.6693647\ttotal: 1m 39s\tremaining: 1m 24s\n",
      "108:\tlearn: 0.6697334\ttotal: 1m 40s\tremaining: 1m 23s\n",
      "109:\tlearn: 0.6703595\ttotal: 1m 41s\tremaining: 1m 23s\n",
      "110:\tlearn: 0.6710599\ttotal: 1m 42s\tremaining: 1m 22s\n",
      "111:\tlearn: 0.6714989\ttotal: 1m 43s\tremaining: 1m 21s\n",
      "112:\tlearn: 0.6718655\ttotal: 1m 44s\tremaining: 1m 20s\n",
      "113:\tlearn: 0.6724157\ttotal: 1m 45s\tremaining: 1m 19s\n",
      "114:\tlearn: 0.6730387\ttotal: 1m 45s\tremaining: 1m 18s\n",
      "115:\tlearn: 0.6738818\ttotal: 1m 46s\tremaining: 1m 17s\n",
      "116:\tlearn: 0.6745418\ttotal: 1m 47s\tremaining: 1m 16s\n",
      "117:\tlearn: 0.6782944\ttotal: 1m 48s\tremaining: 1m 15s\n",
      "118:\tlearn: 0.6781843\ttotal: 1m 49s\tremaining: 1m 14s\n",
      "119:\tlearn: 0.6792370\ttotal: 1m 50s\tremaining: 1m 13s\n",
      "120:\tlearn: 0.6817334\ttotal: 1m 51s\tremaining: 1m 12s\n",
      "121:\tlearn: 0.6820226\ttotal: 1m 52s\tremaining: 1m 11s\n",
      "122:\tlearn: 0.6823813\ttotal: 1m 53s\tremaining: 1m 10s\n",
      "123:\tlearn: 0.6827397\ttotal: 1m 53s\tremaining: 1m 9s\n",
      "124:\tlearn: 0.6831032\ttotal: 1m 54s\tremaining: 1m 8s\n",
      "125:\tlearn: 0.6830658\ttotal: 1m 55s\tremaining: 1m 7s\n",
      "126:\tlearn: 0.6840031\ttotal: 1m 56s\tremaining: 1m 6s\n",
      "127:\tlearn: 0.6858298\ttotal: 1m 57s\tremaining: 1m 6s\n",
      "128:\tlearn: 0.6850454\ttotal: 1m 58s\tremaining: 1m 5s\n",
      "129:\tlearn: 0.6854049\ttotal: 1m 59s\tremaining: 1m 4s\n",
      "130:\tlearn: 0.6858018\ttotal: 2m\tremaining: 1m 3s\n",
      "131:\tlearn: 0.6847981\ttotal: 2m 1s\tremaining: 1m 2s\n",
      "132:\tlearn: 0.6849765\ttotal: 2m 1s\tremaining: 1m 1s\n",
      "133:\tlearn: 0.6855518\ttotal: 2m 2s\tremaining: 1m\n",
      "134:\tlearn: 0.6863013\ttotal: 2m 3s\tremaining: 59.6s\n",
      "135:\tlearn: 0.6866976\ttotal: 2m 4s\tremaining: 58.6s\n",
      "136:\tlearn: 0.6872372\ttotal: 2m 5s\tremaining: 57.7s\n",
      "137:\tlearn: 0.6875205\ttotal: 2m 6s\tremaining: 56.8s\n",
      "138:\tlearn: 0.6878070\ttotal: 2m 7s\tremaining: 55.8s\n",
      "139:\tlearn: 0.6877319\ttotal: 2m 8s\tremaining: 54.9s\n",
      "140:\tlearn: 0.6877626\ttotal: 2m 9s\tremaining: 54s\n",
      "141:\tlearn: 0.6887230\ttotal: 2m 10s\tremaining: 53.1s\n",
      "142:\tlearn: 0.6895012\ttotal: 2m 10s\tremaining: 52.2s\n",
      "143:\tlearn: 0.6904917\ttotal: 2m 11s\tremaining: 51.2s\n",
      "144:\tlearn: 0.6906303\ttotal: 2m 12s\tremaining: 50.3s\n",
      "145:\tlearn: 0.6899592\ttotal: 2m 13s\tremaining: 49.5s\n",
      "146:\tlearn: 0.6899592\ttotal: 2m 14s\tremaining: 48.5s\n",
      "147:\tlearn: 0.6911621\ttotal: 2m 15s\tremaining: 47.6s\n",
      "148:\tlearn: 0.6901692\ttotal: 2m 16s\tremaining: 46.7s\n",
      "149:\tlearn: 0.6920528\ttotal: 2m 17s\tremaining: 45.8s\n",
      "150:\tlearn: 0.6933550\ttotal: 2m 18s\tremaining: 44.9s\n",
      "151:\tlearn: 0.6933926\ttotal: 2m 19s\tremaining: 44s\n",
      "152:\tlearn: 0.6949079\ttotal: 2m 20s\tremaining: 43s\n",
      "153:\tlearn: 0.6944264\ttotal: 2m 20s\tremaining: 42.1s\n",
      "154:\tlearn: 0.6950631\ttotal: 2m 21s\tremaining: 41.2s\n",
      "155:\tlearn: 0.6961840\ttotal: 2m 22s\tremaining: 40.2s\n",
      "156:\tlearn: 0.6968747\ttotal: 2m 23s\tremaining: 39.3s\n",
      "157:\tlearn: 0.6967386\ttotal: 2m 24s\tremaining: 38.4s\n",
      "158:\tlearn: 0.6988876\ttotal: 2m 25s\tremaining: 37.5s\n",
      "159:\tlearn: 0.6990281\ttotal: 2m 26s\tremaining: 36.5s\n",
      "160:\tlearn: 0.6989526\ttotal: 2m 27s\tremaining: 35.6s\n",
      "161:\tlearn: 0.6989474\ttotal: 2m 27s\tremaining: 34.7s\n",
      "162:\tlearn: 0.6993415\ttotal: 2m 28s\tremaining: 33.8s\n",
      "163:\tlearn: 0.6993362\ttotal: 2m 29s\tremaining: 32.9s\n",
      "164:\tlearn: 0.6996657\ttotal: 2m 30s\tremaining: 32s\n",
      "165:\tlearn: 0.6997034\ttotal: 2m 31s\tremaining: 31.1s\n",
      "166:\tlearn: 0.6996710\ttotal: 2m 32s\tremaining: 30.2s\n",
      "167:\tlearn: 0.7003556\ttotal: 2m 33s\tremaining: 29.2s\n",
      "168:\tlearn: 0.7007001\ttotal: 2m 34s\tremaining: 28.3s\n",
      "169:\tlearn: 0.7010820\ttotal: 2m 35s\tremaining: 27.4s\n",
      "170:\tlearn: 0.7016468\ttotal: 2m 36s\tremaining: 26.5s\n",
      "171:\tlearn: 0.7019960\ttotal: 2m 37s\tremaining: 25.6s\n",
      "172:\tlearn: 0.7035305\ttotal: 2m 37s\tremaining: 24.6s\n",
      "173:\tlearn: 0.7037395\ttotal: 2m 38s\tremaining: 23.7s\n",
      "174:\tlearn: 0.7045369\ttotal: 2m 39s\tremaining: 22.8s\n",
      "175:\tlearn: 0.7047077\ttotal: 2m 40s\tremaining: 21.9s\n",
      "176:\tlearn: 0.7052637\ttotal: 2m 41s\tremaining: 21s\n",
      "177:\tlearn: 0.7053016\ttotal: 2m 42s\tremaining: 20.1s\n",
      "178:\tlearn: 0.7054027\ttotal: 2m 43s\tremaining: 19.2s\n",
      "179:\tlearn: 0.7057183\ttotal: 2m 44s\tremaining: 18.2s\n",
      "180:\tlearn: 0.7061662\ttotal: 2m 45s\tremaining: 17.3s\n",
      "181:\tlearn: 0.7069603\ttotal: 2m 46s\tremaining: 16.4s\n",
      "182:\tlearn: 0.7074451\ttotal: 2m 46s\tremaining: 15.5s\n",
      "183:\tlearn: 0.7110141\ttotal: 2m 47s\tremaining: 14.6s\n",
      "184:\tlearn: 0.7113572\ttotal: 2m 48s\tremaining: 13.7s\n",
      "185:\tlearn: 0.7115487\ttotal: 2m 49s\tremaining: 12.8s\n",
      "186:\tlearn: 0.7079542\ttotal: 2m 50s\tremaining: 11.9s\n",
      "187:\tlearn: 0.7081995\ttotal: 2m 51s\tremaining: 10.9s\n",
      "188:\tlearn: 0.7084381\ttotal: 2m 52s\tremaining: 10s\n",
      "189:\tlearn: 0.7085763\ttotal: 2m 53s\tremaining: 9.11s\n",
      "190:\tlearn: 0.7086075\ttotal: 2m 53s\tremaining: 8.2s\n",
      "191:\tlearn: 0.7089393\ttotal: 2m 54s\tremaining: 7.29s\n",
      "192:\tlearn: 0.7089772\ttotal: 2m 55s\tremaining: 6.38s\n",
      "193:\tlearn: 0.7096292\ttotal: 2m 56s\tremaining: 5.47s\n",
      "194:\tlearn: 0.7098498\ttotal: 2m 57s\tremaining: 4.56s\n",
      "195:\tlearn: 0.7099498\ttotal: 2m 58s\tremaining: 3.65s\n",
      "196:\tlearn: 0.7103942\ttotal: 2m 59s\tremaining: 2.73s\n",
      "197:\tlearn: 0.7121446\ttotal: 3m\tremaining: 1.82s\n",
      "198:\tlearn: 0.7123200\ttotal: 3m 1s\tremaining: 911ms\n",
      "199:\tlearn: 0.7140042\ttotal: 3m 2s\tremaining: 0us\n",
      "[CV] END clf__eval_metric=F1, clf__iterations=200, clf__learning_rate=0.1, clf__random_state=12345, clf__task_type=GPU; total time= 7.2min\n",
      "0:\tlearn: 0.5316946\ttotal: 1.55s\tremaining: 5m 8s\n",
      "1:\tlearn: 0.5024923\ttotal: 2.43s\tremaining: 4m\n",
      "2:\tlearn: 0.5158118\ttotal: 3.34s\tremaining: 3m 39s\n",
      "3:\tlearn: 0.5040086\ttotal: 4.3s\tremaining: 3m 30s\n",
      "4:\tlearn: 0.5143282\ttotal: 5.22s\tremaining: 3m 23s\n",
      "5:\tlearn: 0.5041719\ttotal: 6.13s\tremaining: 3m 18s\n",
      "6:\tlearn: 0.5071438\ttotal: 7.03s\tremaining: 3m 13s\n",
      "7:\tlearn: 0.5312228\ttotal: 7.94s\tremaining: 3m 10s\n",
      "8:\tlearn: 0.5174360\ttotal: 8.87s\tremaining: 3m 8s\n",
      "9:\tlearn: 0.5387886\ttotal: 9.8s\tremaining: 3m 6s\n",
      "10:\tlearn: 0.5205582\ttotal: 10.8s\tremaining: 3m 4s\n",
      "11:\tlearn: 0.5203609\ttotal: 11.7s\tremaining: 3m 3s\n",
      "12:\tlearn: 0.5227557\ttotal: 12.8s\tremaining: 3m 3s\n",
      "13:\tlearn: 0.5208725\ttotal: 13.7s\tremaining: 3m 2s\n",
      "14:\tlearn: 0.5239940\ttotal: 14.6s\tremaining: 3m\n",
      "15:\tlearn: 0.5412012\ttotal: 15.5s\tremaining: 2m 58s\n",
      "16:\tlearn: 0.5278764\ttotal: 16.4s\tremaining: 2m 56s\n",
      "17:\tlearn: 0.5289174\ttotal: 17.3s\tremaining: 2m 55s\n",
      "18:\tlearn: 0.5304802\ttotal: 18.2s\tremaining: 2m 53s\n",
      "19:\tlearn: 0.5286783\ttotal: 19.2s\tremaining: 2m 52s\n",
      "20:\tlearn: 0.5461468\ttotal: 20.2s\tremaining: 2m 51s\n",
      "21:\tlearn: 0.5582246\ttotal: 21.2s\tremaining: 2m 51s\n",
      "22:\tlearn: 0.5590153\ttotal: 22.1s\tremaining: 2m 49s\n",
      "23:\tlearn: 0.5604188\ttotal: 23s\tremaining: 2m 48s\n",
      "24:\tlearn: 0.5641150\ttotal: 23.8s\tremaining: 2m 46s\n",
      "25:\tlearn: 0.5640963\ttotal: 24.7s\tremaining: 2m 45s\n",
      "26:\tlearn: 0.5751791\ttotal: 25.6s\tremaining: 2m 43s\n",
      "27:\tlearn: 0.5666525\ttotal: 26.5s\tremaining: 2m 42s\n",
      "28:\tlearn: 0.5574551\ttotal: 27.4s\tremaining: 2m 41s\n",
      "29:\tlearn: 0.5581651\ttotal: 28.3s\tremaining: 2m 40s\n",
      "30:\tlearn: 0.5491617\ttotal: 29.3s\tremaining: 2m 39s\n",
      "31:\tlearn: 0.5495949\ttotal: 30.2s\tremaining: 2m 38s\n",
      "32:\tlearn: 0.5635614\ttotal: 31.1s\tremaining: 2m 37s\n",
      "33:\tlearn: 0.5650067\ttotal: 32s\tremaining: 2m 36s\n",
      "34:\tlearn: 0.5841004\ttotal: 32.9s\tremaining: 2m 35s\n",
      "35:\tlearn: 0.5845529\ttotal: 33.8s\tremaining: 2m 33s\n",
      "36:\tlearn: 0.5928610\ttotal: 34.7s\tremaining: 2m 32s\n",
      "37:\tlearn: 0.5945657\ttotal: 35.6s\tremaining: 2m 31s\n",
      "38:\tlearn: 0.5953030\ttotal: 36.6s\tremaining: 2m 31s\n",
      "39:\tlearn: 0.6004594\ttotal: 37.5s\tremaining: 2m 29s\n",
      "40:\tlearn: 0.6008012\ttotal: 38.4s\tremaining: 2m 28s\n",
      "41:\tlearn: 0.6016959\ttotal: 39.4s\tremaining: 2m 28s\n",
      "42:\tlearn: 0.6022834\ttotal: 40.3s\tremaining: 2m 27s\n",
      "43:\tlearn: 0.6035628\ttotal: 41.3s\tremaining: 2m 26s\n",
      "44:\tlearn: 0.6050035\ttotal: 42.2s\tremaining: 2m 25s\n",
      "45:\tlearn: 0.6062419\ttotal: 43.1s\tremaining: 2m 24s\n",
      "46:\tlearn: 0.6099971\ttotal: 44s\tremaining: 2m 23s\n",
      "47:\tlearn: 0.6102606\ttotal: 44.9s\tremaining: 2m 22s\n",
      "48:\tlearn: 0.6110722\ttotal: 45.8s\tremaining: 2m 21s\n",
      "49:\tlearn: 0.6113512\ttotal: 46.8s\tremaining: 2m 20s\n",
      "50:\tlearn: 0.6122782\ttotal: 47.7s\tremaining: 2m 19s\n",
      "51:\tlearn: 0.6144796\ttotal: 48.6s\tremaining: 2m 18s\n",
      "52:\tlearn: 0.6142549\ttotal: 49.5s\tremaining: 2m 17s\n",
      "53:\tlearn: 0.6193324\ttotal: 50.5s\tremaining: 2m 16s\n",
      "54:\tlearn: 0.6189315\ttotal: 51.4s\tremaining: 2m 15s\n",
      "55:\tlearn: 0.6207816\ttotal: 52.4s\tremaining: 2m 14s\n",
      "56:\tlearn: 0.6286604\ttotal: 53.3s\tremaining: 2m 13s\n",
      "57:\tlearn: 0.6292200\ttotal: 54.3s\tremaining: 2m 12s\n",
      "58:\tlearn: 0.6295592\ttotal: 55.2s\tremaining: 2m 11s\n",
      "59:\tlearn: 0.6297598\ttotal: 56.1s\tremaining: 2m 10s\n",
      "60:\tlearn: 0.6298088\ttotal: 57.2s\tremaining: 2m 10s\n",
      "61:\tlearn: 0.6303009\ttotal: 58.1s\tremaining: 2m 9s\n",
      "62:\tlearn: 0.6280344\ttotal: 58.9s\tremaining: 2m 8s\n",
      "63:\tlearn: 0.6285517\ttotal: 59.9s\tremaining: 2m 7s\n",
      "64:\tlearn: 0.6288808\ttotal: 1m\tremaining: 2m 6s\n",
      "65:\tlearn: 0.6294036\ttotal: 1m 1s\tremaining: 2m 5s\n",
      "66:\tlearn: 0.6304773\ttotal: 1m 2s\tremaining: 2m 4s\n",
      "67:\tlearn: 0.6323521\ttotal: 1m 3s\tremaining: 2m 3s\n",
      "68:\tlearn: 0.6328649\ttotal: 1m 4s\tremaining: 2m 2s\n",
      "69:\tlearn: 0.6332206\ttotal: 1m 5s\tremaining: 2m 1s\n",
      "70:\tlearn: 0.6333773\ttotal: 1m 6s\tremaining: 2m\n",
      "71:\tlearn: 0.6343113\ttotal: 1m 7s\tremaining: 1m 59s\n",
      "72:\tlearn: 0.6347079\ttotal: 1m 8s\tremaining: 1m 58s\n",
      "73:\tlearn: 0.6354894\ttotal: 1m 9s\tremaining: 1m 57s\n",
      "74:\tlearn: 0.6363948\ttotal: 1m 10s\tremaining: 1m 56s\n",
      "75:\tlearn: 0.6433439\ttotal: 1m 10s\tremaining: 1m 55s\n",
      "76:\tlearn: 0.6438504\ttotal: 1m 11s\tremaining: 1m 54s\n",
      "77:\tlearn: 0.6480308\ttotal: 1m 12s\tremaining: 1m 53s\n",
      "78:\tlearn: 0.6483796\ttotal: 1m 13s\tremaining: 1m 52s\n",
      "79:\tlearn: 0.6519705\ttotal: 1m 14s\tremaining: 1m 51s\n",
      "80:\tlearn: 0.6525390\ttotal: 1m 15s\tremaining: 1m 50s\n",
      "81:\tlearn: 0.6524287\ttotal: 1m 16s\tremaining: 1m 49s\n",
      "82:\tlearn: 0.6526221\ttotal: 1m 17s\tremaining: 1m 49s\n",
      "83:\tlearn: 0.6534196\ttotal: 1m 18s\tremaining: 1m 48s\n",
      "84:\tlearn: 0.6537985\ttotal: 1m 19s\tremaining: 1m 47s\n",
      "85:\tlearn: 0.6549399\ttotal: 1m 20s\tremaining: 1m 46s\n",
      "86:\tlearn: 0.6552847\ttotal: 1m 21s\tremaining: 1m 45s\n",
      "87:\tlearn: 0.6562675\ttotal: 1m 21s\tremaining: 1m 44s\n",
      "88:\tlearn: 0.6567198\ttotal: 1m 22s\tremaining: 1m 43s\n",
      "89:\tlearn: 0.6569441\ttotal: 1m 23s\tremaining: 1m 42s\n",
      "90:\tlearn: 0.6607033\ttotal: 1m 24s\tremaining: 1m 41s\n",
      "91:\tlearn: 0.6612642\ttotal: 1m 25s\tremaining: 1m 40s\n",
      "92:\tlearn: 0.6648094\ttotal: 1m 26s\tremaining: 1m 39s\n",
      "93:\tlearn: 0.6694059\ttotal: 1m 27s\tremaining: 1m 38s\n",
      "94:\tlearn: 0.6697380\ttotal: 1m 28s\tremaining: 1m 37s\n",
      "95:\tlearn: 0.6679260\ttotal: 1m 29s\tremaining: 1m 36s\n",
      "96:\tlearn: 0.6685914\ttotal: 1m 30s\tremaining: 1m 35s\n",
      "97:\tlearn: 0.6709162\ttotal: 1m 31s\tremaining: 1m 34s\n",
      "98:\tlearn: 0.6714681\ttotal: 1m 32s\tremaining: 1m 33s\n",
      "99:\tlearn: 0.6743659\ttotal: 1m 32s\tremaining: 1m 32s\n",
      "100:\tlearn: 0.6747720\ttotal: 1m 34s\tremaining: 1m 32s\n",
      "101:\tlearn: 0.6752458\ttotal: 1m 34s\tremaining: 1m 31s\n",
      "102:\tlearn: 0.6758666\ttotal: 1m 35s\tremaining: 1m 30s\n",
      "103:\tlearn: 0.6763781\ttotal: 1m 36s\tremaining: 1m 29s\n",
      "104:\tlearn: 0.6768128\ttotal: 1m 37s\tremaining: 1m 28s\n",
      "105:\tlearn: 0.6776149\ttotal: 1m 38s\tremaining: 1m 27s\n",
      "106:\tlearn: 0.6779792\ttotal: 1m 39s\tremaining: 1m 26s\n",
      "107:\tlearn: 0.6783394\ttotal: 1m 40s\tremaining: 1m 25s\n",
      "108:\tlearn: 0.6790273\ttotal: 1m 41s\tremaining: 1m 24s\n",
      "109:\tlearn: 0.6795711\ttotal: 1m 42s\tremaining: 1m 23s\n",
      "110:\tlearn: 0.6794611\ttotal: 1m 43s\tremaining: 1m 22s\n",
      "111:\tlearn: 0.6797493\ttotal: 1m 44s\tremaining: 1m 21s\n",
      "112:\tlearn: 0.6803976\ttotal: 1m 44s\tremaining: 1m 20s\n",
      "113:\tlearn: 0.6824187\ttotal: 1m 45s\tremaining: 1m 19s\n",
      "114:\tlearn: 0.6824187\ttotal: 1m 46s\tremaining: 1m 18s\n",
      "115:\tlearn: 0.6831754\ttotal: 1m 47s\tremaining: 1m 18s\n",
      "116:\tlearn: 0.6855769\ttotal: 1m 48s\tremaining: 1m 17s\n",
      "117:\tlearn: 0.6855019\ttotal: 1m 49s\tremaining: 1m 16s\n",
      "118:\tlearn: 0.6857923\ttotal: 1m 50s\tremaining: 1m 15s\n",
      "119:\tlearn: 0.6860389\ttotal: 1m 51s\tremaining: 1m 14s\n",
      "120:\tlearn: 0.6865721\ttotal: 1m 52s\tremaining: 1m 13s\n",
      "121:\tlearn: 0.6868929\ttotal: 1m 53s\tremaining: 1m 12s\n",
      "122:\tlearn: 0.6874284\ttotal: 1m 54s\tremaining: 1m 11s\n",
      "123:\tlearn: 0.6877182\ttotal: 1m 55s\tremaining: 1m 10s\n",
      "124:\tlearn: 0.6880279\ttotal: 1m 56s\tremaining: 1m 9s\n",
      "125:\tlearn: 0.6879154\ttotal: 1m 57s\tremaining: 1m 8s\n",
      "126:\tlearn: 0.6886371\ttotal: 1m 57s\tremaining: 1m 7s\n",
      "127:\tlearn: 0.6885996\ttotal: 1m 58s\tremaining: 1m 6s\n",
      "128:\tlearn: 0.6887424\ttotal: 1m 59s\tremaining: 1m 5s\n",
      "129:\tlearn: 0.6887085\ttotal: 2m\tremaining: 1m 4s\n",
      "130:\tlearn: 0.6888175\ttotal: 2m 1s\tremaining: 1m 4s\n",
      "131:\tlearn: 0.6893172\ttotal: 2m 2s\tremaining: 1m 3s\n",
      "132:\tlearn: 0.6897753\ttotal: 2m 3s\tremaining: 1m 2s\n",
      "133:\tlearn: 0.6901202\ttotal: 2m 4s\tremaining: 1m 1s\n",
      "134:\tlearn: 0.6908438\ttotal: 2m 5s\tremaining: 1m\n",
      "135:\tlearn: 0.6911997\ttotal: 2m 6s\tremaining: 59.4s\n",
      "136:\tlearn: 0.6921280\ttotal: 2m 7s\tremaining: 58.4s\n",
      "137:\tlearn: 0.6922701\ttotal: 2m 8s\tremaining: 57.5s\n",
      "138:\tlearn: 0.6928758\ttotal: 2m 9s\tremaining: 56.6s\n",
      "139:\tlearn: 0.6937890\ttotal: 2m 9s\tremaining: 55.7s\n",
      "140:\tlearn: 0.6961936\ttotal: 2m 10s\tremaining: 54.8s\n",
      "141:\tlearn: 0.6962642\ttotal: 2m 11s\tremaining: 53.8s\n",
      "142:\tlearn: 0.6969222\ttotal: 2m 12s\tremaining: 52.9s\n",
      "143:\tlearn: 0.6967484\ttotal: 2m 13s\tremaining: 52s\n",
      "144:\tlearn: 0.6987522\ttotal: 2m 14s\tremaining: 51.1s\n",
      "145:\tlearn: 0.6991088\ttotal: 2m 15s\tremaining: 50.1s\n",
      "146:\tlearn: 0.6993090\ttotal: 2m 16s\tremaining: 49.2s\n",
      "147:\tlearn: 0.6996871\ttotal: 2m 17s\tremaining: 48.3s\n",
      "148:\tlearn: 0.6998327\ttotal: 2m 18s\tremaining: 47.4s\n",
      "149:\tlearn: 0.7003073\ttotal: 2m 19s\tremaining: 46.5s\n",
      "150:\tlearn: 0.7009376\ttotal: 2m 20s\tremaining: 45.5s\n",
      "151:\tlearn: 0.7008943\ttotal: 2m 21s\tremaining: 44.7s\n",
      "152:\tlearn: 0.7010720\ttotal: 2m 22s\tremaining: 43.7s\n",
      "153:\tlearn: 0.7012120\ttotal: 2m 23s\tremaining: 42.8s\n",
      "154:\tlearn: 0.7020303\ttotal: 2m 24s\tremaining: 41.8s\n",
      "155:\tlearn: 0.7025514\ttotal: 2m 24s\tremaining: 40.9s\n",
      "156:\tlearn: 0.7029469\ttotal: 2m 25s\tremaining: 39.9s\n",
      "157:\tlearn: 0.7024207\ttotal: 2m 26s\tremaining: 39s\n",
      "158:\tlearn: 0.7022810\ttotal: 2m 27s\tremaining: 38.1s\n",
      "159:\tlearn: 0.7022810\ttotal: 2m 28s\tremaining: 37.2s\n",
      "160:\tlearn: 0.7021414\ttotal: 2m 29s\tremaining: 36.2s\n",
      "161:\tlearn: 0.7023509\ttotal: 2m 30s\tremaining: 35.3s\n",
      "162:\tlearn: 0.7025660\ttotal: 2m 31s\tremaining: 34.3s\n",
      "163:\tlearn: 0.7026678\ttotal: 2m 32s\tremaining: 33.4s\n",
      "164:\tlearn: 0.7028393\ttotal: 2m 33s\tremaining: 32.5s\n",
      "165:\tlearn: 0.7033215\ttotal: 2m 34s\tremaining: 31.6s\n",
      "166:\tlearn: 0.7036639\ttotal: 2m 35s\tremaining: 30.6s\n",
      "167:\tlearn: 0.7037654\ttotal: 2m 35s\tremaining: 29.7s\n",
      "168:\tlearn: 0.7040696\ttotal: 2m 36s\tremaining: 28.8s\n",
      "169:\tlearn: 0.7041392\ttotal: 2m 37s\tremaining: 27.8s\n",
      "170:\tlearn: 0.7044552\ttotal: 2m 38s\tremaining: 26.9s\n",
      "171:\tlearn: 0.7047711\ttotal: 2m 39s\tremaining: 26s\n",
      "172:\tlearn: 0.7050491\ttotal: 2m 40s\tremaining: 25s\n",
      "173:\tlearn: 0.7050931\ttotal: 2m 41s\tremaining: 24.1s\n",
      "174:\tlearn: 0.7053710\ttotal: 2m 42s\tremaining: 23.2s\n",
      "175:\tlearn: 0.7053964\ttotal: 2m 43s\tremaining: 22.3s\n",
      "176:\tlearn: 0.7053586\ttotal: 2m 44s\tremaining: 21.3s\n",
      "177:\tlearn: 0.7056741\ttotal: 2m 45s\tremaining: 20.4s\n",
      "178:\tlearn: 0.7059517\ttotal: 2m 46s\tremaining: 19.5s\n",
      "179:\tlearn: 0.7062292\ttotal: 2m 47s\tremaining: 18.6s\n",
      "180:\tlearn: 0.7066638\ttotal: 2m 48s\tremaining: 17.6s\n",
      "181:\tlearn: 0.7069409\ttotal: 2m 48s\tremaining: 16.7s\n",
      "182:\tlearn: 0.7070729\ttotal: 2m 49s\tremaining: 15.8s\n",
      "183:\tlearn: 0.7067645\ttotal: 2m 50s\tremaining: 14.8s\n",
      "184:\tlearn: 0.7070285\ttotal: 2m 51s\tremaining: 13.9s\n",
      "185:\tlearn: 0.7078519\ttotal: 2m 52s\tremaining: 13s\n",
      "186:\tlearn: 0.7079902\ttotal: 2m 53s\tremaining: 12.1s\n",
      "187:\tlearn: 0.7079902\ttotal: 2m 54s\tremaining: 11.2s\n",
      "188:\tlearn: 0.7088188\ttotal: 2m 55s\tremaining: 10.2s\n",
      "189:\tlearn: 0.7091706\ttotal: 2m 56s\tremaining: 9.29s\n",
      "190:\tlearn: 0.7096464\ttotal: 2m 57s\tremaining: 8.37s\n",
      "191:\tlearn: 0.7113501\ttotal: 2m 58s\tremaining: 7.43s\n",
      "192:\tlearn: 0.7117616\ttotal: 2m 59s\tremaining: 6.51s\n",
      "193:\tlearn: 0.7119293\ttotal: 3m\tremaining: 5.58s\n",
      "194:\tlearn: 0.7121349\ttotal: 3m 1s\tremaining: 4.65s\n",
      "195:\tlearn: 0.7122719\ttotal: 3m 2s\tremaining: 3.72s\n",
      "196:\tlearn: 0.7123404\ttotal: 3m 3s\tremaining: 2.79s\n",
      "197:\tlearn: 0.7125764\ttotal: 3m 4s\tremaining: 1.86s\n",
      "198:\tlearn: 0.7127134\ttotal: 3m 4s\tremaining: 930ms\n",
      "199:\tlearn: 0.7130860\ttotal: 3m 5s\tremaining: 0us\n",
      "[CV] END clf__eval_metric=F1, clf__iterations=200, clf__learning_rate=0.1, clf__random_state=12345, clf__task_type=GPU; total time= 8.0min\n",
      "0:\tlearn: 0.5402940\ttotal: 1.28s\tremaining: 4m 14s\n",
      "1:\tlearn: 0.5094575\ttotal: 2.37s\tremaining: 3m 54s\n",
      "2:\tlearn: 0.5146466\ttotal: 3.46s\tremaining: 3m 47s\n",
      "3:\tlearn: 0.5171352\ttotal: 4.51s\tremaining: 3m 40s\n",
      "4:\tlearn: 0.5154691\ttotal: 5.57s\tremaining: 3m 37s\n",
      "5:\tlearn: 0.5190573\ttotal: 6.65s\tremaining: 3m 35s\n",
      "6:\tlearn: 0.5399374\ttotal: 7.91s\tremaining: 3m 37s\n",
      "7:\tlearn: 0.5210987\ttotal: 8.93s\tremaining: 3m 34s\n",
      "8:\tlearn: 0.5200299\ttotal: 10s\tremaining: 3m 32s\n",
      "9:\tlearn: 0.5112835\ttotal: 11.1s\tremaining: 3m 30s\n",
      "10:\tlearn: 0.5218608\ttotal: 12.1s\tremaining: 3m 28s\n",
      "11:\tlearn: 0.5216696\ttotal: 13.3s\tremaining: 3m 28s\n",
      "12:\tlearn: 0.5237050\ttotal: 14.5s\tremaining: 3m 27s\n",
      "13:\tlearn: 0.5258122\ttotal: 15.5s\tremaining: 3m 26s\n",
      "14:\tlearn: 0.5250611\ttotal: 16.6s\tremaining: 3m 24s\n",
      "15:\tlearn: 0.5261427\ttotal: 17.6s\tremaining: 3m 22s\n",
      "16:\tlearn: 0.5279355\ttotal: 18.6s\tremaining: 3m 20s\n",
      "17:\tlearn: 0.5279522\ttotal: 19.6s\tremaining: 3m 18s\n",
      "18:\tlearn: 0.5302955\ttotal: 20.9s\tremaining: 3m 18s\n",
      "19:\tlearn: 0.5329430\ttotal: 21.9s\tremaining: 3m 16s\n",
      "20:\tlearn: 0.5316896\ttotal: 22.9s\tremaining: 3m 15s\n",
      "21:\tlearn: 0.5345366\ttotal: 24s\tremaining: 3m 14s\n",
      "22:\tlearn: 0.5493924\ttotal: 25.1s\tremaining: 3m 12s\n",
      "23:\tlearn: 0.5492274\ttotal: 26.1s\tremaining: 3m 11s\n",
      "24:\tlearn: 0.5384273\ttotal: 27.3s\tremaining: 3m 11s\n",
      "25:\tlearn: 0.5377793\ttotal: 28.5s\tremaining: 3m 10s\n",
      "26:\tlearn: 0.5396747\ttotal: 29.5s\tremaining: 3m 9s\n",
      "27:\tlearn: 0.5449267\ttotal: 30.6s\tremaining: 3m 7s\n",
      "28:\tlearn: 0.5470808\ttotal: 31.7s\tremaining: 3m 6s\n",
      "29:\tlearn: 0.5605294\ttotal: 32.9s\tremaining: 3m 6s\n",
      "30:\tlearn: 0.5612448\ttotal: 34s\tremaining: 3m 5s\n",
      "31:\tlearn: 0.5616578\ttotal: 35s\tremaining: 3m 3s\n",
      "32:\tlearn: 0.5635472\ttotal: 36s\tremaining: 3m 2s\n",
      "33:\tlearn: 0.5636991\ttotal: 37s\tremaining: 3m\n",
      "34:\tlearn: 0.5862792\ttotal: 38.1s\tremaining: 2m 59s\n",
      "35:\tlearn: 0.5848003\ttotal: 39.2s\tremaining: 2m 58s\n",
      "36:\tlearn: 0.5874679\ttotal: 40.2s\tremaining: 2m 57s\n",
      "37:\tlearn: 0.5897217\ttotal: 41.4s\tremaining: 2m 56s\n",
      "38:\tlearn: 0.5907257\ttotal: 42.4s\tremaining: 2m 54s\n",
      "39:\tlearn: 0.6014585\ttotal: 43.6s\tremaining: 2m 54s\n",
      "40:\tlearn: 0.5999057\ttotal: 44.7s\tremaining: 2m 53s\n",
      "41:\tlearn: 0.6001225\ttotal: 45.7s\tremaining: 2m 51s\n",
      "42:\tlearn: 0.6007254\ttotal: 46.7s\tremaining: 2m 50s\n",
      "43:\tlearn: 0.6098223\ttotal: 47.9s\tremaining: 2m 49s\n",
      "44:\tlearn: 0.6106670\ttotal: 49s\tremaining: 2m 48s\n",
      "45:\tlearn: 0.6120009\ttotal: 50.1s\tremaining: 2m 47s\n",
      "46:\tlearn: 0.6120295\ttotal: 51.1s\tremaining: 2m 46s\n",
      "47:\tlearn: 0.6130447\ttotal: 52.1s\tremaining: 2m 45s\n",
      "48:\tlearn: 0.6138715\ttotal: 53.2s\tremaining: 2m 43s\n",
      "49:\tlearn: 0.6149548\ttotal: 54.3s\tremaining: 2m 42s\n",
      "50:\tlearn: 0.6157785\ttotal: 55.4s\tremaining: 2m 41s\n",
      "51:\tlearn: 0.6164798\ttotal: 56.4s\tremaining: 2m 40s\n",
      "52:\tlearn: 0.6167303\ttotal: 57.5s\tremaining: 2m 39s\n",
      "53:\tlearn: 0.6189968\ttotal: 58.6s\tremaining: 2m 38s\n",
      "54:\tlearn: 0.6192045\ttotal: 59.7s\tremaining: 2m 37s\n",
      "55:\tlearn: 0.6200019\ttotal: 1m\tremaining: 2m 36s\n",
      "56:\tlearn: 0.6214024\ttotal: 1m 1s\tremaining: 2m 35s\n",
      "57:\tlearn: 0.6223951\ttotal: 1m 2s\tremaining: 2m 34s\n",
      "58:\tlearn: 0.6240348\ttotal: 1m 4s\tremaining: 2m 33s\n",
      "59:\tlearn: 0.6246649\ttotal: 1m 5s\tremaining: 2m 32s\n",
      "60:\tlearn: 0.6250923\ttotal: 1m 6s\tremaining: 2m 31s\n",
      "61:\tlearn: 0.6262626\ttotal: 1m 7s\tremaining: 2m 29s\n",
      "62:\tlearn: 0.6265794\ttotal: 1m 8s\tremaining: 2m 28s\n",
      "63:\tlearn: 0.6269303\ttotal: 1m 9s\tremaining: 2m 27s\n",
      "64:\tlearn: 0.6285267\ttotal: 1m 10s\tremaining: 2m 26s\n",
      "65:\tlearn: 0.6336969\ttotal: 1m 11s\tremaining: 2m 25s\n",
      "66:\tlearn: 0.6343766\ttotal: 1m 12s\tremaining: 2m 24s\n",
      "67:\tlearn: 0.6345978\ttotal: 1m 13s\tremaining: 2m 23s\n",
      "68:\tlearn: 0.6352521\ttotal: 1m 14s\tremaining: 2m 21s\n",
      "69:\tlearn: 0.6350064\ttotal: 1m 15s\tremaining: 2m 20s\n",
      "70:\tlearn: 0.6356021\ttotal: 1m 17s\tremaining: 2m 20s\n",
      "71:\tlearn: 0.6321296\ttotal: 1m 18s\tremaining: 2m 18s\n",
      "72:\tlearn: 0.6327129\ttotal: 1m 19s\tremaining: 2m 17s\n",
      "73:\tlearn: 0.6335700\ttotal: 1m 20s\tremaining: 2m 16s\n",
      "74:\tlearn: 0.6340659\ttotal: 1m 21s\tremaining: 2m 15s\n",
      "75:\tlearn: 0.6343540\ttotal: 1m 22s\tremaining: 2m 14s\n",
      "76:\tlearn: 0.6385212\ttotal: 1m 23s\tremaining: 2m 14s\n",
      "77:\tlearn: 0.6388724\ttotal: 1m 24s\tremaining: 2m 12s\n",
      "78:\tlearn: 0.6427565\ttotal: 1m 25s\tremaining: 2m 11s\n",
      "79:\tlearn: 0.6432823\ttotal: 1m 27s\tremaining: 2m 10s\n",
      "80:\tlearn: 0.6443416\ttotal: 1m 28s\tremaining: 2m 9s\n",
      "81:\tlearn: 0.6445059\ttotal: 1m 29s\tremaining: 2m 8s\n",
      "82:\tlearn: 0.6459532\ttotal: 1m 30s\tremaining: 2m 7s\n",
      "83:\tlearn: 0.6462305\ttotal: 1m 31s\tremaining: 2m 5s\n",
      "84:\tlearn: 0.6440140\ttotal: 1m 32s\tremaining: 2m 4s\n",
      "85:\tlearn: 0.6442630\ttotal: 1m 33s\tremaining: 2m 3s\n",
      "86:\tlearn: 0.6532428\ttotal: 1m 34s\tremaining: 2m 2s\n",
      "87:\tlearn: 0.6539705\ttotal: 1m 35s\tremaining: 2m 1s\n",
      "88:\tlearn: 0.6550301\ttotal: 1m 36s\tremaining: 2m\n",
      "89:\tlearn: 0.6558744\ttotal: 1m 37s\tremaining: 1m 59s\n",
      "90:\tlearn: 0.6562640\ttotal: 1m 38s\tremaining: 1m 58s\n",
      "91:\tlearn: 0.6566562\ttotal: 1m 39s\tremaining: 1m 57s\n",
      "92:\tlearn: 0.6590045\ttotal: 1m 41s\tremaining: 1m 56s\n",
      "93:\tlearn: 0.6597837\ttotal: 1m 42s\tremaining: 1m 55s\n",
      "94:\tlearn: 0.6555581\ttotal: 1m 43s\tremaining: 1m 53s\n",
      "95:\tlearn: 0.6542577\ttotal: 1m 44s\tremaining: 1m 52s\n",
      "96:\tlearn: 0.6549229\ttotal: 1m 45s\tremaining: 1m 51s\n",
      "97:\tlearn: 0.6583005\ttotal: 1m 46s\tremaining: 1m 50s\n",
      "98:\tlearn: 0.6581212\ttotal: 1m 47s\tremaining: 1m 49s\n",
      "99:\tlearn: 0.6594174\ttotal: 1m 48s\tremaining: 1m 48s\n",
      "100:\tlearn: 0.6597182\ttotal: 1m 49s\tremaining: 1m 47s\n",
      "101:\tlearn: 0.6601976\ttotal: 1m 50s\tremaining: 1m 46s\n",
      "102:\tlearn: 0.6620536\ttotal: 1m 51s\tremaining: 1m 44s\n",
      "103:\tlearn: 0.6625307\ttotal: 1m 52s\tremaining: 1m 43s\n",
      "104:\tlearn: 0.6629795\ttotal: 1m 53s\tremaining: 1m 42s\n",
      "105:\tlearn: 0.6640228\ttotal: 1m 54s\tremaining: 1m 41s\n",
      "106:\tlearn: 0.6644687\ttotal: 1m 55s\tremaining: 1m 40s\n",
      "107:\tlearn: 0.6688542\ttotal: 1m 56s\tremaining: 1m 39s\n",
      "108:\tlearn: 0.6686774\ttotal: 1m 57s\tremaining: 1m 38s\n",
      "109:\tlearn: 0.6731475\ttotal: 1m 58s\tremaining: 1m 37s\n",
      "110:\tlearn: 0.6731781\ttotal: 2m\tremaining: 1m 36s\n",
      "111:\tlearn: 0.6735010\ttotal: 2m 1s\tremaining: 1m 35s\n",
      "112:\tlearn: 0.6739361\ttotal: 2m 2s\tremaining: 1m 34s\n",
      "113:\tlearn: 0.6744925\ttotal: 2m 3s\tremaining: 1m 32s\n",
      "114:\tlearn: 0.6746095\ttotal: 2m 4s\tremaining: 1m 31s\n",
      "115:\tlearn: 0.6763332\ttotal: 2m 5s\tremaining: 1m 30s\n",
      "116:\tlearn: 0.6766831\ttotal: 2m 6s\tremaining: 1m 29s\n",
      "117:\tlearn: 0.6768526\ttotal: 2m 7s\tremaining: 1m 28s\n",
      "118:\tlearn: 0.6771425\ttotal: 2m 8s\tremaining: 1m 27s\n",
      "119:\tlearn: 0.6779005\ttotal: 2m 9s\tremaining: 1m 26s\n",
      "120:\tlearn: 0.6781331\ttotal: 2m 10s\tremaining: 1m 25s\n",
      "121:\tlearn: 0.6783060\ttotal: 2m 11s\tremaining: 1m 24s\n",
      "122:\tlearn: 0.6785102\ttotal: 2m 13s\tremaining: 1m 23s\n",
      "123:\tlearn: 0.6783358\ttotal: 2m 14s\tremaining: 1m 22s\n",
      "124:\tlearn: 0.6789467\ttotal: 2m 15s\tremaining: 1m 21s\n",
      "125:\tlearn: 0.6795536\ttotal: 2m 16s\tremaining: 1m 20s\n",
      "126:\tlearn: 0.6854550\ttotal: 2m 17s\tremaining: 1m 18s\n",
      "127:\tlearn: 0.6872032\ttotal: 2m 18s\tremaining: 1m 17s\n",
      "128:\tlearn: 0.6875191\ttotal: 2m 19s\tremaining: 1m 16s\n",
      "129:\tlearn: 0.6880662\ttotal: 2m 20s\tremaining: 1m 15s\n",
      "130:\tlearn: 0.6883134\ttotal: 2m 21s\tremaining: 1m 14s\n",
      "131:\tlearn: 0.6884219\ttotal: 2m 22s\tremaining: 1m 13s\n",
      "132:\tlearn: 0.6886201\ttotal: 2m 23s\tremaining: 1m 12s\n",
      "133:\tlearn: 0.6888454\ttotal: 2m 24s\tremaining: 1m 11s\n",
      "134:\tlearn: 0.6891005\ttotal: 2m 25s\tremaining: 1m 10s\n",
      "135:\tlearn: 0.6892714\ttotal: 2m 27s\tremaining: 1m 9s\n",
      "136:\tlearn: 0.6896702\ttotal: 2m 28s\tremaining: 1m 8s\n",
      "137:\tlearn: 0.6913537\ttotal: 2m 29s\tremaining: 1m 7s\n",
      "138:\tlearn: 0.6915507\ttotal: 2m 30s\tremaining: 1m 6s\n",
      "139:\tlearn: 0.6918043\ttotal: 2m 31s\tremaining: 1m 4s\n",
      "140:\tlearn: 0.6920376\ttotal: 2m 32s\tremaining: 1m 3s\n",
      "141:\tlearn: 0.6922577\ttotal: 2m 33s\tremaining: 1m 2s\n",
      "142:\tlearn: 0.6923177\ttotal: 2m 35s\tremaining: 1m 1s\n",
      "143:\tlearn: 0.6926009\ttotal: 2m 36s\tremaining: 1m\n",
      "144:\tlearn: 0.6929107\ttotal: 2m 37s\tremaining: 59.7s\n",
      "145:\tlearn: 0.6929973\ttotal: 2m 38s\tremaining: 58.6s\n",
      "146:\tlearn: 0.6933633\ttotal: 2m 39s\tremaining: 57.5s\n",
      "147:\tlearn: 0.6951788\ttotal: 2m 40s\tremaining: 56.4s\n",
      "148:\tlearn: 0.6954306\ttotal: 2m 41s\tremaining: 55.4s\n",
      "149:\tlearn: 0.6958249\ttotal: 2m 42s\tremaining: 54.3s\n",
      "150:\tlearn: 0.6960763\ttotal: 2m 43s\tremaining: 53.2s\n",
      "151:\tlearn: 0.6967252\ttotal: 2m 44s\tremaining: 52.1s\n",
      "152:\tlearn: 0.6968076\ttotal: 2m 45s\tremaining: 51s\n",
      "153:\tlearn: 0.6973435\ttotal: 2m 47s\tremaining: 49.9s\n",
      "154:\tlearn: 0.6973094\ttotal: 2m 48s\tremaining: 48.8s\n",
      "155:\tlearn: 0.6974558\ttotal: 2m 49s\tremaining: 47.7s\n",
      "156:\tlearn: 0.6975080\ttotal: 2m 50s\tremaining: 46.7s\n",
      "157:\tlearn: 0.6955243\ttotal: 2m 51s\tremaining: 45.5s\n",
      "158:\tlearn: 0.6960920\ttotal: 2m 52s\tremaining: 44.4s\n",
      "159:\tlearn: 0.6960581\ttotal: 2m 53s\tremaining: 43.3s\n",
      "160:\tlearn: 0.6963661\ttotal: 2m 54s\tremaining: 42.3s\n",
      "161:\tlearn: 0.6964185\ttotal: 2m 55s\tremaining: 41.2s\n",
      "162:\tlearn: 0.6963923\ttotal: 2m 56s\tremaining: 40.1s\n",
      "163:\tlearn: 0.6967787\ttotal: 2m 57s\tremaining: 39s\n",
      "164:\tlearn: 0.6967486\ttotal: 2m 58s\tremaining: 37.9s\n",
      "165:\tlearn: 0.6971123\ttotal: 2m 59s\tremaining: 36.8s\n",
      "166:\tlearn: 0.6970299\ttotal: 3m\tremaining: 35.8s\n",
      "167:\tlearn: 0.6972247\ttotal: 3m 2s\tremaining: 34.7s\n",
      "168:\tlearn: 0.6978389\ttotal: 3m 3s\tremaining: 33.6s\n",
      "169:\tlearn: 0.6988710\ttotal: 3m 4s\tremaining: 32.5s\n",
      "170:\tlearn: 0.6975801\ttotal: 3m 5s\tremaining: 31.4s\n",
      "171:\tlearn: 0.6997589\ttotal: 3m 6s\tremaining: 30.3s\n",
      "172:\tlearn: 0.6988668\ttotal: 3m 7s\tremaining: 29.3s\n",
      "173:\tlearn: 0.6992808\ttotal: 3m 8s\tremaining: 28.2s\n",
      "174:\tlearn: 0.6993627\ttotal: 3m 9s\tremaining: 27.1s\n",
      "175:\tlearn: 0.6995307\ttotal: 3m 10s\tremaining: 26s\n",
      "176:\tlearn: 0.6999742\ttotal: 3m 11s\tremaining: 24.9s\n",
      "177:\tlearn: 0.7001420\ttotal: 3m 12s\tremaining: 23.9s\n",
      "178:\tlearn: 0.7008598\ttotal: 3m 14s\tremaining: 22.8s\n",
      "179:\tlearn: 0.7009583\ttotal: 3m 15s\tremaining: 21.7s\n",
      "180:\tlearn: 0.7021085\ttotal: 3m 16s\tremaining: 20.6s\n",
      "181:\tlearn: 0.7018855\ttotal: 3m 17s\tremaining: 19.5s\n",
      "182:\tlearn: 0.7018554\ttotal: 3m 18s\tremaining: 18.4s\n",
      "183:\tlearn: 0.7037132\ttotal: 3m 19s\tremaining: 17.4s\n",
      "184:\tlearn: 0.7039053\ttotal: 3m 20s\tremaining: 16.3s\n",
      "185:\tlearn: 0.7047129\ttotal: 3m 21s\tremaining: 15.2s\n",
      "186:\tlearn: 0.7045211\ttotal: 3m 22s\tremaining: 14.1s\n",
      "187:\tlearn: 0.7046827\ttotal: 3m 23s\tremaining: 13s\n",
      "188:\tlearn: 0.7049503\ttotal: 3m 24s\tremaining: 11.9s\n",
      "189:\tlearn: 0.7056659\ttotal: 3m 25s\tremaining: 10.8s\n",
      "190:\tlearn: 0.7060585\ttotal: 3m 26s\tremaining: 9.75s\n",
      "191:\tlearn: 0.7065817\ttotal: 3m 28s\tremaining: 8.67s\n",
      "192:\tlearn: 0.7066923\ttotal: 3m 29s\tremaining: 7.58s\n",
      "193:\tlearn: 0.7067425\ttotal: 3m 30s\tremaining: 6.5s\n",
      "194:\tlearn: 0.7081662\ttotal: 3m 31s\tremaining: 5.41s\n",
      "195:\tlearn: 0.7086923\ttotal: 3m 32s\tremaining: 4.33s\n",
      "196:\tlearn: 0.7091025\ttotal: 3m 33s\tremaining: 3.25s\n",
      "197:\tlearn: 0.7096169\ttotal: 3m 34s\tremaining: 2.17s\n",
      "198:\tlearn: 0.7102461\ttotal: 3m 35s\tremaining: 1.08s\n",
      "199:\tlearn: 0.7104109\ttotal: 3m 36s\tremaining: 0us\n",
      "Wall time: 42min 50s\n"
     ]
    }
   ],
   "source": [
    "%%time\n",
    "start = time.time()\n",
    "grid_cb = GridSearchCV(pipe_cb,\n",
    "                       scoring='f1',\n",
    "                       cv=5,\n",
    "                       param_grid=params_cb,\n",
    "                       n_jobs=1,\n",
    "                       verbose=2,\n",
    "                       refit=True\n",
    ")\n",
    "grid_cb.fit(features_train, target_train)\n",
    "end = time.time()\n",
    "f_cb=round(end-start,2)"
   ]
  },
  {
   "cell_type": "code",
   "execution_count": 78,
   "metadata": {
    "scrolled": true
   },
   "outputs": [
    {
     "data": {
      "text/plain": [
       "{'clf__eval_metric': 'F1',\n",
       " 'clf__iterations': 200,\n",
       " 'clf__learning_rate': 0.1,\n",
       " 'clf__random_state': 12345,\n",
       " 'clf__task_type': 'GPU'}"
      ]
     },
     "execution_count": 78,
     "metadata": {},
     "output_type": "execute_result"
    }
   ],
   "source": [
    "grid_cb.best_params_"
   ]
  },
  {
   "cell_type": "code",
   "execution_count": 79,
   "metadata": {},
   "outputs": [
    {
     "data": {
      "text/plain": [
       "0.7"
      ]
     },
     "execution_count": 79,
     "metadata": {},
     "output_type": "execute_result"
    }
   ],
   "source": [
    "np.round(grid_cb.best_score_, decimals=2)"
   ]
  },
  {
   "cell_type": "code",
   "execution_count": 80,
   "metadata": {},
   "outputs": [
    {
     "data": {
      "text/plain": [
       "647.278243303299"
      ]
     },
     "execution_count": 80,
     "metadata": {},
     "output_type": "execute_result"
    }
   ],
   "source": [
    "grid_cb.refit_time_"
   ]
  },
  {
   "cell_type": "code",
   "execution_count": 81,
   "metadata": {},
   "outputs": [],
   "source": [
    "results.loc[3] = ['CatBoostClassifier', f_cb, np.round(grid_cb.best_score_, decimals=2)]"
   ]
  },
  {
   "cell_type": "code",
   "execution_count": 82,
   "metadata": {},
   "outputs": [
    {
     "data": {
      "text/html": [
       "<div>\n",
       "<style scoped>\n",
       "    .dataframe tbody tr th:only-of-type {\n",
       "        vertical-align: middle;\n",
       "    }\n",
       "\n",
       "    .dataframe tbody tr th {\n",
       "        vertical-align: top;\n",
       "    }\n",
       "\n",
       "    .dataframe thead th {\n",
       "        text-align: right;\n",
       "    }\n",
       "</style>\n",
       "<table border=\"1\" class=\"dataframe\">\n",
       "  <thead>\n",
       "    <tr style=\"text-align: right;\">\n",
       "      <th></th>\n",
       "      <th>Модель</th>\n",
       "      <th>Время кросс-валидации и обучения модели, с</th>\n",
       "      <th>метрика f1 модели</th>\n",
       "    </tr>\n",
       "  </thead>\n",
       "  <tbody>\n",
       "    <tr>\n",
       "      <th>0</th>\n",
       "      <td>LogisticRegression</td>\n",
       "      <td>66.81</td>\n",
       "      <td>0.76</td>\n",
       "    </tr>\n",
       "    <tr>\n",
       "      <th>1</th>\n",
       "      <td>RandomForestClassifier</td>\n",
       "      <td>343.42</td>\n",
       "      <td>0.42</td>\n",
       "    </tr>\n",
       "    <tr>\n",
       "      <th>2</th>\n",
       "      <td>LGBMClassifier</td>\n",
       "      <td>187.42</td>\n",
       "      <td>0.74</td>\n",
       "    </tr>\n",
       "    <tr>\n",
       "      <th>3</th>\n",
       "      <td>CatBoostClassifier</td>\n",
       "      <td>2570.36</td>\n",
       "      <td>0.70</td>\n",
       "    </tr>\n",
       "  </tbody>\n",
       "</table>\n",
       "</div>"
      ],
      "text/plain": [
       "                   Модель  Время кросс-валидации и обучения модели, с  \\\n",
       "0      LogisticRegression                                       66.81   \n",
       "1  RandomForestClassifier                                      343.42   \n",
       "2          LGBMClassifier                                      187.42   \n",
       "3      CatBoostClassifier                                     2570.36   \n",
       "\n",
       "   метрика f1 модели  \n",
       "0               0.76  \n",
       "1               0.42  \n",
       "2               0.74  \n",
       "3               0.70  "
      ]
     },
     "execution_count": 82,
     "metadata": {},
     "output_type": "execute_result"
    }
   ],
   "source": [
    "results"
   ]
  },
  {
   "cell_type": "markdown",
   "metadata": {},
   "source": [
    "#### Общий результат"
   ]
  },
  {
   "cell_type": "markdown",
   "metadata": {},
   "source": [
    "Сведём полученные данные в одну таблицу."
   ]
  },
  {
   "cell_type": "code",
   "execution_count": 83,
   "metadata": {
    "scrolled": true
   },
   "outputs": [
    {
     "data": {
      "text/html": [
       "<div>\n",
       "<style scoped>\n",
       "    .dataframe tbody tr th:only-of-type {\n",
       "        vertical-align: middle;\n",
       "    }\n",
       "\n",
       "    .dataframe tbody tr th {\n",
       "        vertical-align: top;\n",
       "    }\n",
       "\n",
       "    .dataframe thead th {\n",
       "        text-align: right;\n",
       "    }\n",
       "</style>\n",
       "<table border=\"1\" class=\"dataframe\">\n",
       "  <thead>\n",
       "    <tr style=\"text-align: right;\">\n",
       "      <th></th>\n",
       "      <th>Модель</th>\n",
       "      <th>Время кросс-валидации и обучения модели, с</th>\n",
       "      <th>метрика f1 модели</th>\n",
       "    </tr>\n",
       "  </thead>\n",
       "  <tbody>\n",
       "    <tr>\n",
       "      <th>0</th>\n",
       "      <td>LogisticRegression</td>\n",
       "      <td>66.81</td>\n",
       "      <td>0.76</td>\n",
       "    </tr>\n",
       "    <tr>\n",
       "      <th>1</th>\n",
       "      <td>RandomForestClassifier</td>\n",
       "      <td>343.42</td>\n",
       "      <td>0.42</td>\n",
       "    </tr>\n",
       "    <tr>\n",
       "      <th>2</th>\n",
       "      <td>LGBMClassifier</td>\n",
       "      <td>187.42</td>\n",
       "      <td>0.74</td>\n",
       "    </tr>\n",
       "    <tr>\n",
       "      <th>3</th>\n",
       "      <td>CatBoostClassifier</td>\n",
       "      <td>2570.36</td>\n",
       "      <td>0.70</td>\n",
       "    </tr>\n",
       "  </tbody>\n",
       "</table>\n",
       "</div>"
      ],
      "text/plain": [
       "                   Модель  Время кросс-валидации и обучения модели, с  \\\n",
       "0      LogisticRegression                                       66.81   \n",
       "1  RandomForestClassifier                                      343.42   \n",
       "2          LGBMClassifier                                      187.42   \n",
       "3      CatBoostClassifier                                     2570.36   \n",
       "\n",
       "   метрика f1 модели  \n",
       "0               0.76  \n",
       "1               0.42  \n",
       "2               0.74  \n",
       "3               0.70  "
      ]
     },
     "execution_count": 83,
     "metadata": {},
     "output_type": "execute_result"
    }
   ],
   "source": [
    "results"
   ]
  },
  {
   "cell_type": "markdown",
   "metadata": {},
   "source": [
    "Из сводной таблицы видно, что моделью с наилушим значением метрики f1 на обучающей выборке, сформированной с использованием библиотеки spaCy и векторизованной с помощью TfidfVectorizer является модель LogisticRegression."
   ]
  },
  {
   "cell_type": "markdown",
   "metadata": {},
   "source": [
    "### Классификация с использованием модели BERT"
   ]
  },
  {
   "cell_type": "markdown",
   "metadata": {},
   "source": [
    "Создадим датафрейм, в который будем отправлять модели и значения метрики f1:"
   ]
  },
  {
   "cell_type": "code",
   "execution_count": 84,
   "metadata": {},
   "outputs": [],
   "source": [
    "results2 = pd.DataFrame(columns=['Модель', 'Время кросс-валидации и обучения модели, с', 'метрика f1 модели'])"
   ]
  },
  {
   "cell_type": "markdown",
   "metadata": {},
   "source": [
    "#### LogisticRegression"
   ]
  },
  {
   "cell_type": "code",
   "execution_count": 85,
   "metadata": {},
   "outputs": [],
   "source": [
    "classifier_lr_bert = LogisticRegression()"
   ]
  },
  {
   "cell_type": "code",
   "execution_count": 86,
   "metadata": {},
   "outputs": [],
   "source": [
    "pipe_lr_bert = Pipeline(\n",
    "    [('clf', classifier_lr_bert)]\n",
    ")"
   ]
  },
  {
   "cell_type": "code",
   "execution_count": 87,
   "metadata": {},
   "outputs": [],
   "source": [
    "params_lr_bert = {'clf__solver' : ['lbfgs'],\n",
    "                  'clf__random_state': [12345],\n",
    "                  'clf__C': [15],\n",
    "                  'clf__max_iter':[100, 1000, 100],\n",
    "                  'clf__class_weight': ['balanced']\n",
    "}"
   ]
  },
  {
   "cell_type": "code",
   "execution_count": 88,
   "metadata": {},
   "outputs": [
    {
     "name": "stdout",
     "output_type": "stream",
     "text": [
      "Fitting 5 folds for each of 3 candidates, totalling 15 fits\n",
      "Wall time: 19.9 s\n"
     ]
    }
   ],
   "source": [
    "%%time\n",
    "start = time.time()\n",
    "grid_lr_bert = GridSearchCV(pipe_lr_bert,\n",
    "                       scoring='f1',\n",
    "                       cv=5,\n",
    "                       param_grid=params_lr_bert,\n",
    "                       n_jobs=n_jobs,\n",
    "                       verbose=2,\n",
    "                       refit=True\n",
    ")\n",
    "grid_lr_bert.fit(features_train_bert, target_train_bert)\n",
    "end = time.time()\n",
    "f_lr_bert=round(end-start,2)"
   ]
  },
  {
   "cell_type": "code",
   "execution_count": 89,
   "metadata": {},
   "outputs": [
    {
     "data": {
      "text/plain": [
       "{'clf__C': 15,\n",
       " 'clf__class_weight': 'balanced',\n",
       " 'clf__max_iter': 100,\n",
       " 'clf__random_state': 12345,\n",
       " 'clf__solver': 'lbfgs'}"
      ]
     },
     "execution_count": 89,
     "metadata": {},
     "output_type": "execute_result"
    }
   ],
   "source": [
    "grid_lr_bert.best_params_"
   ]
  },
  {
   "cell_type": "code",
   "execution_count": 90,
   "metadata": {},
   "outputs": [
    {
     "data": {
      "text/plain": [
       "0.67"
      ]
     },
     "execution_count": 90,
     "metadata": {},
     "output_type": "execute_result"
    }
   ],
   "source": [
    "np.round(grid_lr_bert.best_score_, decimals=2)"
   ]
  },
  {
   "cell_type": "code",
   "execution_count": 91,
   "metadata": {},
   "outputs": [
    {
     "data": {
      "text/plain": [
       "0.662980318069458"
      ]
     },
     "execution_count": 91,
     "metadata": {},
     "output_type": "execute_result"
    }
   ],
   "source": [
    "grid_lr_bert.refit_time_"
   ]
  },
  {
   "cell_type": "code",
   "execution_count": 92,
   "metadata": {},
   "outputs": [],
   "source": [
    "results2.loc[0] = ['LogisticRegression', f_lr_bert, np.round(grid_lr_bert.best_score_, decimals=2)]"
   ]
  },
  {
   "cell_type": "code",
   "execution_count": 93,
   "metadata": {},
   "outputs": [
    {
     "data": {
      "text/html": [
       "<div>\n",
       "<style scoped>\n",
       "    .dataframe tbody tr th:only-of-type {\n",
       "        vertical-align: middle;\n",
       "    }\n",
       "\n",
       "    .dataframe tbody tr th {\n",
       "        vertical-align: top;\n",
       "    }\n",
       "\n",
       "    .dataframe thead th {\n",
       "        text-align: right;\n",
       "    }\n",
       "</style>\n",
       "<table border=\"1\" class=\"dataframe\">\n",
       "  <thead>\n",
       "    <tr style=\"text-align: right;\">\n",
       "      <th></th>\n",
       "      <th>Модель</th>\n",
       "      <th>Время кросс-валидации и обучения модели, с</th>\n",
       "      <th>метрика f1 модели</th>\n",
       "    </tr>\n",
       "  </thead>\n",
       "  <tbody>\n",
       "    <tr>\n",
       "      <th>0</th>\n",
       "      <td>LogisticRegression</td>\n",
       "      <td>19.9</td>\n",
       "      <td>0.67</td>\n",
       "    </tr>\n",
       "  </tbody>\n",
       "</table>\n",
       "</div>"
      ],
      "text/plain": [
       "               Модель  Время кросс-валидации и обучения модели, с  \\\n",
       "0  LogisticRegression                                        19.9   \n",
       "\n",
       "   метрика f1 модели  \n",
       "0               0.67  "
      ]
     },
     "execution_count": 93,
     "metadata": {},
     "output_type": "execute_result"
    }
   ],
   "source": [
    "results2"
   ]
  },
  {
   "cell_type": "markdown",
   "metadata": {},
   "source": [
    "#### RandomForestClassifier"
   ]
  },
  {
   "cell_type": "code",
   "execution_count": 94,
   "metadata": {},
   "outputs": [],
   "source": [
    "classifier_rf_bert = RandomForestClassifier()"
   ]
  },
  {
   "cell_type": "code",
   "execution_count": 95,
   "metadata": {},
   "outputs": [],
   "source": [
    "pipe_rf_bert = Pipeline(\n",
    "    [('clf', classifier_rf_bert)]\n",
    ")"
   ]
  },
  {
   "cell_type": "code",
   "execution_count": 96,
   "metadata": {},
   "outputs": [],
   "source": [
    "params_rf_bert = {\n",
    "             'clf__random_state': [12345],\n",
    "             'clf__min_samples_leaf': range(2, 10, 2),\n",
    "             'clf__class_weight': ['balanced'],\n",
    "             'clf__n_estimators': range(900, 1000, 100),\n",
    "             'clf__max_depth': range(20, 30, 10)\n",
    "             }"
   ]
  },
  {
   "cell_type": "code",
   "execution_count": 97,
   "metadata": {},
   "outputs": [
    {
     "name": "stdout",
     "output_type": "stream",
     "text": [
      "Fitting 5 folds for each of 4 candidates, totalling 20 fits\n",
      "Wall time: 2min 15s\n"
     ]
    }
   ],
   "source": [
    "%%time\n",
    "start = time.time()\n",
    "grid_rf_bert = GridSearchCV(pipe_rf_bert,\n",
    "                       scoring='f1',\n",
    "                       cv=5,\n",
    "                       param_grid=params_rf_bert,\n",
    "                       n_jobs=n_jobs,\n",
    "                       verbose=2,\n",
    "                       refit=True\n",
    ")\n",
    "grid_rf_bert.fit(features_train_bert, target_train_bert)\n",
    "end = time.time()\n",
    "f_rf_bert=round(end-start,2)"
   ]
  },
  {
   "cell_type": "code",
   "execution_count": 98,
   "metadata": {},
   "outputs": [
    {
     "data": {
      "text/plain": [
       "{'clf__class_weight': 'balanced',\n",
       " 'clf__max_depth': 20,\n",
       " 'clf__min_samples_leaf': 8,\n",
       " 'clf__n_estimators': 900,\n",
       " 'clf__random_state': 12345}"
      ]
     },
     "execution_count": 98,
     "metadata": {},
     "output_type": "execute_result"
    }
   ],
   "source": [
    "grid_rf_bert.best_params_"
   ]
  },
  {
   "cell_type": "code",
   "execution_count": 99,
   "metadata": {},
   "outputs": [
    {
     "data": {
      "text/plain": [
       "0.57"
      ]
     },
     "execution_count": 99,
     "metadata": {},
     "output_type": "execute_result"
    }
   ],
   "source": [
    "np.round(grid_rf_bert.best_score_, decimals=2)"
   ]
  },
  {
   "cell_type": "code",
   "execution_count": 100,
   "metadata": {},
   "outputs": [
    {
     "data": {
      "text/plain": [
       "44.72452187538147"
      ]
     },
     "execution_count": 100,
     "metadata": {},
     "output_type": "execute_result"
    }
   ],
   "source": [
    "grid_rf_bert.refit_time_"
   ]
  },
  {
   "cell_type": "code",
   "execution_count": 101,
   "metadata": {},
   "outputs": [],
   "source": [
    "results2.loc[1] = ['RandomForestClassifier', f_rf_bert, np.round(grid_rf_bert.best_score_, decimals=2)]"
   ]
  },
  {
   "cell_type": "code",
   "execution_count": 102,
   "metadata": {},
   "outputs": [
    {
     "data": {
      "text/html": [
       "<div>\n",
       "<style scoped>\n",
       "    .dataframe tbody tr th:only-of-type {\n",
       "        vertical-align: middle;\n",
       "    }\n",
       "\n",
       "    .dataframe tbody tr th {\n",
       "        vertical-align: top;\n",
       "    }\n",
       "\n",
       "    .dataframe thead th {\n",
       "        text-align: right;\n",
       "    }\n",
       "</style>\n",
       "<table border=\"1\" class=\"dataframe\">\n",
       "  <thead>\n",
       "    <tr style=\"text-align: right;\">\n",
       "      <th></th>\n",
       "      <th>Модель</th>\n",
       "      <th>Время кросс-валидации и обучения модели, с</th>\n",
       "      <th>метрика f1 модели</th>\n",
       "    </tr>\n",
       "  </thead>\n",
       "  <tbody>\n",
       "    <tr>\n",
       "      <th>0</th>\n",
       "      <td>LogisticRegression</td>\n",
       "      <td>19.90</td>\n",
       "      <td>0.67</td>\n",
       "    </tr>\n",
       "    <tr>\n",
       "      <th>1</th>\n",
       "      <td>RandomForestClassifier</td>\n",
       "      <td>135.45</td>\n",
       "      <td>0.57</td>\n",
       "    </tr>\n",
       "  </tbody>\n",
       "</table>\n",
       "</div>"
      ],
      "text/plain": [
       "                   Модель  Время кросс-валидации и обучения модели, с  \\\n",
       "0      LogisticRegression                                       19.90   \n",
       "1  RandomForestClassifier                                      135.45   \n",
       "\n",
       "   метрика f1 модели  \n",
       "0               0.67  \n",
       "1               0.57  "
      ]
     },
     "execution_count": 102,
     "metadata": {},
     "output_type": "execute_result"
    }
   ],
   "source": [
    "results2"
   ]
  },
  {
   "cell_type": "markdown",
   "metadata": {},
   "source": [
    "#### LGBMClassifier"
   ]
  },
  {
   "cell_type": "code",
   "execution_count": 103,
   "metadata": {},
   "outputs": [],
   "source": [
    "torch.cuda.empty_cache()"
   ]
  },
  {
   "cell_type": "code",
   "execution_count": 104,
   "metadata": {},
   "outputs": [],
   "source": [
    "classifier_lgb_bert = LGBMClassifier()"
   ]
  },
  {
   "cell_type": "code",
   "execution_count": 105,
   "metadata": {},
   "outputs": [],
   "source": [
    "pipe_lgb_bert = Pipeline(\n",
    "    [('clf', classifier_lgb_bert)]\n",
    ")"
   ]
  },
  {
   "cell_type": "code",
   "execution_count": 106,
   "metadata": {},
   "outputs": [],
   "source": [
    "params_lgb_bert = {\n",
    "             'clf__random_state':[12345],\n",
    "             'clf__boosting_type': ['gbdt'],\n",
    "             'clf__class_weight': ['balanced'],\n",
    "             'clf__objective': ['binary'],\n",
    "             'clf__device_type': ['GPU']\n",
    "}"
   ]
  },
  {
   "cell_type": "code",
   "execution_count": 107,
   "metadata": {},
   "outputs": [
    {
     "name": "stdout",
     "output_type": "stream",
     "text": [
      "Fitting 5 folds for each of 1 candidates, totalling 5 fits\n",
      "Wall time: 35.4 s\n"
     ]
    }
   ],
   "source": [
    "%%time\n",
    "start = time.time()\n",
    "grid_lgb_bert = GridSearchCV(pipe_lgb_bert,\n",
    "                       scoring='f1',\n",
    "                       cv=5,\n",
    "                       param_grid=params_lgb_bert,\n",
    "                       n_jobs=n_jobs,\n",
    "                       verbose=2,\n",
    "                       refit=True \n",
    ")\n",
    "grid_lgb_bert.fit(features_train_bert, target_train_bert)\n",
    "end = time.time()\n",
    "f_lgb_bert=round(end-start,2)"
   ]
  },
  {
   "cell_type": "code",
   "execution_count": 108,
   "metadata": {},
   "outputs": [
    {
     "data": {
      "text/plain": [
       "{'clf__boosting_type': 'gbdt',\n",
       " 'clf__class_weight': 'balanced',\n",
       " 'clf__device_type': 'GPU',\n",
       " 'clf__objective': 'binary',\n",
       " 'clf__random_state': 12345}"
      ]
     },
     "execution_count": 108,
     "metadata": {},
     "output_type": "execute_result"
    }
   ],
   "source": [
    "grid_lgb_bert.best_params_"
   ]
  },
  {
   "cell_type": "code",
   "execution_count": 109,
   "metadata": {},
   "outputs": [
    {
     "data": {
      "text/plain": [
       "0.63"
      ]
     },
     "execution_count": 109,
     "metadata": {},
     "output_type": "execute_result"
    }
   ],
   "source": [
    "np.round(grid_lgb_bert.best_score_, decimals=2)"
   ]
  },
  {
   "cell_type": "code",
   "execution_count": 110,
   "metadata": {},
   "outputs": [
    {
     "data": {
      "text/plain": [
       "5.168255567550659"
      ]
     },
     "execution_count": 110,
     "metadata": {},
     "output_type": "execute_result"
    }
   ],
   "source": [
    "grid_lgb_bert.refit_time_"
   ]
  },
  {
   "cell_type": "code",
   "execution_count": 111,
   "metadata": {},
   "outputs": [],
   "source": [
    "results2.loc[2] = ['LGBMClassifier', f_lgb_bert, np.round(grid_lgb_bert.best_score_, decimals=2)]"
   ]
  },
  {
   "cell_type": "code",
   "execution_count": 112,
   "metadata": {},
   "outputs": [
    {
     "data": {
      "text/html": [
       "<div>\n",
       "<style scoped>\n",
       "    .dataframe tbody tr th:only-of-type {\n",
       "        vertical-align: middle;\n",
       "    }\n",
       "\n",
       "    .dataframe tbody tr th {\n",
       "        vertical-align: top;\n",
       "    }\n",
       "\n",
       "    .dataframe thead th {\n",
       "        text-align: right;\n",
       "    }\n",
       "</style>\n",
       "<table border=\"1\" class=\"dataframe\">\n",
       "  <thead>\n",
       "    <tr style=\"text-align: right;\">\n",
       "      <th></th>\n",
       "      <th>Модель</th>\n",
       "      <th>Время кросс-валидации и обучения модели, с</th>\n",
       "      <th>метрика f1 модели</th>\n",
       "    </tr>\n",
       "  </thead>\n",
       "  <tbody>\n",
       "    <tr>\n",
       "      <th>0</th>\n",
       "      <td>LogisticRegression</td>\n",
       "      <td>19.90</td>\n",
       "      <td>0.67</td>\n",
       "    </tr>\n",
       "    <tr>\n",
       "      <th>1</th>\n",
       "      <td>RandomForestClassifier</td>\n",
       "      <td>135.45</td>\n",
       "      <td>0.57</td>\n",
       "    </tr>\n",
       "    <tr>\n",
       "      <th>2</th>\n",
       "      <td>LGBMClassifier</td>\n",
       "      <td>35.38</td>\n",
       "      <td>0.63</td>\n",
       "    </tr>\n",
       "  </tbody>\n",
       "</table>\n",
       "</div>"
      ],
      "text/plain": [
       "                   Модель  Время кросс-валидации и обучения модели, с  \\\n",
       "0      LogisticRegression                                       19.90   \n",
       "1  RandomForestClassifier                                      135.45   \n",
       "2          LGBMClassifier                                       35.38   \n",
       "\n",
       "   метрика f1 модели  \n",
       "0               0.67  \n",
       "1               0.57  \n",
       "2               0.63  "
      ]
     },
     "execution_count": 112,
     "metadata": {},
     "output_type": "execute_result"
    }
   ],
   "source": [
    "results2"
   ]
  },
  {
   "cell_type": "markdown",
   "metadata": {},
   "source": [
    "#### CatBoostClassifier"
   ]
  },
  {
   "cell_type": "code",
   "execution_count": 113,
   "metadata": {},
   "outputs": [],
   "source": [
    "torch.cuda.empty_cache()"
   ]
  },
  {
   "cell_type": "code",
   "execution_count": 114,
   "metadata": {},
   "outputs": [],
   "source": [
    "classifier_cb_bert = CatBoostClassifier()"
   ]
  },
  {
   "cell_type": "code",
   "execution_count": 115,
   "metadata": {},
   "outputs": [],
   "source": [
    "pipe_cb_bert = Pipeline(\n",
    "    [('clf', classifier_cb_bert)]\n",
    ")"
   ]
  },
  {
   "cell_type": "code",
   "execution_count": 116,
   "metadata": {},
   "outputs": [],
   "source": [
    "params_cb_bert = {\n",
    "             'clf__random_state':[12345],\n",
    "             'clf__iterations': [200],\n",
    "             'clf__eval_metric': ['F1'],\n",
    "             'clf__learning_rate': [0.1],  \n",
    "             'clf__task_type': ['GPU'],\n",
    "              'clf__verbose': [500]\n",
    "             }"
   ]
  },
  {
   "cell_type": "code",
   "execution_count": 117,
   "metadata": {},
   "outputs": [
    {
     "name": "stdout",
     "output_type": "stream",
     "text": [
      "Fitting 5 folds for each of 1 candidates, totalling 5 fits\n",
      "0:\tlearn: 0.5090253\ttotal: 116ms\tremaining: 23s\n",
      "199:\tlearn: 1.0000000\ttotal: 27.3s\tremaining: 0us\n",
      "[CV] END clf__eval_metric=F1, clf__iterations=200, clf__learning_rate=0.1, clf__random_state=12345, clf__task_type=GPU, clf__verbose=500; total time=  28.9s\n",
      "0:\tlearn: 0.4476386\ttotal: 126ms\tremaining: 25.1s\n",
      "199:\tlearn: 1.0000000\ttotal: 27.7s\tremaining: 0us\n",
      "[CV] END clf__eval_metric=F1, clf__iterations=200, clf__learning_rate=0.1, clf__random_state=12345, clf__task_type=GPU, clf__verbose=500; total time=  29.3s\n",
      "0:\tlearn: 0.5470693\ttotal: 110ms\tremaining: 21.9s\n",
      "199:\tlearn: 1.0000000\ttotal: 29.1s\tremaining: 0us\n",
      "[CV] END clf__eval_metric=F1, clf__iterations=200, clf__learning_rate=0.1, clf__random_state=12345, clf__task_type=GPU, clf__verbose=500; total time=  30.7s\n",
      "0:\tlearn: 0.5121495\ttotal: 130ms\tremaining: 25.9s\n",
      "199:\tlearn: 1.0000000\ttotal: 29.1s\tremaining: 0us\n",
      "[CV] END clf__eval_metric=F1, clf__iterations=200, clf__learning_rate=0.1, clf__random_state=12345, clf__task_type=GPU, clf__verbose=500; total time=  30.7s\n",
      "0:\tlearn: 0.4347826\ttotal: 118ms\tremaining: 23.4s\n",
      "199:\tlearn: 1.0000000\ttotal: 28.5s\tremaining: 0us\n",
      "[CV] END clf__eval_metric=F1, clf__iterations=200, clf__learning_rate=0.1, clf__random_state=12345, clf__task_type=GPU, clf__verbose=500; total time=  30.1s\n",
      "0:\tlearn: 0.4872945\ttotal: 114ms\tremaining: 22.7s\n",
      "199:\tlearn: 1.0000000\ttotal: 27.6s\tremaining: 0us\n",
      "Wall time: 2min 59s\n"
     ]
    }
   ],
   "source": [
    "%%time\n",
    "start = time.time()\n",
    "grid_cb_bert = GridSearchCV(pipe_cb_bert,\n",
    "                       scoring='f1',\n",
    "                       cv=5,\n",
    "                       param_grid=params_cb_bert,\n",
    "                       n_jobs=1,\n",
    "                       verbose=2,\n",
    "                       refit=True\n",
    ")\n",
    "grid_cb_bert.fit(features_train_bert, target_train_bert)\n",
    "end = time.time()\n",
    "f_cb_bert=round(end-start,2)"
   ]
  },
  {
   "cell_type": "code",
   "execution_count": 118,
   "metadata": {},
   "outputs": [
    {
     "data": {
      "text/plain": [
       "{'clf__eval_metric': 'F1',\n",
       " 'clf__iterations': 200,\n",
       " 'clf__learning_rate': 0.1,\n",
       " 'clf__random_state': 12345,\n",
       " 'clf__task_type': 'GPU',\n",
       " 'clf__verbose': 500}"
      ]
     },
     "execution_count": 118,
     "metadata": {},
     "output_type": "execute_result"
    }
   ],
   "source": [
    "grid_cb_bert.best_params_"
   ]
  },
  {
   "cell_type": "code",
   "execution_count": 119,
   "metadata": {},
   "outputs": [
    {
     "data": {
      "text/plain": [
       "0.59"
      ]
     },
     "execution_count": 119,
     "metadata": {},
     "output_type": "execute_result"
    }
   ],
   "source": [
    "np.round(grid_cb_bert.best_score_, decimals=2)"
   ]
  },
  {
   "cell_type": "code",
   "execution_count": 120,
   "metadata": {},
   "outputs": [
    {
     "data": {
      "text/plain": [
       "29.349868774414062"
      ]
     },
     "execution_count": 120,
     "metadata": {},
     "output_type": "execute_result"
    }
   ],
   "source": [
    "grid_cb_bert.refit_time_"
   ]
  },
  {
   "cell_type": "code",
   "execution_count": 121,
   "metadata": {},
   "outputs": [],
   "source": [
    "results2.loc[3] = ['CatBoostClassifier', f_cb_bert, np.round(grid_cb_bert.best_score_, decimals=2)]"
   ]
  },
  {
   "cell_type": "code",
   "execution_count": 122,
   "metadata": {},
   "outputs": [
    {
     "data": {
      "text/html": [
       "<div>\n",
       "<style scoped>\n",
       "    .dataframe tbody tr th:only-of-type {\n",
       "        vertical-align: middle;\n",
       "    }\n",
       "\n",
       "    .dataframe tbody tr th {\n",
       "        vertical-align: top;\n",
       "    }\n",
       "\n",
       "    .dataframe thead th {\n",
       "        text-align: right;\n",
       "    }\n",
       "</style>\n",
       "<table border=\"1\" class=\"dataframe\">\n",
       "  <thead>\n",
       "    <tr style=\"text-align: right;\">\n",
       "      <th></th>\n",
       "      <th>Модель</th>\n",
       "      <th>Время кросс-валидации и обучения модели, с</th>\n",
       "      <th>метрика f1 модели</th>\n",
       "    </tr>\n",
       "  </thead>\n",
       "  <tbody>\n",
       "    <tr>\n",
       "      <th>0</th>\n",
       "      <td>LogisticRegression</td>\n",
       "      <td>19.90</td>\n",
       "      <td>0.67</td>\n",
       "    </tr>\n",
       "    <tr>\n",
       "      <th>1</th>\n",
       "      <td>RandomForestClassifier</td>\n",
       "      <td>135.45</td>\n",
       "      <td>0.57</td>\n",
       "    </tr>\n",
       "    <tr>\n",
       "      <th>2</th>\n",
       "      <td>LGBMClassifier</td>\n",
       "      <td>35.38</td>\n",
       "      <td>0.63</td>\n",
       "    </tr>\n",
       "    <tr>\n",
       "      <th>3</th>\n",
       "      <td>CatBoostClassifier</td>\n",
       "      <td>179.53</td>\n",
       "      <td>0.59</td>\n",
       "    </tr>\n",
       "  </tbody>\n",
       "</table>\n",
       "</div>"
      ],
      "text/plain": [
       "                   Модель  Время кросс-валидации и обучения модели, с  \\\n",
       "0      LogisticRegression                                       19.90   \n",
       "1  RandomForestClassifier                                      135.45   \n",
       "2          LGBMClassifier                                       35.38   \n",
       "3      CatBoostClassifier                                      179.53   \n",
       "\n",
       "   метрика f1 модели  \n",
       "0               0.67  \n",
       "1               0.57  \n",
       "2               0.63  \n",
       "3               0.59  "
      ]
     },
     "execution_count": 122,
     "metadata": {},
     "output_type": "execute_result"
    }
   ],
   "source": [
    "results2"
   ]
  },
  {
   "cell_type": "markdown",
   "metadata": {},
   "source": [
    "#### Общий результат"
   ]
  },
  {
   "cell_type": "code",
   "execution_count": 123,
   "metadata": {
    "scrolled": true
   },
   "outputs": [
    {
     "data": {
      "text/html": [
       "<div>\n",
       "<style scoped>\n",
       "    .dataframe tbody tr th:only-of-type {\n",
       "        vertical-align: middle;\n",
       "    }\n",
       "\n",
       "    .dataframe tbody tr th {\n",
       "        vertical-align: top;\n",
       "    }\n",
       "\n",
       "    .dataframe thead th {\n",
       "        text-align: right;\n",
       "    }\n",
       "</style>\n",
       "<table border=\"1\" class=\"dataframe\">\n",
       "  <thead>\n",
       "    <tr style=\"text-align: right;\">\n",
       "      <th></th>\n",
       "      <th>Модель</th>\n",
       "      <th>Время кросс-валидации и обучения модели, с</th>\n",
       "      <th>метрика f1 модели</th>\n",
       "    </tr>\n",
       "  </thead>\n",
       "  <tbody>\n",
       "    <tr>\n",
       "      <th>0</th>\n",
       "      <td>LogisticRegression</td>\n",
       "      <td>19.90</td>\n",
       "      <td>0.67</td>\n",
       "    </tr>\n",
       "    <tr>\n",
       "      <th>1</th>\n",
       "      <td>RandomForestClassifier</td>\n",
       "      <td>135.45</td>\n",
       "      <td>0.57</td>\n",
       "    </tr>\n",
       "    <tr>\n",
       "      <th>2</th>\n",
       "      <td>LGBMClassifier</td>\n",
       "      <td>35.38</td>\n",
       "      <td>0.63</td>\n",
       "    </tr>\n",
       "    <tr>\n",
       "      <th>3</th>\n",
       "      <td>CatBoostClassifier</td>\n",
       "      <td>179.53</td>\n",
       "      <td>0.59</td>\n",
       "    </tr>\n",
       "  </tbody>\n",
       "</table>\n",
       "</div>"
      ],
      "text/plain": [
       "                   Модель  Время кросс-валидации и обучения модели, с  \\\n",
       "0      LogisticRegression                                       19.90   \n",
       "1  RandomForestClassifier                                      135.45   \n",
       "2          LGBMClassifier                                       35.38   \n",
       "3      CatBoostClassifier                                      179.53   \n",
       "\n",
       "   метрика f1 модели  \n",
       "0               0.67  \n",
       "1               0.57  \n",
       "2               0.63  \n",
       "3               0.59  "
      ]
     },
     "execution_count": 123,
     "metadata": {},
     "output_type": "execute_result"
    }
   ],
   "source": [
    "results2"
   ]
  },
  {
   "cell_type": "markdown",
   "metadata": {},
   "source": [
    "Относительно не высокие показатели результативности по метрике f1 вызваны тем, что используется модель BERT, обученная на обычных текстах, доступных из публичных источниках, для которой не ставилась задача оценки комментариев на токсичность (не приемлиемый контент). Для таких задач используется \"toxic BERT\" и ей подобные узко специализированные модели NLP. "
   ]
  },
  {
   "cell_type": "markdown",
   "metadata": {},
   "source": [
    "### Обобщённые данные и проверка на тестовой выборке"
   ]
  },
  {
   "cell_type": "markdown",
   "metadata": {},
   "source": [
    "Обобщим данные по моделям машинного обучения, обученных на данных, подготовленных без использования модели BERT:"
   ]
  },
  {
   "cell_type": "code",
   "execution_count": 124,
   "metadata": {},
   "outputs": [
    {
     "data": {
      "text/html": [
       "<div>\n",
       "<style scoped>\n",
       "    .dataframe tbody tr th:only-of-type {\n",
       "        vertical-align: middle;\n",
       "    }\n",
       "\n",
       "    .dataframe tbody tr th {\n",
       "        vertical-align: top;\n",
       "    }\n",
       "\n",
       "    .dataframe thead th {\n",
       "        text-align: right;\n",
       "    }\n",
       "</style>\n",
       "<table border=\"1\" class=\"dataframe\">\n",
       "  <thead>\n",
       "    <tr style=\"text-align: right;\">\n",
       "      <th></th>\n",
       "      <th>test</th>\n",
       "      <th>model</th>\n",
       "      <th>f1</th>\n",
       "    </tr>\n",
       "  </thead>\n",
       "  <tbody>\n",
       "    <tr>\n",
       "      <th>0</th>\n",
       "      <td>TF-IDF</td>\n",
       "      <td>LogisticRegression</td>\n",
       "      <td>0.76</td>\n",
       "    </tr>\n",
       "    <tr>\n",
       "      <th>1</th>\n",
       "      <td>TF-IDF</td>\n",
       "      <td>RandomForestClassifier</td>\n",
       "      <td>0.42</td>\n",
       "    </tr>\n",
       "    <tr>\n",
       "      <th>2</th>\n",
       "      <td>TF-IDF</td>\n",
       "      <td>LGBMClassifier</td>\n",
       "      <td>0.74</td>\n",
       "    </tr>\n",
       "    <tr>\n",
       "      <th>3</th>\n",
       "      <td>TF-IDF</td>\n",
       "      <td>CatBoostClassifier</td>\n",
       "      <td>0.70</td>\n",
       "    </tr>\n",
       "    <tr>\n",
       "      <th>4</th>\n",
       "      <td>BERT</td>\n",
       "      <td>LogisticRegression</td>\n",
       "      <td>0.67</td>\n",
       "    </tr>\n",
       "    <tr>\n",
       "      <th>5</th>\n",
       "      <td>BERT</td>\n",
       "      <td>RandomForestClassifier</td>\n",
       "      <td>0.57</td>\n",
       "    </tr>\n",
       "    <tr>\n",
       "      <th>6</th>\n",
       "      <td>BERT</td>\n",
       "      <td>LGBMClassifier</td>\n",
       "      <td>0.63</td>\n",
       "    </tr>\n",
       "    <tr>\n",
       "      <th>7</th>\n",
       "      <td>BERT</td>\n",
       "      <td>CatBoostClassifier</td>\n",
       "      <td>0.59</td>\n",
       "    </tr>\n",
       "  </tbody>\n",
       "</table>\n",
       "</div>"
      ],
      "text/plain": [
       "     test                   model    f1\n",
       "0  TF-IDF      LogisticRegression  0.76\n",
       "1  TF-IDF  RandomForestClassifier  0.42\n",
       "2  TF-IDF          LGBMClassifier  0.74\n",
       "3  TF-IDF      CatBoostClassifier  0.70\n",
       "4    BERT      LogisticRegression  0.67\n",
       "5    BERT  RandomForestClassifier  0.57\n",
       "6    BERT          LGBMClassifier  0.63\n",
       "7    BERT      CatBoostClassifier  0.59"
      ]
     },
     "execution_count": 124,
     "metadata": {},
     "output_type": "execute_result"
    }
   ],
   "source": [
    "space = {'test':['TF-IDF', 'TF-IDF', 'TF-IDF', 'TF-IDF', 'BERT', 'BERT', 'BERT', 'BERT'],\n",
    "         'model':['LogisticRegression', 'RandomForestClassifier', 'LGBMClassifier', 'CatBoostClassifier']*2,\n",
    "         'f1':[np.round(grid_lr.best_score_, decimals=2),\n",
    "               np.round(grid_rf.best_score_, decimals=2), \n",
    "               np.round(grid_lgb.best_score_, decimals=2), \n",
    "               np.round(grid_cb.best_score_, decimals=2), \n",
    "               np.round(grid_lr_bert.best_score_, decimals=2), \n",
    "               np.round(grid_rf_bert.best_score_, decimals=2),\n",
    "               np.round(grid_lgb_bert.best_score_, decimals=2),\n",
    "               np.round(grid_cb_bert.best_score_, decimals=2)]\n",
    "         }\n",
    "res = pd.DataFrame(data=space)\n",
    "res"
   ]
  },
  {
   "cell_type": "markdown",
   "metadata": {},
   "source": [
    "Проверка лучшей модели на тестовой выборке:"
   ]
  },
  {
   "cell_type": "code",
   "execution_count": 125,
   "metadata": {},
   "outputs": [
    {
     "name": "stdout",
     "output_type": "stream",
     "text": [
      "Wall time: 971 ms\n"
     ]
    }
   ],
   "source": [
    "%%time\n",
    "start = time.time()\n",
    "predicted_lr = grid_lr.predict(features_test)\n",
    "end = time.time()\n",
    "t_p_lr=round(end-start,2)"
   ]
  },
  {
   "cell_type": "code",
   "execution_count": 127,
   "metadata": {},
   "outputs": [
    {
     "name": "stdout",
     "output_type": "stream",
     "text": [
      "0.7578768095373262\n"
     ]
    }
   ],
   "source": [
    "print(f1_score(target_test, predicted_lr))"
   ]
  },
  {
   "cell_type": "markdown",
   "metadata": {},
   "source": [
    "### Вывод"
   ]
  },
  {
   "cell_type": "markdown",
   "metadata": {},
   "source": [
    "По итогам лучшей моделью машинного обучения для классификации комментариев оказалась модель LogisticRegression (f1=0.76), данные для которой были получены с помощью библиотеки spaCy и векторизованны с помощью TfidfVectorizer. На тестовой выборке эта модель машинного обучения показала метрику f1=0.76, удовлетворяющую условиям выполнения данного проекта. "
   ]
  },
  {
   "cell_type": "markdown",
   "metadata": {},
   "source": [
    "## Выводы"
   ]
  },
  {
   "cell_type": "markdown",
   "metadata": {},
   "source": [
    "- Загружен датасет, получена общая информация;\n",
    "- Пропусков и дубликатов нет;\n",
    "- Проверено соотношение классов;\n",
    "- Произведена подготовка текста с помощью библиотеки spaCy для выполнения задачи классификации комментариев без использования модели BERT, подготовлены обучающая и тестовые выборки общего датасета, произведена балансировка классов методом upsampling, выделены признаки (в том числе целевой).\n",
    "- Произведена подготовка текста для работы модели BERT, выделены признаки (в том числе целевой).\n",
    "- Данные для обучения моделей машинного обучения подготовлены;\n",
    "- Выполнено обучение моделей-классификаторов машинного обучения на данных подготовленных как с помощью библиотеки spaCy и векторайзера TF-IDF Vectorizer, так и модели BERT;\n",
    "- Наилучший результат по метрике f1 на обучающей выборке был получен на моделе-классификаторе LogisticRegression, использовавшей данные, подготовленные с помощью библиотеки spaCy и векторайзера TF-IDF Vectorizer. Результат был подтверждён на тестовой выборке, установленному заданием критерию соотвтетствует.    "
   ]
  },
  {
   "cell_type": "markdown",
   "metadata": {},
   "source": [
    "### Бонус"
   ]
  },
  {
   "cell_type": "markdown",
   "metadata": {},
   "source": [
    "<b> Comme un bonus pour les amis )"
   ]
  },
  {
   "cell_type": "markdown",
   "metadata": {},
   "source": [
    "Определим на практике как работает лучшая модель."
   ]
  },
  {
   "cell_type": "markdown",
   "metadata": {},
   "source": [
    "Отдельный файл содержит фразу, которую обученная с помощью модели BERT модель машинного обучения, показавшая лучший результат по метрике F1, должна оценить на степень приемлиемости (в рамках цензуры). "
   ]
  },
  {
   "cell_type": "markdown",
   "metadata": {},
   "source": [
    "Фраза, записанная в файл: \"I have no idea what is happening with to the Jupyter network stack in Yandex Practicum, but it looks like a classic German porn: there's a hell of a lot going on around here, everyone is naked, only wearing socks and shouting \"ja ja die est Schtangencircul!!!\" loudly.\""
   ]
  },
  {
   "cell_type": "code",
   "execution_count": 360,
   "metadata": {},
   "outputs": [],
   "source": [
    "data1 = pd.read_excel(r'C:\\Users\\a1\\Desktop\\1.xls')"
   ]
  },
  {
   "cell_type": "code",
   "execution_count": 361,
   "metadata": {},
   "outputs": [
    {
     "name": "stdout",
     "output_type": "stream",
     "text": [
      "                                                text  toxic\n",
      "0  I have no idea what is happening with to the J...    NaN\n"
     ]
    }
   ],
   "source": [
    "print(data1)"
   ]
  },
  {
   "cell_type": "code",
   "execution_count": 362,
   "metadata": {},
   "outputs": [],
   "source": [
    "new_data = pd.DataFrame(data1)"
   ]
  },
  {
   "cell_type": "code",
   "execution_count": 363,
   "metadata": {},
   "outputs": [
    {
     "data": {
      "text/html": [
       "<div>\n",
       "<style scoped>\n",
       "    .dataframe tbody tr th:only-of-type {\n",
       "        vertical-align: middle;\n",
       "    }\n",
       "\n",
       "    .dataframe tbody tr th {\n",
       "        vertical-align: top;\n",
       "    }\n",
       "\n",
       "    .dataframe thead th {\n",
       "        text-align: right;\n",
       "    }\n",
       "</style>\n",
       "<table border=\"1\" class=\"dataframe\">\n",
       "  <thead>\n",
       "    <tr style=\"text-align: right;\">\n",
       "      <th></th>\n",
       "      <th>text</th>\n",
       "      <th>toxic</th>\n",
       "    </tr>\n",
       "  </thead>\n",
       "  <tbody>\n",
       "    <tr>\n",
       "      <th>0</th>\n",
       "      <td>I have no idea what is happening with to the J...</td>\n",
       "      <td>NaN</td>\n",
       "    </tr>\n",
       "  </tbody>\n",
       "</table>\n",
       "</div>"
      ],
      "text/plain": [
       "                                                text  toxic\n",
       "0  I have no idea what is happening with to the J...    NaN"
      ]
     },
     "execution_count": 363,
     "metadata": {},
     "output_type": "execute_result"
    }
   ],
   "source": [
    "new_data"
   ]
  },
  {
   "cell_type": "markdown",
   "metadata": {},
   "source": [
    "Почистим текст:"
   ]
  },
  {
   "cell_type": "code",
   "execution_count": 364,
   "metadata": {},
   "outputs": [],
   "source": [
    "def clear_text(text):\n",
    "    prom = re.sub(r'[^a-zA-Z]',' ', text).split()\n",
    "    return ' '.join(prom)"
   ]
  },
  {
   "cell_type": "code",
   "execution_count": 367,
   "metadata": {},
   "outputs": [
    {
     "data": {
      "text/html": [
       "<div>\n",
       "<style scoped>\n",
       "    .dataframe tbody tr th:only-of-type {\n",
       "        vertical-align: middle;\n",
       "    }\n",
       "\n",
       "    .dataframe tbody tr th {\n",
       "        vertical-align: top;\n",
       "    }\n",
       "\n",
       "    .dataframe thead th {\n",
       "        text-align: right;\n",
       "    }\n",
       "</style>\n",
       "<table border=\"1\" class=\"dataframe\">\n",
       "  <thead>\n",
       "    <tr style=\"text-align: right;\">\n",
       "      <th></th>\n",
       "      <th>text</th>\n",
       "      <th>toxic</th>\n",
       "    </tr>\n",
       "  </thead>\n",
       "  <tbody>\n",
       "    <tr>\n",
       "      <th>0</th>\n",
       "      <td>I have no idea what is happening with to the J...</td>\n",
       "      <td>NaN</td>\n",
       "    </tr>\n",
       "  </tbody>\n",
       "</table>\n",
       "</div>"
      ],
      "text/plain": [
       "                                                text  toxic\n",
       "0  I have no idea what is happening with to the J...    NaN"
      ]
     },
     "execution_count": 367,
     "metadata": {},
     "output_type": "execute_result"
    }
   ],
   "source": [
    "new_data"
   ]
  },
  {
   "cell_type": "code",
   "execution_count": 368,
   "metadata": {},
   "outputs": [
    {
     "data": {
      "text/plain": [
       "array([[  101,  1045,  2031,  2053,  2801,  2054,  2003,  6230,  2007,\n",
       "         2000,  1996, 13035,  2897,  9991,  1999, 13619,  3207,  2595,\n",
       "        10975, 28804,  2819,  1010,  2021,  2009,  3504,  2066,  1037,\n",
       "         4438,  2446, 22555,  1024,  2045,  1005,  1055,  1037,  3109,\n",
       "         1997,  1037,  2843,  2183,  2006,  2105,  2182,  1010,  3071,\n",
       "         2003,  6248,  1010,  2069,  4147, 14829,  1998, 11273,  1000,\n",
       "        14855, 14855,  3280,  9765,  8040, 22893, 25997,  6895, 11890,\n",
       "         5313,   999,   999,   999,  1000,  9928,  1012,   102]])"
      ]
     },
     "execution_count": 368,
     "metadata": {},
     "output_type": "execute_result"
    }
   ],
   "source": [
    "tokenizer = transformers.BertTokenizer.from_pretrained('bert-base-uncased')\n",
    "\n",
    "tokenized = new_data['text'].apply(\n",
    "    lambda x: tokenizer.encode(x, add_special_tokens=True, truncation=True, max_length=512))\n",
    "\n",
    "max_len = 0\n",
    "for i in tokenized.values:\n",
    "    if len(i) > max_len:\n",
    "        max_len = len(i)\n",
    "padded = np.array([i + [0]*(max_len - len(i)) for i in tokenized.values])\n",
    "\n",
    "attention_mask = np.where(padded != 0, 1, 0)\n",
    "padded"
   ]
  },
  {
   "cell_type": "code",
   "execution_count": 369,
   "metadata": {
    "scrolled": true
   },
   "outputs": [
    {
     "name": "stderr",
     "output_type": "stream",
     "text": [
      "Some weights of the model checkpoint at bert-base-uncased were not used when initializing BertModel: ['cls.predictions.bias', 'cls.predictions.transform.dense.bias', 'cls.predictions.decoder.weight', 'cls.seq_relationship.weight', 'cls.predictions.transform.LayerNorm.weight', 'cls.predictions.transform.dense.weight', 'cls.predictions.transform.LayerNorm.bias', 'cls.seq_relationship.bias']\n",
      "- This IS expected if you are initializing BertModel from the checkpoint of a model trained on another task or with another architecture (e.g. initializing a BertForSequenceClassification model from a BertForPreTraining model).\n",
      "- This IS NOT expected if you are initializing BertModel from the checkpoint of a model that you expect to be exactly identical (initializing a BertForSequenceClassification model from a BertForSequenceClassification model).\n"
     ]
    },
    {
     "name": "stdout",
     "output_type": "stream",
     "text": [
      "Wall time: 2.11 s\n"
     ]
    }
   ],
   "source": [
    "%%time\n",
    "model = transformers.BertModel.from_pretrained(\"bert-base-uncased\")\n",
    "model = model.to(device)"
   ]
  },
  {
   "cell_type": "code",
   "execution_count": 370,
   "metadata": {},
   "outputs": [
    {
     "data": {
      "text/plain": [
       "1"
      ]
     },
     "execution_count": 370,
     "metadata": {},
     "output_type": "execute_result"
    }
   ],
   "source": [
    "padded.shape[0]"
   ]
  },
  {
   "cell_type": "code",
   "execution_count": 371,
   "metadata": {},
   "outputs": [
    {
     "data": {
      "application/vnd.jupyter.widget-view+json": {
       "model_id": "de12e9c947cb4656afb39c29f1f18a09",
       "version_major": 2,
       "version_minor": 0
      },
      "text/plain": [
       "  0%|          | 0/1 [00:00<?, ?it/s]"
      ]
     },
     "metadata": {},
     "output_type": "display_data"
    },
    {
     "name": "stdout",
     "output_type": "stream",
     "text": [
      "Wall time: 228 ms\n"
     ]
    },
    {
     "data": {
      "text/plain": [
       "[array([[ 2.96792686e-01,  2.79288054e-01,  3.51119369e-01,\n",
       "         -4.09465820e-01, -3.75003040e-01, -8.26261699e-01,\n",
       "          5.35689831e-01,  7.81119049e-01,  2.26341590e-01,\n",
       "         -2.01149598e-01,  2.06364710e-02,  5.54716662e-02,\n",
       "         -5.84685728e-02,  4.49651003e-01,  5.59139192e-01,\n",
       "          3.64042729e-01, -4.11000341e-01,  4.29950148e-01,\n",
       "          2.52891153e-01,  1.12101182e-01, -5.95120192e-02,\n",
       "         -2.35202625e-01,  1.22811645e-01,  4.47235517e-02,\n",
       "          2.11547375e-01, -1.14213668e-01,  1.32680163e-02,\n",
       "         -2.03619555e-01, -2.65167683e-01,  1.16182722e-01,\n",
       "         -2.42537912e-02,  2.15747207e-01,  4.34028188e-04,\n",
       "         -1.02725469e-01,  3.16843778e-01, -2.74089687e-02,\n",
       "          3.23940329e-02,  5.68785518e-03,  5.07611752e-01,\n",
       "         -6.13097697e-02, -1.97910652e-01, -6.45651110e-03,\n",
       "          4.97508235e-02, -8.38904157e-02, -2.24781364e-01,\n",
       "         -6.99066520e-01, -3.51534247e+00,  5.61960079e-02,\n",
       "         -1.95572793e-01, -2.43622035e-01, -7.23079294e-02,\n",
       "         -4.40299809e-01,  3.25321406e-02,  5.66561878e-01,\n",
       "          3.89131933e-01, -4.60961089e-02, -4.22513306e-01,\n",
       "          1.85982883e-01,  3.15407008e-01,  3.44677158e-02,\n",
       "          4.53415751e-01,  1.18487522e-01, -1.00349404e-01,\n",
       "          1.59099698e-01, -1.64462373e-01,  4.59340140e-02,\n",
       "         -1.18890971e-01, -7.85399787e-03, -2.64130384e-01,\n",
       "          2.16085970e-01, -1.88458130e-01, -3.15684676e-01,\n",
       "         -6.38098568e-02, -2.41496250e-01,  5.63469417e-02,\n",
       "         -2.01215237e-01,  2.01551288e-01,  4.37740207e-01,\n",
       "         -1.07009165e-01,  9.15625766e-02, -1.70296151e-02,\n",
       "          7.08560824e-01,  2.82757223e-01,  2.70914733e-01,\n",
       "          2.79326271e-02,  4.54278350e-01, -1.31737530e-01,\n",
       "         -1.84390917e-01,  2.77377307e-01,  5.74691629e-04,\n",
       "         -2.64087468e-01,  2.19452500e-01, -2.89593041e-01,\n",
       "          3.90122175e-01,  4.44408804e-01,  2.04302579e-01,\n",
       "         -1.34624749e-01,  3.99298109e-02,  3.56946975e-01,\n",
       "          3.06223750e-01,  1.71810821e-01,  2.79924870e-01,\n",
       "          5.00395484e-02, -6.15649760e-01,  7.32712224e-02,\n",
       "          2.30793938e-01,  2.25025788e-01, -2.10940927e-01,\n",
       "          2.81488538e-01, -2.19572663e+00,  2.86383271e-01,\n",
       "          3.23159397e-02, -2.67315656e-01, -6.07273459e-01,\n",
       "          2.14491397e-01,  2.02078089e-01,  2.49354616e-01,\n",
       "         -2.77155489e-01,  2.66334206e-01,  1.97476983e-01,\n",
       "         -1.05792560e-01,  3.56276184e-02, -1.24901545e-03,\n",
       "         -3.16343516e-01,  3.69886220e-01,  2.69081980e-01,\n",
       "          1.03618443e-01, -1.05035938e-01,  1.18534364e-01,\n",
       "          4.23235506e-01,  4.77797449e-01,  8.04367423e-01,\n",
       "          2.14866608e-01, -3.01803738e-01, -1.90837771e-01,\n",
       "          2.48327502e-03,  3.02302301e-01, -8.98652300e-02,\n",
       "         -1.55772015e-01, -3.31669599e-01, -7.83796072e-01,\n",
       "         -3.98582339e-01, -3.04048157e+00,  2.71852285e-01,\n",
       "          2.28462722e-02,  1.97205886e-01, -4.46063727e-01,\n",
       "         -1.33501142e-01, -2.31296256e-01,  2.36911505e-01,\n",
       "         -7.52477273e-02, -7.66427070e-02, -2.80693412e-01,\n",
       "         -3.52393650e-02, -2.95666516e-01, -1.22928277e-01,\n",
       "         -2.78594464e-01, -2.15550169e-01,  1.92809746e-01,\n",
       "          3.02297622e-01,  1.29965484e-01,  1.30323738e-01,\n",
       "         -3.40826422e-01,  1.01611622e-01, -2.00093478e-01,\n",
       "         -2.61245310e-01,  3.74127299e-01,  4.28491622e-01,\n",
       "         -2.56312013e-01, -9.00611207e-02, -1.49221033e-01,\n",
       "          3.59609306e-01,  2.67467767e-01,  1.01624340e-01,\n",
       "          2.54583180e-01,  4.14464138e-02,  3.92169327e-01,\n",
       "          5.79438686e-01,  3.01161528e-01, -1.14750907e-01,\n",
       "         -6.31304026e-01,  3.16312253e-01,  2.05661014e-01,\n",
       "          3.08154255e-01,  2.93646485e-01, -7.04353824e-02,\n",
       "          5.71259439e-01, -3.59226197e-01, -5.64335763e-01,\n",
       "          7.27705956e-01, -1.38880491e-01, -3.85601401e-01,\n",
       "          5.77781022e-01,  6.90801675e-03,  4.63190734e-01,\n",
       "         -8.24664384e-02,  3.21133547e-02, -1.90421507e-01,\n",
       "          2.77511962e-03,  2.98233658e-01, -3.16058218e-01,\n",
       "          1.63583457e-03,  1.12233777e-02, -6.12882227e-02,\n",
       "         -2.84670353e-01,  3.92503977e+00,  7.55809024e-02,\n",
       "         -4.78441417e-02, -9.11852121e-02,  1.33003145e-01,\n",
       "         -1.51510209e-01, -1.27392396e-01, -2.29996562e-01,\n",
       "         -1.58143997e-01, -2.97597378e-01,  4.83514294e-02,\n",
       "          4.22034234e-01, -6.46670237e-02,  1.54544052e-03,\n",
       "         -9.66751352e-02,  3.46029997e-01,  9.65892822e-02,\n",
       "         -4.77155000e-01,  6.15694933e-02, -2.26875111e-01,\n",
       "          1.37312710e-01, -1.04841590e-01,  4.08512682e-01,\n",
       "          3.88922185e-01, -2.21943903e+00,  1.86748020e-02,\n",
       "          1.46641314e-01, -1.72719613e-01,  4.90986258e-01,\n",
       "         -2.81165451e-01,  2.08223909e-02,  2.39498988e-01,\n",
       "         -1.86075941e-01,  2.93293297e-01,  3.12208751e-04,\n",
       "          4.89011854e-02,  6.30580902e-01,  1.47474864e-02,\n",
       "         -6.54981211e-02, -7.73235336e-02,  5.94504416e-01,\n",
       "          2.71796763e-01, -3.40769529e-01, -1.56495646e-01,\n",
       "          2.36461181e-02,  4.16372865e-01,  1.52086779e-01,\n",
       "         -2.21155390e-01, -6.69172585e-01,  4.05683070e-01,\n",
       "          3.01906168e-01,  4.10246057e-03,  2.48420000e-01,\n",
       "         -3.28025520e-01, -6.49906158e-01, -3.19246054e-01,\n",
       "          1.11224530e-02, -2.92268962e-01,  2.56491095e-01,\n",
       "         -3.91902596e-01, -5.85589744e-02, -2.62233503e-02,\n",
       "         -3.15013945e-01, -2.29631782e-01, -2.75353402e-01,\n",
       "          8.98225829e-02, -1.17503919e-01, -3.50933939e-01,\n",
       "         -3.12232852e+00,  3.24023455e-01, -2.23299250e-01,\n",
       "          1.96092427e-01, -7.35966042e-02, -5.80475181e-02,\n",
       "         -7.11186305e-02, -7.66538009e-02, -2.36623138e-01,\n",
       "         -3.69155854e-01,  2.68036425e-01,  1.28915712e-01,\n",
       "          2.15762556e-02,  4.90568161e-01, -2.23985076e-01,\n",
       "          2.65698493e-01,  9.11729187e-02, -2.67755598e-01,\n",
       "         -3.28187011e-02, -3.36910874e-01,  4.89428192e-02,\n",
       "          6.45015249e-03, -1.37350813e-01,  1.86800420e-01,\n",
       "          1.04080230e-01, -8.27779993e-02,  1.03014693e-01,\n",
       "         -3.19007516e-01,  8.63283157e-01, -1.40400946e-01,\n",
       "          1.07287154e-01, -8.31840709e-02, -4.19504285e-01,\n",
       "          4.41552177e-02, -6.33166637e-03, -3.79962158e+00,\n",
       "          1.53670549e-01, -6.74794376e-01, -5.14185056e-02,\n",
       "          2.51606315e-01,  3.27194035e-02,  6.76595688e-01,\n",
       "         -5.32275975e-01, -8.09530973e-01,  2.81756878e-01,\n",
       "          2.54812062e-01, -3.61494832e-02,  1.99232757e-01,\n",
       "          7.83430263e-02,  7.35347211e-01,  3.16449106e-01,\n",
       "          2.33170271e-01, -2.21725211e-01,  5.09438634e-01,\n",
       "         -4.47198749e-02, -1.63484558e-01, -1.92189679e-01,\n",
       "          2.80629754e-01, -1.02970511e-01,  2.00985298e-01,\n",
       "          3.31109256e-01, -4.53145504e-01, -1.98059589e-01,\n",
       "          1.92929402e-01,  2.93804556e-02,  5.85402027e-02,\n",
       "         -5.93471155e-02, -1.42563254e-01, -2.37547815e-01,\n",
       "         -3.15124452e-01, -2.14826137e-01,  2.16756403e-01,\n",
       "         -3.11141253e-01,  1.55400038e-01,  1.43484781e-02,\n",
       "          2.18185782e-01,  7.70365477e-01, -2.07906514e-02,\n",
       "          1.76658288e-01,  6.12598598e-01, -4.74293679e-02,\n",
       "         -1.39657795e-01,  3.46842408e-02,  1.79795876e-01,\n",
       "         -5.89374118e-02, -1.24257885e-01,  1.98974699e-01,\n",
       "          1.12271082e+00,  9.67484489e-02,  6.69072941e-03,\n",
       "         -4.30946112e-01,  2.23271444e-01,  5.01925588e-01,\n",
       "          6.64993599e-02,  1.20915316e-01,  3.26999247e-01,\n",
       "         -5.25319755e-01, -7.02787414e-02, -2.19281808e-01,\n",
       "         -1.48486421e-01,  2.96403356e-02,  8.20625067e-01,\n",
       "         -5.65441966e-01,  9.42589864e-02, -6.02495968e-02,\n",
       "         -1.81362674e-01,  2.58602738e-01, -3.33317727e-01,\n",
       "         -1.26404870e+00, -1.28608972e-01, -2.43364319e-01,\n",
       "         -1.70378447e-01,  2.78783023e-01,  1.28691658e-01,\n",
       "          1.21349588e-01, -2.54810899e-01,  2.99210344e-02,\n",
       "         -7.43647069e-02,  1.90503001e-01, -3.61060172e-01,\n",
       "         -5.65942764e-01,  1.34088606e-01,  8.23540315e-02,\n",
       "         -5.49201488e-01,  1.49535507e-01, -2.09000245e-01,\n",
       "          2.48340532e-01,  2.25590825e-01,  4.00977224e-01,\n",
       "         -8.70230123e-02,  9.02901739e-02, -1.06679462e-01,\n",
       "         -6.49070740e-01,  4.14560616e-01, -4.59070280e-02,\n",
       "          7.34936893e-02, -1.40357703e-01, -2.96753794e-01,\n",
       "         -2.55073965e-01, -2.19688863e-01, -4.69948500e-01,\n",
       "         -7.00628534e-02,  5.65939426e-01,  1.68054849e-01,\n",
       "          1.12311460e-01, -4.11588043e-01, -7.64812529e-02,\n",
       "          2.59651542e-01, -2.89476961e-02,  7.70906746e-01,\n",
       "         -3.13334733e-01, -2.18407109e-01,  4.64191347e-01,\n",
       "         -5.19377226e-03, -3.27691317e-01,  4.44388837e-01,\n",
       "          3.15052420e-02, -3.14842224e-01, -1.53237045e-01,\n",
       "         -2.68526256e-01,  1.14665970e-01, -8.77577171e-04,\n",
       "         -1.22910075e-01, -2.40573347e-01, -2.37893581e-01,\n",
       "         -2.66682923e-01, -2.34620243e-01, -5.43643236e-01,\n",
       "         -1.96946368e-01,  1.26765296e-01,  4.12483439e-02,\n",
       "         -1.20401256e-01, -1.50008025e-02,  3.05970997e-01,\n",
       "          2.23320216e-01,  5.60460210e-01,  9.12048295e-02,\n",
       "         -2.32713863e-01,  1.32796094e-01, -5.10511398e-01,\n",
       "          6.29879713e-01,  2.63230532e-01,  1.56989142e-01,\n",
       "         -2.80898586e-02,  4.71143335e-01, -7.52996430e-02,\n",
       "         -1.82466701e-01, -5.68072982e-02, -4.28752035e-01,\n",
       "          4.02425945e-01,  1.83604732e-01, -1.89188108e-01,\n",
       "          2.12827072e-01, -1.15768809e-03,  2.03355521e-01,\n",
       "          4.11751956e-01,  3.31177741e-01, -1.86641920e+00,\n",
       "          5.01245081e-01,  6.01379216e-01,  1.98061675e-01,\n",
       "         -2.05413904e-03,  1.59894675e-01, -4.05605376e-01,\n",
       "          3.57981563e-01, -7.78774247e-02,  1.17565095e-01,\n",
       "         -1.67447820e-01,  4.73687351e-01, -3.88932377e-02,\n",
       "         -3.55943978e-01, -2.36536353e-03,  2.90356249e-01,\n",
       "          2.58632183e-01, -1.55848697e-01,  6.43683150e-02,\n",
       "          1.32042423e-01, -3.23440135e-02,  5.46677895e-02,\n",
       "          2.27962397e-02,  3.72637063e-02,  9.04359370e-02,\n",
       "          4.25830530e-03, -3.44119430e-01,  4.30648029e-01,\n",
       "         -1.34792283e-01,  6.78548813e-01, -5.64227551e-02,\n",
       "         -4.28018600e-01, -6.02337778e-01, -7.31025696e-01,\n",
       "          2.60892212e-02,  4.12324548e-01,  2.79945761e-01,\n",
       "         -3.49288508e-02,  3.89114827e-01,  7.45494664e-01,\n",
       "         -5.23310840e-01,  2.56483525e-01,  5.97168744e-01,\n",
       "          2.34637856e-01,  5.86922228e-01,  1.79306135e-01,\n",
       "          2.15944991e-01,  3.19651455e-01, -1.27611563e-01,\n",
       "         -5.70231974e-01, -2.72540808e-01, -6.33599684e-02,\n",
       "         -8.50555718e-01, -1.02074683e-01, -4.68843430e-02,\n",
       "         -6.15407467e-01, -1.59343794e-01,  5.76198220e-01,\n",
       "         -4.50090826e-01,  3.98672014e-01, -1.72154345e-02,\n",
       "         -7.59923533e-02, -6.49948716e-01,  1.18440993e-01,\n",
       "         -1.47359490e-01, -7.78339505e-01, -1.87216122e-02,\n",
       "         -1.88951731e-01,  6.05981313e-02,  5.83784997e-01,\n",
       "          5.77406287e-01, -6.49820939e-02, -6.58724844e-01,\n",
       "          2.03401998e-01, -3.31209123e-01,  5.57377517e-01,\n",
       "          3.45478445e-01,  2.50223726e-01,  1.91607893e-01,\n",
       "          9.53137223e-03, -1.62505042e-02, -1.99515164e-01,\n",
       "          1.20272659e-01,  7.67692983e-01,  1.95374414e-01,\n",
       "          1.80609539e-01, -5.17315269e-01, -4.50394660e-01,\n",
       "          9.22722220e-02,  1.68286070e-01, -5.76195359e-01,\n",
       "         -2.07681894e-01,  4.07139182e-01, -2.48644471e-01,\n",
       "         -8.86447728e-02,  6.79729879e-02,  2.93937832e-01,\n",
       "         -4.67885613e-01,  2.71347482e-02, -2.23061249e-01,\n",
       "         -3.30974311e-01,  1.07676007e-01,  2.16716811e-01,\n",
       "          1.62372552e-02, -2.80576140e-01,  4.45437968e-01,\n",
       "          2.77203411e-01,  3.44177365e-01, -6.12990797e-01,\n",
       "         -2.81059682e-01,  2.16045901e-01, -2.97446221e-01,\n",
       "          2.91928411e-01, -1.58223838e-01, -8.57713819e-03,\n",
       "         -5.46680629e-01,  3.25176507e-01, -2.42141426e-01,\n",
       "          1.95975697e+00,  1.47644535e-01,  1.97901487e-01,\n",
       "         -3.96996379e-01,  3.92148763e-01,  1.57199532e-01,\n",
       "          1.29781559e-01,  2.04378709e-01, -4.24990840e-02,\n",
       "          7.09192991e-01, -4.28700864e-01,  4.11521137e-01,\n",
       "         -1.90718278e-01, -1.64366197e-02,  4.14668471e-01,\n",
       "          1.25392586e-01,  3.68018210e-01, -6.31259441e-01,\n",
       "         -5.56037188e-01, -4.21218485e-01, -6.49777234e-01,\n",
       "         -1.52620122e-01,  4.04122680e-01, -3.36757779e-01,\n",
       "          6.33744001e-02,  3.42343301e-01,  1.25350550e-01,\n",
       "         -6.28760681e-02,  1.43343851e-01,  7.64893532e-01,\n",
       "          1.55077264e-01,  3.88617426e-01,  1.25706732e-01,\n",
       "          3.19526404e-01, -7.65254915e-01,  2.90997595e-01,\n",
       "          2.26582915e-01, -9.77861211e-02,  4.99245934e-02,\n",
       "         -9.38760955e-03,  1.79325864e-01, -5.85022449e-01,\n",
       "          8.67710710e-01,  9.26222503e-02,  1.41629964e-01,\n",
       "          3.70648056e-01,  3.18241596e-01,  1.15200132e-01,\n",
       "          5.65824926e-01,  2.35107094e-02,  3.42585862e-01,\n",
       "         -2.05971412e-02, -5.92195764e-02,  5.73056750e-02,\n",
       "          2.26644740e-01, -3.31882298e-01, -2.73573130e-01,\n",
       "         -1.35072693e-01, -5.35802841e-01,  2.86515266e-01,\n",
       "         -2.37387627e-01,  3.12181950e-01,  6.09458424e-02,\n",
       "          5.25185000e-03,  3.77068226e-03,  2.38868192e-01,\n",
       "          6.50567934e-02, -8.25144798e-02,  2.39699390e-02,\n",
       "         -4.67318624e-01, -6.57413006e-02,  2.85160542e-01,\n",
       "          4.15903181e-01,  1.66709438e-01,  6.94012582e-01,\n",
       "          1.59032077e-01,  1.52462319e-01, -5.82761206e-02,\n",
       "         -3.58173430e-01, -2.18919206e+00,  4.90473986e-01,\n",
       "          2.03388497e-01, -1.60840780e-01,  5.47970124e-02,\n",
       "         -1.40696898e-01,  3.36517036e-01, -2.96844482e-01,\n",
       "         -1.00939110e-01,  6.57980889e-02, -4.96368483e-02,\n",
       "          4.26722735e-01,  1.29986390e-01,  1.31802425e-01,\n",
       "          6.64254129e-02, -9.89611372e-02,  1.33547960e-02,\n",
       "         -8.32923055e-02, -2.82806635e-01, -8.53461921e-02,\n",
       "          2.87399739e-01,  3.07589979e-03, -4.70345579e-02,\n",
       "         -3.02394778e-01, -1.42577544e-01,  1.14002720e-01,\n",
       "          2.97458202e-01, -4.42001224e-02,  3.25968593e-01,\n",
       "          3.88831273e-02, -5.48460558e-02, -3.02690547e-03,\n",
       "          1.61780063e-02, -4.34996039e-01, -1.72701985e-01,\n",
       "         -7.91801885e-02, -1.71142116e-01, -1.31984785e-01,\n",
       "          1.77706406e-01,  8.59502628e-02, -1.11350350e-01,\n",
       "          7.94001102e-01, -3.18925641e-02, -1.03990622e-01,\n",
       "          2.23021030e-01, -5.00786245e-01,  4.11453128e-01,\n",
       "         -4.88574952e-01,  5.22686958e-01, -5.10672987e-01,\n",
       "          3.80116731e-01,  7.99740329e-02,  3.43154907e-01,\n",
       "          1.44470364e-01,  3.11416209e-01,  1.07572958e-01,\n",
       "          5.15150279e-02, -1.57163143e-01,  8.98343474e-02,\n",
       "         -2.33018309e-01, -2.29790702e-01, -1.62159890e-01,\n",
       "         -3.96317214e-01, -1.52240783e-01,  3.26338112e-01,\n",
       "          2.10697707e-02,  8.08221325e-02,  5.69144070e-01,\n",
       "         -3.66559356e-01, -5.73307574e-01, -5.53672373e-01,\n",
       "          2.16913186e-02,  4.34186012e-01,  3.18417758e-01,\n",
       "         -4.36810404e-02, -3.33168030e-01,  4.97840881e-01,\n",
       "          2.74458498e-01,  5.37560105e-01,  1.62830309e-03,\n",
       "         -4.68350410e-01,  2.70620316e-01, -2.11164400e-01,\n",
       "          9.30997059e-02,  1.54752597e-01, -6.21232319e+00,\n",
       "         -2.86701977e-01, -1.95877310e-02, -1.82982847e-01,\n",
       "         -1.00365385e-01, -4.96828526e-01, -5.28587639e-01,\n",
       "         -3.58696729e-01,  1.51202083e-01, -4.28559512e-01,\n",
       "          1.59638762e-01,  3.70258600e-01, -4.47982810e-02,\n",
       "         -3.94350111e-01,  5.97472906e-01,  5.72955310e-01]], dtype=float32)]"
      ]
     },
     "execution_count": 371,
     "metadata": {},
     "output_type": "execute_result"
    }
   ],
   "source": [
    "%%time\n",
    "batch_size = 1\n",
    "embeddings = []\n",
    "for i in tqdm(range(padded.shape[0] // batch_size)):\n",
    "    batch = torch.LongTensor(padded[batch_size*i:batch_size*(i+1)]).to(device)\n",
    "    attention_mask_batch = torch.LongTensor(attention_mask[batch_size*i:batch_size*(i+1)])\n",
    "\n",
    "    with torch.no_grad():\n",
    "        batch_embeddings = model(batch.to(device), attention_mask=attention_mask_batch.to(device))\n",
    "\n",
    "    embeddings.append(batch_embeddings[0][:,0,:].cpu().numpy()) \n",
    "embeddings"
   ]
  },
  {
   "cell_type": "code",
   "execution_count": 372,
   "metadata": {},
   "outputs": [],
   "source": [
    "features_n = np.concatenate(embeddings)"
   ]
  },
  {
   "cell_type": "markdown",
   "metadata": {},
   "source": [
    "Эти признаки будут использованы в качестве тестовых. "
   ]
  },
  {
   "cell_type": "markdown",
   "metadata": {},
   "source": [
    "Произведём оценку токсичности комментария. Для этого мы будем использовать модель LogisticRegression для варианта с BERT,  уже прошедшей обучение по определению токсичности комментариев на обучающей выборке."
   ]
  },
  {
   "cell_type": "code",
   "execution_count": 379,
   "metadata": {},
   "outputs": [
    {
     "name": "stdout",
     "output_type": "stream",
     "text": [
      "Wall time: 0 ns\n"
     ]
    }
   ],
   "source": [
    "%%time\n",
    "start = time.time()\n",
    "test_predict_lr_n = grid_lr_bert.predict(features_n)\n",
    "end = time.time()\n",
    "t_p_lr_n =round(end-start,2)"
   ]
  },
  {
   "cell_type": "code",
   "execution_count": 384,
   "metadata": {},
   "outputs": [
    {
     "name": "stdout",
     "output_type": "stream",
     "text": [
      "Фраза является токсичной\n"
     ]
    }
   ],
   "source": [
    "if int(test_predict_lr_n) == 1:\n",
    "    print(\"Фраза является токсичной\")\n",
    "else:\n",
    "    print(\"Фраза не является токсичной\")"
   ]
  }
 ],
 "metadata": {
  "ExecuteTimeLog": [
   {
    "duration": 4591,
    "start_time": "2023-01-19T19:48:06.496Z"
   },
   {
    "duration": 3454,
    "start_time": "2023-01-19T19:48:11.089Z"
   },
   {
    "duration": 4,
    "start_time": "2023-01-19T19:48:14.545Z"
   },
   {
    "duration": 42,
    "start_time": "2023-01-19T19:48:14.552Z"
   },
   {
    "duration": 39,
    "start_time": "2023-01-19T19:48:14.596Z"
   },
   {
    "duration": 43,
    "start_time": "2023-01-19T19:48:14.636Z"
   },
   {
    "duration": 228,
    "start_time": "2023-01-19T19:48:14.681Z"
   },
   {
    "duration": 25,
    "start_time": "2023-01-19T19:48:14.911Z"
   },
   {
    "duration": 10,
    "start_time": "2023-01-19T19:48:14.938Z"
   },
   {
    "duration": 30,
    "start_time": "2023-01-19T19:48:14.950Z"
   },
   {
    "duration": 489,
    "start_time": "2023-01-19T19:48:14.981Z"
   },
   {
    "duration": 3,
    "start_time": "2023-01-19T19:48:15.471Z"
   },
   {
    "duration": 1141490,
    "start_time": "2023-01-19T19:48:15.476Z"
   },
   {
    "duration": 4311,
    "start_time": "2023-01-19T20:07:16.968Z"
   },
   {
    "duration": 32,
    "start_time": "2023-01-19T20:07:21.281Z"
   },
   {
    "duration": 4,
    "start_time": "2023-01-19T20:07:21.315Z"
   },
   {
    "duration": 24,
    "start_time": "2023-01-19T20:07:21.321Z"
   },
   {
    "duration": 26,
    "start_time": "2023-01-19T20:07:21.346Z"
   },
   {
    "duration": 14,
    "start_time": "2023-01-19T20:07:21.374Z"
   },
   {
    "duration": 18,
    "start_time": "2023-01-19T20:07:21.390Z"
   },
   {
    "duration": 33,
    "start_time": "2023-01-19T20:07:21.410Z"
   },
   {
    "duration": 17,
    "start_time": "2023-01-19T20:07:21.445Z"
   },
   {
    "duration": 15,
    "start_time": "2023-01-19T20:07:21.464Z"
   },
   {
    "duration": 19,
    "start_time": "2023-01-19T20:07:21.481Z"
   },
   {
    "duration": 8853,
    "start_time": "2023-01-19T20:07:21.501Z"
   },
   {
    "duration": 8747,
    "start_time": "2023-01-19T20:07:30.356Z"
   },
   {
    "duration": 628,
    "start_time": "2023-01-19T20:07:39.105Z"
   },
   {
    "duration": 3,
    "start_time": "2023-01-19T20:07:39.738Z"
   },
   {
    "duration": 40,
    "start_time": "2023-01-19T20:07:39.743Z"
   },
   {
    "duration": 31,
    "start_time": "2023-01-19T20:07:39.785Z"
   },
   {
    "duration": 3760,
    "start_time": "2023-01-19T20:07:39.818Z"
   },
   {
    "duration": 9,
    "start_time": "2023-01-19T20:07:43.580Z"
   },
   {
    "duration": 59,
    "start_time": "2023-01-19T20:07:43.591Z"
   },
   {
    "duration": 17,
    "start_time": "2023-01-19T20:07:43.652Z"
   },
   {
    "duration": 2,
    "start_time": "2023-01-19T20:07:43.672Z"
   },
   {
    "duration": 337,
    "start_time": "2023-01-19T20:07:43.676Z"
   },
   {
    "duration": 0,
    "start_time": "2023-01-19T20:07:44.015Z"
   },
   {
    "duration": 0,
    "start_time": "2023-01-19T20:07:44.016Z"
   },
   {
    "duration": 0,
    "start_time": "2023-01-19T20:07:44.017Z"
   },
   {
    "duration": 0,
    "start_time": "2023-01-19T20:07:44.019Z"
   },
   {
    "duration": 0,
    "start_time": "2023-01-19T20:07:44.020Z"
   },
   {
    "duration": 0,
    "start_time": "2023-01-19T20:07:44.021Z"
   },
   {
    "duration": 0,
    "start_time": "2023-01-19T20:07:44.022Z"
   },
   {
    "duration": 0,
    "start_time": "2023-01-19T20:07:44.024Z"
   },
   {
    "duration": 0,
    "start_time": "2023-01-19T20:07:44.025Z"
   },
   {
    "duration": 0,
    "start_time": "2023-01-19T20:07:44.026Z"
   },
   {
    "duration": 0,
    "start_time": "2023-01-19T20:07:44.027Z"
   },
   {
    "duration": 0,
    "start_time": "2023-01-19T20:07:44.028Z"
   },
   {
    "duration": 0,
    "start_time": "2023-01-19T20:07:44.029Z"
   },
   {
    "duration": 0,
    "start_time": "2023-01-19T20:07:44.030Z"
   },
   {
    "duration": 0,
    "start_time": "2023-01-19T20:07:44.031Z"
   },
   {
    "duration": 0,
    "start_time": "2023-01-19T20:07:44.032Z"
   },
   {
    "duration": 0,
    "start_time": "2023-01-19T20:07:44.033Z"
   },
   {
    "duration": 0,
    "start_time": "2023-01-19T20:07:44.034Z"
   },
   {
    "duration": 0,
    "start_time": "2023-01-19T20:07:44.035Z"
   },
   {
    "duration": 0,
    "start_time": "2023-01-19T20:07:44.036Z"
   },
   {
    "duration": 0,
    "start_time": "2023-01-19T20:07:44.037Z"
   },
   {
    "duration": 0,
    "start_time": "2023-01-19T20:07:44.038Z"
   },
   {
    "duration": 0,
    "start_time": "2023-01-19T20:07:44.039Z"
   },
   {
    "duration": 0,
    "start_time": "2023-01-19T20:07:44.040Z"
   },
   {
    "duration": 0,
    "start_time": "2023-01-19T20:07:44.041Z"
   },
   {
    "duration": 0,
    "start_time": "2023-01-19T20:07:44.042Z"
   },
   {
    "duration": 0,
    "start_time": "2023-01-19T20:07:44.043Z"
   },
   {
    "duration": 0,
    "start_time": "2023-01-19T20:07:44.044Z"
   },
   {
    "duration": 0,
    "start_time": "2023-01-19T20:07:44.045Z"
   },
   {
    "duration": 0,
    "start_time": "2023-01-19T20:07:44.046Z"
   },
   {
    "duration": 0,
    "start_time": "2023-01-19T20:07:44.047Z"
   },
   {
    "duration": 0,
    "start_time": "2023-01-19T20:07:44.048Z"
   },
   {
    "duration": 0,
    "start_time": "2023-01-19T20:07:44.049Z"
   },
   {
    "duration": 0,
    "start_time": "2023-01-19T20:07:44.104Z"
   },
   {
    "duration": 0,
    "start_time": "2023-01-19T20:07:44.106Z"
   },
   {
    "duration": 1,
    "start_time": "2023-01-19T20:07:44.107Z"
   },
   {
    "duration": 1,
    "start_time": "2023-01-19T20:07:44.108Z"
   },
   {
    "duration": 0,
    "start_time": "2023-01-19T20:07:44.110Z"
   },
   {
    "duration": 0,
    "start_time": "2023-01-19T20:07:44.111Z"
   },
   {
    "duration": 2,
    "start_time": "2023-01-19T20:08:39.909Z"
   },
   {
    "duration": 4559,
    "start_time": "2023-01-19T20:08:43.263Z"
   },
   {
    "duration": 4376,
    "start_time": "2023-01-19T20:09:14.213Z"
   },
   {
    "duration": 10192,
    "start_time": "2023-01-19T20:09:28.980Z"
   },
   {
    "duration": 10299,
    "start_time": "2023-01-19T20:09:49.805Z"
   },
   {
    "duration": 5,
    "start_time": "2023-01-19T20:10:00.106Z"
   },
   {
    "duration": 147,
    "start_time": "2023-01-19T20:10:00.113Z"
   },
   {
    "duration": 9555,
    "start_time": "2023-01-19T20:10:00.263Z"
   },
   {
    "duration": 21,
    "start_time": "2023-01-19T20:10:09.819Z"
   },
   {
    "duration": 72,
    "start_time": "2023-01-19T20:12:15.789Z"
   },
   {
    "duration": 5,
    "start_time": "2023-01-19T20:12:29.968Z"
   },
   {
    "duration": 10518,
    "start_time": "2023-01-19T20:12:42.839Z"
   },
   {
    "duration": 4,
    "start_time": "2023-01-19T20:12:53.359Z"
   },
   {
    "duration": 27,
    "start_time": "2023-01-19T20:12:53.364Z"
   },
   {
    "duration": 2721,
    "start_time": "2023-01-19T20:12:53.394Z"
   },
   {
    "duration": 22,
    "start_time": "2023-01-19T20:12:56.117Z"
   },
   {
    "duration": 7,
    "start_time": "2023-01-19T20:16:25.535Z"
   },
   {
    "duration": 33,
    "start_time": "2023-01-19T20:16:37.602Z"
   },
   {
    "duration": 4853,
    "start_time": "2023-01-19T20:19:32.895Z"
   },
   {
    "duration": 780,
    "start_time": "2023-01-19T20:19:37.750Z"
   },
   {
    "duration": 5,
    "start_time": "2023-01-19T20:19:38.532Z"
   },
   {
    "duration": 63,
    "start_time": "2023-01-19T20:19:38.539Z"
   },
   {
    "duration": 45,
    "start_time": "2023-01-19T20:19:38.606Z"
   },
   {
    "duration": 43,
    "start_time": "2023-01-19T20:19:38.653Z"
   },
   {
    "duration": 254,
    "start_time": "2023-01-19T20:19:38.697Z"
   },
   {
    "duration": 27,
    "start_time": "2023-01-19T20:19:38.953Z"
   },
   {
    "duration": 35,
    "start_time": "2023-01-19T20:19:38.982Z"
   },
   {
    "duration": 49,
    "start_time": "2023-01-19T20:19:39.020Z"
   },
   {
    "duration": 561,
    "start_time": "2023-01-19T20:19:39.071Z"
   },
   {
    "duration": 4,
    "start_time": "2023-01-19T20:19:39.634Z"
   },
   {
    "duration": 1229727,
    "start_time": "2023-01-19T20:19:39.639Z"
   },
   {
    "duration": 4524,
    "start_time": "2023-01-19T20:40:09.368Z"
   },
   {
    "duration": 32,
    "start_time": "2023-01-19T20:40:13.893Z"
   },
   {
    "duration": 90,
    "start_time": "2023-01-19T20:40:13.927Z"
   },
   {
    "duration": 54,
    "start_time": "2023-01-19T20:40:14.019Z"
   },
   {
    "duration": 42,
    "start_time": "2023-01-19T20:40:14.075Z"
   },
   {
    "duration": 22,
    "start_time": "2023-01-19T20:40:14.120Z"
   },
   {
    "duration": 7,
    "start_time": "2023-01-19T20:40:14.144Z"
   },
   {
    "duration": 60,
    "start_time": "2023-01-19T20:40:14.153Z"
   },
   {
    "duration": 9,
    "start_time": "2023-01-19T20:40:14.215Z"
   },
   {
    "duration": 20,
    "start_time": "2023-01-19T20:40:14.226Z"
   },
   {
    "duration": 3,
    "start_time": "2023-01-19T20:40:14.270Z"
   },
   {
    "duration": 9511,
    "start_time": "2023-01-19T20:40:14.276Z"
   },
   {
    "duration": 9653,
    "start_time": "2023-01-19T20:40:23.789Z"
   },
   {
    "duration": 0,
    "start_time": "2023-01-19T20:40:33.445Z"
   },
   {
    "duration": 0,
    "start_time": "2023-01-19T20:40:33.446Z"
   },
   {
    "duration": 0,
    "start_time": "2023-01-19T20:40:33.447Z"
   },
   {
    "duration": 0,
    "start_time": "2023-01-19T20:40:33.448Z"
   },
   {
    "duration": 0,
    "start_time": "2023-01-19T20:40:33.449Z"
   },
   {
    "duration": 0,
    "start_time": "2023-01-19T20:40:33.450Z"
   },
   {
    "duration": 0,
    "start_time": "2023-01-19T20:40:33.451Z"
   },
   {
    "duration": 0,
    "start_time": "2023-01-19T20:40:33.452Z"
   },
   {
    "duration": 0,
    "start_time": "2023-01-19T20:40:33.453Z"
   },
   {
    "duration": 0,
    "start_time": "2023-01-19T20:40:33.454Z"
   },
   {
    "duration": 0,
    "start_time": "2023-01-19T20:40:33.455Z"
   },
   {
    "duration": 0,
    "start_time": "2023-01-19T20:40:33.456Z"
   },
   {
    "duration": 0,
    "start_time": "2023-01-19T20:40:33.457Z"
   },
   {
    "duration": 0,
    "start_time": "2023-01-19T20:40:33.458Z"
   },
   {
    "duration": 0,
    "start_time": "2023-01-19T20:40:33.458Z"
   },
   {
    "duration": 0,
    "start_time": "2023-01-19T20:40:33.459Z"
   },
   {
    "duration": 0,
    "start_time": "2023-01-19T20:40:33.460Z"
   },
   {
    "duration": 0,
    "start_time": "2023-01-19T20:40:33.461Z"
   },
   {
    "duration": 0,
    "start_time": "2023-01-19T20:40:33.462Z"
   },
   {
    "duration": 0,
    "start_time": "2023-01-19T20:40:33.462Z"
   },
   {
    "duration": 0,
    "start_time": "2023-01-19T20:40:33.463Z"
   },
   {
    "duration": 0,
    "start_time": "2023-01-19T20:40:33.464Z"
   },
   {
    "duration": 0,
    "start_time": "2023-01-19T20:40:33.465Z"
   },
   {
    "duration": 0,
    "start_time": "2023-01-19T20:40:33.466Z"
   },
   {
    "duration": 0,
    "start_time": "2023-01-19T20:40:33.467Z"
   },
   {
    "duration": 0,
    "start_time": "2023-01-19T20:40:33.468Z"
   },
   {
    "duration": 0,
    "start_time": "2023-01-19T20:40:33.468Z"
   },
   {
    "duration": 0,
    "start_time": "2023-01-19T20:40:33.469Z"
   },
   {
    "duration": 0,
    "start_time": "2023-01-19T20:40:33.511Z"
   },
   {
    "duration": 0,
    "start_time": "2023-01-19T20:40:33.512Z"
   },
   {
    "duration": 0,
    "start_time": "2023-01-19T20:40:33.513Z"
   },
   {
    "duration": 0,
    "start_time": "2023-01-19T20:40:33.514Z"
   },
   {
    "duration": 0,
    "start_time": "2023-01-19T20:40:33.515Z"
   },
   {
    "duration": 0,
    "start_time": "2023-01-19T20:40:33.516Z"
   },
   {
    "duration": 0,
    "start_time": "2023-01-19T20:40:33.518Z"
   },
   {
    "duration": 0,
    "start_time": "2023-01-19T20:40:33.519Z"
   },
   {
    "duration": 0,
    "start_time": "2023-01-19T20:40:33.521Z"
   },
   {
    "duration": 0,
    "start_time": "2023-01-19T20:40:33.523Z"
   },
   {
    "duration": 0,
    "start_time": "2023-01-19T20:40:33.524Z"
   },
   {
    "duration": 0,
    "start_time": "2023-01-19T20:40:33.525Z"
   },
   {
    "duration": 0,
    "start_time": "2023-01-19T20:40:33.526Z"
   },
   {
    "duration": 0,
    "start_time": "2023-01-19T20:40:33.527Z"
   },
   {
    "duration": 0,
    "start_time": "2023-01-19T20:40:33.529Z"
   },
   {
    "duration": 0,
    "start_time": "2023-01-19T20:40:33.529Z"
   },
   {
    "duration": 0,
    "start_time": "2023-01-19T20:40:33.530Z"
   },
   {
    "duration": 0,
    "start_time": "2023-01-19T20:40:33.531Z"
   },
   {
    "duration": 0,
    "start_time": "2023-01-19T20:40:33.532Z"
   },
   {
    "duration": 0,
    "start_time": "2023-01-19T20:40:33.533Z"
   },
   {
    "duration": 0,
    "start_time": "2023-01-19T20:40:33.534Z"
   },
   {
    "duration": 0,
    "start_time": "2023-01-19T20:40:33.535Z"
   },
   {
    "duration": 0,
    "start_time": "2023-01-19T20:40:33.536Z"
   },
   {
    "duration": 9,
    "start_time": "2023-01-19T20:40:36.019Z"
   },
   {
    "duration": 3172,
    "start_time": "2023-01-19T20:44:36.593Z"
   },
   {
    "duration": 6,
    "start_time": "2023-01-19T20:49:16.532Z"
   },
   {
    "duration": 56,
    "start_time": "2023-01-19T20:49:17.296Z"
   },
   {
    "duration": 7,
    "start_time": "2023-01-19T20:49:17.936Z"
   },
   {
    "duration": 6,
    "start_time": "2023-01-19T20:49:32.989Z"
   },
   {
    "duration": 33,
    "start_time": "2023-01-19T20:49:34.050Z"
   },
   {
    "duration": 8,
    "start_time": "2023-01-19T20:49:35.964Z"
   },
   {
    "duration": 5,
    "start_time": "2023-01-19T20:50:08.440Z"
   },
   {
    "duration": 35,
    "start_time": "2023-01-19T20:50:09.466Z"
   },
   {
    "duration": 5,
    "start_time": "2023-01-19T20:59:30.524Z"
   },
   {
    "duration": 6,
    "start_time": "2023-01-19T21:01:38.377Z"
   },
   {
    "duration": 64,
    "start_time": "2023-01-19T21:02:04.133Z"
   },
   {
    "duration": 53,
    "start_time": "2023-01-19T21:02:50.271Z"
   },
   {
    "duration": 3903,
    "start_time": "2023-01-19T21:03:05.008Z"
   },
   {
    "duration": 37,
    "start_time": "2023-01-19T21:03:49.000Z"
   },
   {
    "duration": 66,
    "start_time": "2023-01-19T21:04:26.509Z"
   },
   {
    "duration": 43,
    "start_time": "2023-01-19T21:07:25.461Z"
   },
   {
    "duration": 3918,
    "start_time": "2023-01-19T21:07:46.630Z"
   },
   {
    "duration": 1439,
    "start_time": "2023-01-19T21:13:42.794Z"
   },
   {
    "duration": 3233,
    "start_time": "2023-01-19T21:13:44.238Z"
   },
   {
    "duration": 3202,
    "start_time": "2023-01-19T21:19:12.161Z"
   },
   {
    "duration": 3,
    "start_time": "2023-01-19T21:19:18.364Z"
   },
   {
    "duration": 12,
    "start_time": "2023-01-19T21:19:20.448Z"
   },
   {
    "duration": 5,
    "start_time": "2023-01-19T21:19:22.566Z"
   },
   {
    "duration": 5,
    "start_time": "2023-01-19T21:19:24.296Z"
   },
   {
    "duration": 28,
    "start_time": "2023-01-19T21:19:25.546Z"
   },
   {
    "duration": 19,
    "start_time": "2023-01-19T21:19:26.713Z"
   },
   {
    "duration": 6,
    "start_time": "2023-01-19T21:19:27.063Z"
   },
   {
    "duration": 25,
    "start_time": "2023-01-19T21:19:28.233Z"
   },
   {
    "duration": 10,
    "start_time": "2023-01-19T21:19:38.459Z"
   },
   {
    "duration": 3,
    "start_time": "2023-01-19T21:19:42.712Z"
   },
   {
    "duration": 3,
    "start_time": "2023-01-19T21:19:43.298Z"
   },
   {
    "duration": 8923,
    "start_time": "2023-01-19T21:19:43.834Z"
   },
   {
    "duration": 8954,
    "start_time": "2023-01-19T21:19:52.759Z"
   },
   {
    "duration": 690,
    "start_time": "2023-01-19T21:20:04.087Z"
   },
   {
    "duration": 3,
    "start_time": "2023-01-19T21:20:07.366Z"
   },
   {
    "duration": 83,
    "start_time": "2023-01-19T21:21:07.341Z"
   },
   {
    "duration": 3,
    "start_time": "2023-01-19T21:21:25.827Z"
   },
   {
    "duration": 11,
    "start_time": "2023-01-19T21:21:32.175Z"
   },
   {
    "duration": 3,
    "start_time": "2023-01-19T21:21:33.458Z"
   },
   {
    "duration": 3696,
    "start_time": "2023-01-19T21:21:35.498Z"
   },
   {
    "duration": 13,
    "start_time": "2023-01-19T21:21:39.196Z"
   },
   {
    "duration": 60,
    "start_time": "2023-01-19T21:21:39.211Z"
   },
   {
    "duration": 13,
    "start_time": "2023-01-19T21:21:41.877Z"
   },
   {
    "duration": 3,
    "start_time": "2023-01-19T21:21:44.194Z"
   },
   {
    "duration": 2,
    "start_time": "2023-01-19T21:21:45.358Z"
   },
   {
    "duration": 10043,
    "start_time": "2023-01-19T21:21:49.180Z"
   },
   {
    "duration": 4,
    "start_time": "2023-01-19T21:22:11.561Z"
   },
   {
    "duration": 2,
    "start_time": "2023-01-19T21:22:15.678Z"
   },
   {
    "duration": 2825,
    "start_time": "2023-01-19T21:22:17.063Z"
   },
   {
    "duration": 30,
    "start_time": "2023-01-19T21:22:21.720Z"
   },
   {
    "duration": 89,
    "start_time": "2023-01-19T21:22:42.964Z"
   },
   {
    "duration": 129,
    "start_time": "2023-01-19T21:23:08.529Z"
   },
   {
    "duration": 4680,
    "start_time": "2023-01-19T21:23:24.232Z"
   },
   {
    "duration": 3220,
    "start_time": "2023-01-19T21:23:28.914Z"
   },
   {
    "duration": 4,
    "start_time": "2023-01-19T21:23:32.135Z"
   },
   {
    "duration": 73,
    "start_time": "2023-01-19T21:23:32.142Z"
   },
   {
    "duration": 28,
    "start_time": "2023-01-19T21:23:32.217Z"
   },
   {
    "duration": 29,
    "start_time": "2023-01-19T21:23:32.247Z"
   },
   {
    "duration": 252,
    "start_time": "2023-01-19T21:23:32.279Z"
   },
   {
    "duration": 29,
    "start_time": "2023-01-19T21:23:32.532Z"
   },
   {
    "duration": 10,
    "start_time": "2023-01-19T21:23:32.563Z"
   },
   {
    "duration": 27,
    "start_time": "2023-01-19T21:23:32.576Z"
   },
   {
    "duration": 498,
    "start_time": "2023-01-19T21:23:32.605Z"
   },
   {
    "duration": 3,
    "start_time": "2023-01-19T21:23:33.104Z"
   },
   {
    "duration": 1138595,
    "start_time": "2023-01-19T21:23:33.109Z"
   },
   {
    "duration": 4100,
    "start_time": "2023-01-19T21:42:31.706Z"
   },
   {
    "duration": 3,
    "start_time": "2023-01-19T21:42:35.808Z"
   },
   {
    "duration": 32,
    "start_time": "2023-01-19T21:42:35.813Z"
   },
   {
    "duration": 6,
    "start_time": "2023-01-19T21:42:35.847Z"
   },
   {
    "duration": 10,
    "start_time": "2023-01-19T21:42:35.855Z"
   },
   {
    "duration": 50,
    "start_time": "2023-01-19T21:42:35.867Z"
   },
   {
    "duration": 18,
    "start_time": "2023-01-19T21:42:35.918Z"
   },
   {
    "duration": 6,
    "start_time": "2023-01-19T21:42:35.938Z"
   },
   {
    "duration": 50,
    "start_time": "2023-01-19T21:42:35.946Z"
   },
   {
    "duration": 23,
    "start_time": "2023-01-19T21:42:35.997Z"
   },
   {
    "duration": 20,
    "start_time": "2023-01-19T21:42:36.022Z"
   },
   {
    "duration": 142,
    "start_time": "2023-01-19T21:42:36.043Z"
   },
   {
    "duration": 8359,
    "start_time": "2023-01-19T21:42:36.187Z"
   },
   {
    "duration": 8581,
    "start_time": "2023-01-19T21:42:44.548Z"
   },
   {
    "duration": 623,
    "start_time": "2023-01-19T21:42:53.134Z"
   },
   {
    "duration": 2,
    "start_time": "2023-01-19T21:42:53.759Z"
   },
   {
    "duration": 16,
    "start_time": "2023-01-19T21:42:53.763Z"
   },
   {
    "duration": 3,
    "start_time": "2023-01-19T21:42:53.781Z"
   },
   {
    "duration": 3683,
    "start_time": "2023-01-19T21:42:53.786Z"
   },
   {
    "duration": 8,
    "start_time": "2023-01-19T21:42:57.471Z"
   },
   {
    "duration": 57,
    "start_time": "2023-01-19T21:42:57.481Z"
   },
   {
    "duration": 13,
    "start_time": "2023-01-19T21:42:57.539Z"
   },
   {
    "duration": 2,
    "start_time": "2023-01-19T21:42:57.554Z"
   },
   {
    "duration": 7,
    "start_time": "2023-01-19T21:42:57.558Z"
   },
   {
    "duration": 10033,
    "start_time": "2023-01-19T21:42:57.567Z"
   },
   {
    "duration": 5,
    "start_time": "2023-01-19T21:43:07.603Z"
   },
   {
    "duration": 7,
    "start_time": "2023-01-19T21:43:07.609Z"
   },
   {
    "duration": 9490,
    "start_time": "2023-01-19T21:43:07.618Z"
   }
  ],
  "kernelspec": {
   "display_name": "Python 3 (ipykernel)",
   "language": "python",
   "name": "python3"
  },
  "language_info": {
   "codemirror_mode": {
    "name": "ipython",
    "version": 3
   },
   "file_extension": ".py",
   "mimetype": "text/x-python",
   "name": "python",
   "nbconvert_exporter": "python",
   "pygments_lexer": "ipython3",
   "version": "3.9.13"
  },
  "toc": {
   "base_numbering": 1,
   "nav_menu": {},
   "number_sections": true,
   "sideBar": true,
   "skip_h1_title": true,
   "title_cell": "Содержание",
   "title_sidebar": "Contents",
   "toc_cell": true,
   "toc_position": {
    "height": "559.2px",
    "left": "22px",
    "top": "110.533px",
    "width": "302.383px"
   },
   "toc_section_display": true,
   "toc_window_display": true
  }
 },
 "nbformat": 4,
 "nbformat_minor": 2
}
